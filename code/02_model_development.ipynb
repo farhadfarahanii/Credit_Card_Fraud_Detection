{
 "cells": [
  {
   "cell_type": "markdown",
   "id": "d9879f63",
   "metadata": {},
   "source": [
    "## Imports"
   ]
  },
  {
   "cell_type": "code",
   "execution_count": 13,
   "id": "662c8590",
   "metadata": {},
   "outputs": [],
   "source": [
    "import pandas as pd\n",
    "import numpy as np\n",
    "import seaborn as sns\n",
    "import matplotlib.pyplot as plt\n",
    "import plotly.express as px\n",
    "import plotly.graph_objects as go\n",
    "from sklearn.model_selection import train_test_split\n",
    "from catboost import CatBoostClassifier\n",
    "from sklearn.metrics import classification_report\n",
    "from sklearn.metrics import recall_score, precision_score, accuracy_score, f1_score, confusion_matrix, ConfusionMatrixDisplay"
   ]
  },
  {
   "cell_type": "markdown",
   "id": "48eb2bb3",
   "metadata": {},
   "source": [
    "## Load Data"
   ]
  },
  {
   "cell_type": "code",
   "execution_count": 2,
   "id": "6154ed99",
   "metadata": {},
   "outputs": [],
   "source": [
    "# Determine the data path\n",
    "data_path = \"../data/final_df.csv\""
   ]
  },
  {
   "cell_type": "code",
   "execution_count": 3,
   "id": "ea77ce77",
   "metadata": {},
   "outputs": [
    {
     "data": {
      "text/html": [
       "<div>\n",
       "<style scoped>\n",
       "    .dataframe tbody tr th:only-of-type {\n",
       "        vertical-align: middle;\n",
       "    }\n",
       "\n",
       "    .dataframe tbody tr th {\n",
       "        vertical-align: top;\n",
       "    }\n",
       "\n",
       "    .dataframe thead th {\n",
       "        text-align: right;\n",
       "    }\n",
       "</style>\n",
       "<table border=\"1\" class=\"dataframe\">\n",
       "  <thead>\n",
       "    <tr style=\"text-align: right;\">\n",
       "      <th></th>\n",
       "      <th>cardholder_name</th>\n",
       "      <th>card_number</th>\n",
       "      <th>card_type</th>\n",
       "      <th>merchant_name</th>\n",
       "      <th>merchant_category</th>\n",
       "      <th>merchant_state</th>\n",
       "      <th>merchant_city</th>\n",
       "      <th>transaction_amount</th>\n",
       "      <th>merchant_category_code</th>\n",
       "      <th>fraud_flag</th>\n",
       "    </tr>\n",
       "  </thead>\n",
       "  <tbody>\n",
       "    <tr>\n",
       "      <th>0</th>\n",
       "      <td>Meagan Smith</td>\n",
       "      <td>4408914864277480</td>\n",
       "      <td>visa</td>\n",
       "      <td>KFC</td>\n",
       "      <td>Fast Food</td>\n",
       "      <td>New Jersey</td>\n",
       "      <td>Jersey City</td>\n",
       "      <td>38.055684</td>\n",
       "      <td>MCC 5814</td>\n",
       "      <td>0</td>\n",
       "    </tr>\n",
       "    <tr>\n",
       "      <th>1</th>\n",
       "      <td>Miss Vanessa Briggs MD</td>\n",
       "      <td>4533948622139044</td>\n",
       "      <td>visa</td>\n",
       "      <td>McDonald's</td>\n",
       "      <td>Fast Food</td>\n",
       "      <td>Montana</td>\n",
       "      <td>Missoula</td>\n",
       "      <td>11.516379</td>\n",
       "      <td>MCC 5814</td>\n",
       "      <td>0</td>\n",
       "    </tr>\n",
       "    <tr>\n",
       "      <th>2</th>\n",
       "      <td>Casey Lyons</td>\n",
       "      <td>4350240875308199</td>\n",
       "      <td>visa</td>\n",
       "      <td>Domino's Pizza</td>\n",
       "      <td>Fast Food</td>\n",
       "      <td>Ohio</td>\n",
       "      <td>Cleveland</td>\n",
       "      <td>12.739792</td>\n",
       "      <td>MCC 5814</td>\n",
       "      <td>0</td>\n",
       "    </tr>\n",
       "    <tr>\n",
       "      <th>3</th>\n",
       "      <td>Cynthia Munoz</td>\n",
       "      <td>4756687869818916</td>\n",
       "      <td>visa</td>\n",
       "      <td>McDonald's</td>\n",
       "      <td>Fast Food</td>\n",
       "      <td>Massachusetts</td>\n",
       "      <td>Worcester</td>\n",
       "      <td>20.899888</td>\n",
       "      <td>MCC 5814</td>\n",
       "      <td>0</td>\n",
       "    </tr>\n",
       "    <tr>\n",
       "      <th>4</th>\n",
       "      <td>Lynn Pham</td>\n",
       "      <td>4813038430033752</td>\n",
       "      <td>visa</td>\n",
       "      <td>Papa John's</td>\n",
       "      <td>Fast Food</td>\n",
       "      <td>Minnesota</td>\n",
       "      <td>Saint Paul</td>\n",
       "      <td>11.073323</td>\n",
       "      <td>MCC 5814</td>\n",
       "      <td>0</td>\n",
       "    </tr>\n",
       "  </tbody>\n",
       "</table>\n",
       "</div>"
      ],
      "text/plain": [
       "          cardholder_name       card_number card_type   merchant_name  \\\n",
       "0            Meagan Smith  4408914864277480      visa             KFC   \n",
       "1  Miss Vanessa Briggs MD  4533948622139044      visa      McDonald's   \n",
       "2             Casey Lyons  4350240875308199      visa  Domino's Pizza   \n",
       "3           Cynthia Munoz  4756687869818916      visa      McDonald's   \n",
       "4               Lynn Pham  4813038430033752      visa     Papa John's   \n",
       "\n",
       "  merchant_category merchant_state merchant_city  transaction_amount  \\\n",
       "0         Fast Food     New Jersey   Jersey City           38.055684   \n",
       "1         Fast Food        Montana      Missoula           11.516379   \n",
       "2         Fast Food           Ohio     Cleveland           12.739792   \n",
       "3         Fast Food  Massachusetts     Worcester           20.899888   \n",
       "4         Fast Food      Minnesota    Saint Paul           11.073323   \n",
       "\n",
       "  merchant_category_code  fraud_flag  \n",
       "0               MCC 5814           0  \n",
       "1               MCC 5814           0  \n",
       "2               MCC 5814           0  \n",
       "3               MCC 5814           0  \n",
       "4               MCC 5814           0  "
      ]
     },
     "execution_count": 3,
     "metadata": {},
     "output_type": "execute_result"
    }
   ],
   "source": [
    "# Load the dataset\n",
    "df = pd.read_csv(data_path).drop(columns='Unnamed: 0')\n",
    "df.head()"
   ]
  },
  {
   "cell_type": "markdown",
   "id": "53ddb9ce",
   "metadata": {},
   "source": [
    "## Train-Test Split"
   ]
  },
  {
   "cell_type": "code",
   "execution_count": 4,
   "id": "be1f4542",
   "metadata": {},
   "outputs": [
    {
     "name": "stdout",
     "output_type": "stream",
     "text": [
      "X shape ----------- (100000, 9)\n",
      "y shape ----------- (100000,)\n"
     ]
    }
   ],
   "source": [
    "# Define X features and y target\n",
    "X = df.drop(columns='fraud_flag')\n",
    "y = df['fraud_flag']\n",
    "\n",
    "print(f\"X shape ----------- {X.shape}\")\n",
    "print(f\"y shape ----------- {y.shape}\")\n",
    "\n",
    "# defining training and test Xs and ys\n",
    "X_train, X_test, y_train, y_test = train_test_split(X, y, test_size=0.8, random_state=42)"
   ]
  },
  {
   "cell_type": "markdown",
   "id": "41c949a5",
   "metadata": {},
   "source": [
    "## Baseline Score"
   ]
  },
  {
   "cell_type": "code",
   "execution_count": 5,
   "id": "d2976512",
   "metadata": {},
   "outputs": [
    {
     "data": {
      "text/plain": [
       "fraud_flag\n",
       "0    0.836638\n",
       "1    0.163362\n",
       "Name: proportion, dtype: float64"
      ]
     },
     "execution_count": 5,
     "metadata": {},
     "output_type": "execute_result"
    }
   ],
   "source": [
    "# Get the ratio of classes\n",
    "y_test.value_counts(normalize=True)"
   ]
  },
  {
   "cell_type": "markdown",
   "id": "73383855",
   "metadata": {},
   "source": [
    "**The baseline accuracy is 0.83 which is majority class**"
   ]
  },
  {
   "cell_type": "markdown",
   "id": "ef123208",
   "metadata": {},
   "source": [
    "## Catboost Model"
   ]
  },
  {
   "cell_type": "code",
   "execution_count": 6,
   "id": "1d9af3e5",
   "metadata": {},
   "outputs": [
    {
     "name": "stdout",
     "output_type": "stream",
     "text": [
      "Learning rate set to 0.305826\n",
      "0:\tlearn: 0.5616813\ttotal: 177ms\tremaining: 17.5s\n",
      "1:\tlearn: 0.4941059\ttotal: 209ms\tremaining: 10.2s\n",
      "2:\tlearn: 0.4566186\ttotal: 232ms\tremaining: 7.52s\n",
      "3:\tlearn: 0.4337771\ttotal: 259ms\tremaining: 6.21s\n",
      "4:\tlearn: 0.4207551\ttotal: 296ms\tremaining: 5.63s\n",
      "5:\tlearn: 0.4142735\ttotal: 331ms\tremaining: 5.18s\n",
      "6:\tlearn: 0.4103321\ttotal: 360ms\tremaining: 4.78s\n",
      "7:\tlearn: 0.4076980\ttotal: 416ms\tremaining: 4.78s\n",
      "8:\tlearn: 0.4065099\ttotal: 468ms\tremaining: 4.73s\n",
      "9:\tlearn: 0.4041282\ttotal: 520ms\tremaining: 4.68s\n",
      "10:\tlearn: 0.4029063\ttotal: 578ms\tremaining: 4.68s\n",
      "11:\tlearn: 0.4024610\ttotal: 601ms\tremaining: 4.41s\n",
      "12:\tlearn: 0.4019737\ttotal: 653ms\tremaining: 4.37s\n",
      "13:\tlearn: 0.4016988\ttotal: 707ms\tremaining: 4.34s\n",
      "14:\tlearn: 0.4012837\ttotal: 753ms\tremaining: 4.27s\n",
      "15:\tlearn: 0.4009987\ttotal: 806ms\tremaining: 4.23s\n",
      "16:\tlearn: 0.4008375\ttotal: 859ms\tremaining: 4.2s\n",
      "17:\tlearn: 0.4007108\ttotal: 914ms\tremaining: 4.16s\n",
      "18:\tlearn: 0.4006068\ttotal: 952ms\tremaining: 4.06s\n",
      "19:\tlearn: 0.4005645\ttotal: 996ms\tremaining: 3.98s\n",
      "20:\tlearn: 0.4003217\ttotal: 1.04s\tremaining: 3.91s\n",
      "21:\tlearn: 0.4001374\ttotal: 1.07s\tremaining: 3.8s\n",
      "22:\tlearn: 0.4000656\ttotal: 1.1s\tremaining: 3.67s\n",
      "23:\tlearn: 0.4000499\ttotal: 1.13s\tremaining: 3.59s\n",
      "24:\tlearn: 0.3998392\ttotal: 1.17s\tremaining: 3.5s\n",
      "25:\tlearn: 0.3997218\ttotal: 1.2s\tremaining: 3.42s\n",
      "26:\tlearn: 0.3995676\ttotal: 1.23s\tremaining: 3.34s\n",
      "27:\tlearn: 0.3993030\ttotal: 1.29s\tremaining: 3.32s\n",
      "28:\tlearn: 0.3992584\ttotal: 1.33s\tremaining: 3.25s\n",
      "29:\tlearn: 0.3991504\ttotal: 1.37s\tremaining: 3.19s\n",
      "30:\tlearn: 0.3990108\ttotal: 1.41s\tremaining: 3.14s\n",
      "31:\tlearn: 0.3989938\ttotal: 1.45s\tremaining: 3.08s\n",
      "32:\tlearn: 0.3987605\ttotal: 1.48s\tremaining: 3s\n",
      "33:\tlearn: 0.3985660\ttotal: 1.51s\tremaining: 2.94s\n",
      "34:\tlearn: 0.3983159\ttotal: 1.56s\tremaining: 2.9s\n",
      "35:\tlearn: 0.3981938\ttotal: 1.6s\tremaining: 2.84s\n",
      "36:\tlearn: 0.3980153\ttotal: 1.63s\tremaining: 2.78s\n",
      "37:\tlearn: 0.3978190\ttotal: 1.68s\tremaining: 2.73s\n",
      "38:\tlearn: 0.3977794\ttotal: 1.71s\tremaining: 2.68s\n",
      "39:\tlearn: 0.3977110\ttotal: 1.77s\tremaining: 2.65s\n",
      "40:\tlearn: 0.3975498\ttotal: 1.81s\tremaining: 2.61s\n",
      "41:\tlearn: 0.3974831\ttotal: 1.86s\tremaining: 2.58s\n",
      "42:\tlearn: 0.3972556\ttotal: 1.9s\tremaining: 2.52s\n",
      "43:\tlearn: 0.3971803\ttotal: 1.94s\tremaining: 2.47s\n",
      "44:\tlearn: 0.3971324\ttotal: 1.98s\tremaining: 2.41s\n",
      "45:\tlearn: 0.3970383\ttotal: 2.02s\tremaining: 2.37s\n",
      "46:\tlearn: 0.3968960\ttotal: 2.06s\tremaining: 2.33s\n",
      "47:\tlearn: 0.3968874\ttotal: 2.12s\tremaining: 2.29s\n",
      "48:\tlearn: 0.3966982\ttotal: 2.17s\tremaining: 2.26s\n",
      "49:\tlearn: 0.3964280\ttotal: 2.22s\tremaining: 2.22s\n",
      "50:\tlearn: 0.3963028\ttotal: 2.27s\tremaining: 2.18s\n",
      "51:\tlearn: 0.3961896\ttotal: 2.32s\tremaining: 2.14s\n",
      "52:\tlearn: 0.3960348\ttotal: 2.38s\tremaining: 2.11s\n",
      "53:\tlearn: 0.3959455\ttotal: 2.43s\tremaining: 2.07s\n",
      "54:\tlearn: 0.3959298\ttotal: 2.48s\tremaining: 2.03s\n",
      "55:\tlearn: 0.3957913\ttotal: 2.54s\tremaining: 1.99s\n",
      "56:\tlearn: 0.3957830\ttotal: 2.58s\tremaining: 1.95s\n",
      "57:\tlearn: 0.3957766\ttotal: 2.64s\tremaining: 1.91s\n",
      "58:\tlearn: 0.3957608\ttotal: 2.69s\tremaining: 1.87s\n",
      "59:\tlearn: 0.3956764\ttotal: 2.73s\tremaining: 1.82s\n",
      "60:\tlearn: 0.3956231\ttotal: 2.78s\tremaining: 1.78s\n",
      "61:\tlearn: 0.3955182\ttotal: 2.83s\tremaining: 1.74s\n",
      "62:\tlearn: 0.3954802\ttotal: 2.89s\tremaining: 1.7s\n",
      "63:\tlearn: 0.3953774\ttotal: 2.94s\tremaining: 1.65s\n",
      "64:\tlearn: 0.3953714\ttotal: 2.99s\tremaining: 1.61s\n",
      "65:\tlearn: 0.3952801\ttotal: 3.04s\tremaining: 1.57s\n",
      "66:\tlearn: 0.3952653\ttotal: 3.09s\tremaining: 1.52s\n",
      "67:\tlearn: 0.3951811\ttotal: 3.14s\tremaining: 1.48s\n",
      "68:\tlearn: 0.3950721\ttotal: 3.18s\tremaining: 1.43s\n",
      "69:\tlearn: 0.3950666\ttotal: 3.22s\tremaining: 1.38s\n",
      "70:\tlearn: 0.3950604\ttotal: 3.27s\tremaining: 1.33s\n",
      "71:\tlearn: 0.3950499\ttotal: 3.32s\tremaining: 1.29s\n",
      "72:\tlearn: 0.3949588\ttotal: 3.38s\tremaining: 1.25s\n",
      "73:\tlearn: 0.3949214\ttotal: 3.42s\tremaining: 1.2s\n",
      "74:\tlearn: 0.3949055\ttotal: 3.45s\tremaining: 1.15s\n",
      "75:\tlearn: 0.3947132\ttotal: 3.49s\tremaining: 1.1s\n",
      "76:\tlearn: 0.3945452\ttotal: 3.53s\tremaining: 1.05s\n",
      "77:\tlearn: 0.3943305\ttotal: 3.56s\tremaining: 1s\n",
      "78:\tlearn: 0.3942579\ttotal: 3.6s\tremaining: 957ms\n",
      "79:\tlearn: 0.3942249\ttotal: 3.64s\tremaining: 909ms\n",
      "80:\tlearn: 0.3940391\ttotal: 3.68s\tremaining: 864ms\n",
      "81:\tlearn: 0.3939056\ttotal: 3.73s\tremaining: 820ms\n",
      "82:\tlearn: 0.3938612\ttotal: 3.78s\tremaining: 775ms\n",
      "83:\tlearn: 0.3937652\ttotal: 3.83s\tremaining: 729ms\n",
      "84:\tlearn: 0.3937036\ttotal: 3.89s\tremaining: 686ms\n",
      "85:\tlearn: 0.3935923\ttotal: 3.94s\tremaining: 641ms\n",
      "86:\tlearn: 0.3935410\ttotal: 3.99s\tremaining: 596ms\n",
      "87:\tlearn: 0.3934670\ttotal: 4.03s\tremaining: 550ms\n",
      "88:\tlearn: 0.3934079\ttotal: 4.08s\tremaining: 505ms\n",
      "89:\tlearn: 0.3933340\ttotal: 4.14s\tremaining: 460ms\n",
      "90:\tlearn: 0.3932528\ttotal: 4.19s\tremaining: 414ms\n",
      "91:\tlearn: 0.3932489\ttotal: 4.24s\tremaining: 368ms\n",
      "92:\tlearn: 0.3932308\ttotal: 4.29s\tremaining: 323ms\n",
      "93:\tlearn: 0.3931997\ttotal: 4.33s\tremaining: 276ms\n",
      "94:\tlearn: 0.3931391\ttotal: 4.38s\tremaining: 231ms\n",
      "95:\tlearn: 0.3929699\ttotal: 4.44s\tremaining: 185ms\n",
      "96:\tlearn: 0.3929028\ttotal: 4.48s\tremaining: 139ms\n",
      "97:\tlearn: 0.3928864\ttotal: 4.54s\tremaining: 92.6ms\n",
      "98:\tlearn: 0.3926936\ttotal: 4.59s\tremaining: 46.4ms\n",
      "99:\tlearn: 0.3926569\ttotal: 4.64s\tremaining: 0us\n",
      "Accuracy score is: 0.8568\n"
     ]
    }
   ],
   "source": [
    "# Specify categorical features\n",
    "cats = ['cardholder_name', 'card_number', 'card_type', 'merchant_name', 'merchant_category',\n",
    "       'merchant_state', 'merchant_city', 'merchant_category_code']\n",
    "\n",
    "# Instatiate the model\n",
    "cb = CatBoostClassifier(iterations=100, cat_features=cats, random_state=42)\n",
    "\n",
    "# Fit the model\n",
    "cb.fit(X_train, y_train)\n",
    "\n",
    "# Get the accuracy score\n",
    "print(f\"Accuracy score is: {cb.score(X_train, y_train)}\")"
   ]
  },
  {
   "cell_type": "markdown",
   "id": "172d8c46",
   "metadata": {},
   "source": [
    "## The Model Evaluation"
   ]
  },
  {
   "cell_type": "code",
   "execution_count": 14,
   "id": "c3ef7069",
   "metadata": {},
   "outputs": [
    {
     "name": "stdout",
     "output_type": "stream",
     "text": [
      "======= Evaluation Metrics =======\n",
      "Accuracy -------------- 0.8573625\n",
      "Precision ------------- 0.6531781226903178\n",
      "Sensitivity ----------- 0.2704874129619711\n",
      "Specifity ------------- 0.9719561936920111\n",
      "F1 score -------------- 0.3825550565445593\n"
     ]
    },
    {
     "data": {
      "image/png": "[encoded data removed]",
      "text/plain": [
       "<Figure size 640x480 with 2 Axes>"
      ]
     },
     "metadata": {},
     "output_type": "display_data"
    }
   ],
   "source": [
    "# Confusion matrix values\n",
    "tn, fp, fn, tp = confusion_matrix(y_test, preds).ravel()\n",
    "\n",
    "# Get prediction \n",
    "preds = cb.predict(X_test)\n",
    "\n",
    "# Compute confusion matrix \n",
    "conf_matrix = confusion_matrix(y_test, preds)\n",
    "\n",
    "# Create display confusion matrix\n",
    "disp = ConfusionMatrixDisplay(confusion_matrix=conf_matrix)\n",
    "disp.plot(values_format='d', cmap=plt.cm.Blues)\n",
    "\n",
    "# Define the title\n",
    "plt.title(f\"The Confusion Matrix of Catboost Model\");\n",
    "\n",
    "print(f\" Evaluation Metrics \".center(34, \"=\"))\n",
    "print(f\"Accuracy -------------- {accuracy_score(y_test, preds)}\")\n",
    "print(f\"Precision ------------- {precision_score(y_test, preds)}\")\n",
    "print(f\"Sensitivity ----------- {recall_score(y_test, preds)}\")\n",
    "print(f\"Specifity ------------- {tn/(tn+fp)}\")\n",
    "print(f\"F1 score -------------- {f1_score(y_test, preds)}\")"
   ]
  },
  {
   "cell_type": "markdown",
   "id": "cd1606e9-490e-4644-8a6e-6fbb6898b771",
   "metadata": {},
   "source": [
    "## The Model Feature Importance"
   ]
  },
  {
   "cell_type": "code",
   "execution_count": 18,
   "id": "d98ea336-c08a-4741-a895-f6b0387b9b85",
   "metadata": {},
   "outputs": [
    {
     "data": {
      "application/vnd.plotly.v1+json": {
       "config": {
        "plotlyServerURL": "https://plot.ly"
       },
       "data": [
        {
         "type": "bar",
         "x": [
          "merchant_state",
          "transaction_amount",
          "merchant_city",
          "cardholder_name",
          "merchant_name",
          "card_type",
          "merchant_category_code",
          "merchant_category",
          "card_number"
         ],
         "y": [
          44.58841997456161,
          18.222316027487825,
          13.921556267113855,
          10.791450685396256,
          7.14674244793367,
          2.381191283799081,
          1.725901571896573,
          1.2224217418111516,
          0
         ]
        }
       ],
       "layout": {
        "autosize": true,
        "template": {
         "data": {
          "bar": [
           {
            "error_x": {
             "color": "#2a3f5f"
            },
            "error_y": {
             "color": "#2a3f5f"
            },
            "marker": {
             "line": {
              "color": "#E5ECF6",
              "width": 0.5
             },
             "pattern": {
              "fillmode": "overlay",
              "size": 10,
              "solidity": 0.2
             }
            },
            "type": "bar"
           }
          ],
          "barpolar": [
           {
            "marker": {
             "line": {
              "color": "#E5ECF6",
              "width": 0.5
             },
             "pattern": {
              "fillmode": "overlay",
              "size": 10,
              "solidity": 0.2
             }
            },
            "type": "barpolar"
           }
          ],
          "carpet": [
           {
            "aaxis": {
             "endlinecolor": "#2a3f5f",
             "gridcolor": "white",
             "linecolor": "white",
             "minorgridcolor": "white",
             "startlinecolor": "#2a3f5f"
            },
            "baxis": {
             "endlinecolor": "#2a3f5f",
             "gridcolor": "white",
             "linecolor": "white",
             "minorgridcolor": "white",
             "startlinecolor": "#2a3f5f"
            },
            "type": "carpet"
           }
          ],
          "choropleth": [
           {
            "colorbar": {
             "outlinewidth": 0,
             "ticks": ""
            },
            "type": "choropleth"
           }
          ],
          "contour": [
           {
            "colorbar": {
             "outlinewidth": 0,
             "ticks": ""
            },
            "colorscale": [
             [
              0,
              "#0d0887"
             ],
             [
              0.1111111111111111,
              "#46039f"
             ],
             [
              0.2222222222222222,
              "#7201a8"
             ],
             [
              0.3333333333333333,
              "#9c179e"
             ],
             [
              0.4444444444444444,
              "#bd3786"
             ],
             [
              0.5555555555555556,
              "#d8576b"
             ],
             [
              0.6666666666666666,
              "#ed7953"
             ],
             [
              0.7777777777777778,
              "#fb9f3a"
             ],
             [
              0.8888888888888888,
              "#fdca26"
             ],
             [
              1,
              "#f0f921"
             ]
            ],
            "type": "contour"
           }
          ],
          "contourcarpet": [
           {
            "colorbar": {
             "outlinewidth": 0,
             "ticks": ""
            },
            "type": "contourcarpet"
           }
          ],
          "heatmap": [
           {
            "colorbar": {
             "outlinewidth": 0,
             "ticks": ""
            },
            "colorscale": [
             [
              0,
              "#0d0887"
             ],
             [
              0.1111111111111111,
              "#46039f"
             ],
             [
              0.2222222222222222,
              "#7201a8"
             ],
             [
              0.3333333333333333,
              "#9c179e"
             ],
             [
              0.4444444444444444,
              "#bd3786"
             ],
             [
              0.5555555555555556,
              "#d8576b"
             ],
             [
              0.6666666666666666,
              "#ed7953"
             ],
             [
              0.7777777777777778,
              "#fb9f3a"
             ],
             [
              0.8888888888888888,
              "#fdca26"
             ],
             [
              1,
              "#f0f921"
             ]
            ],
            "type": "heatmap"
           }
          ],
          "heatmapgl": [
           {
            "colorbar": {
             "outlinewidth": 0,
             "ticks": ""
            },
            "colorscale": [
             [
              0,
              "#0d0887"
             ],
             [
              0.1111111111111111,
              "#46039f"
             ],
             [
              0.2222222222222222,
              "#7201a8"
             ],
             [
              0.3333333333333333,
              "#9c179e"
             ],
             [
              0.4444444444444444,
              "#bd3786"
             ],
             [
              0.5555555555555556,
              "#d8576b"
             ],
             [
              0.6666666666666666,
              "#ed7953"
             ],
             [
              0.7777777777777778,
              "#fb9f3a"
             ],
             [
              0.8888888888888888,
              "#fdca26"
             ],
             [
              1,
              "#f0f921"
             ]
            ],
            "type": "heatmapgl"
           }
          ],
          "histogram": [
           {
            "marker": {
             "pattern": {
              "fillmode": "overlay",
              "size": 10,
              "solidity": 0.2
             }
            },
            "type": "histogram"
           }
          ],
          "histogram2d": [
           {
            "colorbar": {
             "outlinewidth": 0,
             "ticks": ""
            },
            "colorscale": [
             [
              0,
              "#0d0887"
             ],
             [
              0.1111111111111111,
              "#46039f"
             ],
             [
              0.2222222222222222,
              "#7201a8"
             ],
             [
              0.3333333333333333,
              "#9c179e"
             ],
             [
              0.4444444444444444,
              "#bd3786"
             ],
             [
              0.5555555555555556,
              "#d8576b"
             ],
             [
              0.6666666666666666,
              "#ed7953"
             ],
             [
              0.7777777777777778,
              "#fb9f3a"
             ],
             [
              0.8888888888888888,
              "#fdca26"
             ],
             [
              1,
              "#f0f921"
             ]
            ],
            "type": "histogram2d"
           }
          ],
          "histogram2dcontour": [
           {
            "colorbar": {
             "outlinewidth": 0,
             "ticks": ""
            },
            "colorscale": [
             [
              0,
              "#0d0887"
             ],
             [
              0.1111111111111111,
              "#46039f"
             ],
             [
              0.2222222222222222,
              "#7201a8"
             ],
             [
              0.3333333333333333,
              "#9c179e"
             ],
             [
              0.4444444444444444,
              "#bd3786"
             ],
             [
              0.5555555555555556,
              "#d8576b"
             ],
             [
              0.6666666666666666,
              "#ed7953"
             ],
             [
              0.7777777777777778,
              "#fb9f3a"
             ],
             [
              0.8888888888888888,
              "#fdca26"
             ],
             [
              1,
              "#f0f921"
             ]
            ],
            "type": "histogram2dcontour"
           }
          ],
          "mesh3d": [
           {
            "colorbar": {
             "outlinewidth": 0,
             "ticks": ""
            },
            "type": "mesh3d"
           }
          ],
          "parcoords": [
           {
            "line": {
             "colorbar": {
              "outlinewidth": 0,
              "ticks": ""
             }
            },
            "type": "parcoords"
           }
          ],
          "pie": [
           {
            "automargin": true,
            "type": "pie"
           }
          ],
          "scatter": [
           {
            "fillpattern": {
             "fillmode": "overlay",
             "size": 10,
             "solidity": 0.2
            },
            "type": "scatter"
           }
          ],
          "scatter3d": [
           {
            "line": {
             "colorbar": {
              "outlinewidth": 0,
              "ticks": ""
             }
            },
            "marker": {
             "colorbar": {
              "outlinewidth": 0,
              "ticks": ""
             }
            },
            "type": "scatter3d"
           }
          ],
          "scattercarpet": [
           {
            "marker": {
             "colorbar": {
              "outlinewidth": 0,
              "ticks": ""
             }
            },
            "type": "scattercarpet"
           }
          ],
          "scattergeo": [
           {
            "marker": {
             "colorbar": {
              "outlinewidth": 0,
              "ticks": ""
             }
            },
            "type": "scattergeo"
           }
          ],
          "scattergl": [
           {
            "marker": {
             "colorbar": {
              "outlinewidth": 0,
              "ticks": ""
             }
            },
            "type": "scattergl"
           }
          ],
          "scattermapbox": [
           {
            "marker": {
             "colorbar": {
              "outlinewidth": 0,
              "ticks": ""
             }
            },
            "type": "scattermapbox"
           }
          ],
          "scatterpolar": [
           {
            "marker": {
             "colorbar": {
              "outlinewidth": 0,
              "ticks": ""
             }
            },
            "type": "scatterpolar"
           }
          ],
          "scatterpolargl": [
           {
            "marker": {
             "colorbar": {
              "outlinewidth": 0,
              "ticks": ""
             }
            },
            "type": "scatterpolargl"
           }
          ],
          "scatterternary": [
           {
            "marker": {
             "colorbar": {
              "outlinewidth": 0,
              "ticks": ""
             }
            },
            "type": "scatterternary"
           }
          ],
          "surface": [
           {
            "colorbar": {
             "outlinewidth": 0,
             "ticks": ""
            },
            "colorscale": [
             [
              0,
              "#0d0887"
             ],
             [
              0.1111111111111111,
              "#46039f"
             ],
             [
              0.2222222222222222,
              "#7201a8"
             ],
             [
              0.3333333333333333,
              "#9c179e"
             ],
             [
              0.4444444444444444,
              "#bd3786"
             ],
             [
              0.5555555555555556,
              "#d8576b"
             ],
             [
              0.6666666666666666,
              "#ed7953"
             ],
             [
              0.7777777777777778,
              "#fb9f3a"
             ],
             [
              0.8888888888888888,
              "#fdca26"
             ],
             [
              1,
              "#f0f921"
             ]
            ],
            "type": "surface"
           }
          ],
          "table": [
           {
            "cells": {
             "fill": {
              "color": "#EBF0F8"
             },
             "line": {
              "color": "white"
             }
            },
            "header": {
             "fill": {
              "color": "#C8D4E3"
             },
             "line": {
              "color": "white"
             }
            },
            "type": "table"
           }
          ]
         },
         "layout": {
          "annotationdefaults": {
           "arrowcolor": "#2a3f5f",
           "arrowhead": 0,
           "arrowwidth": 1
          },
          "autotypenumbers": "strict",
          "coloraxis": {
           "colorbar": {
            "outlinewidth": 0,
            "ticks": ""
           }
          },
          "colorscale": {
           "diverging": [
            [
             0,
             "#8e0152"
            ],
            [
             0.1,
             "#c51b7d"
            ],
            [
             0.2,
             "#de77ae"
            ],
            [
             0.3,
             "#f1b6da"
            ],
            [
             0.4,
             "#fde0ef"
            ],
            [
             0.5,
             "#f7f7f7"
            ],
            [
             0.6,
             "#e6f5d0"
            ],
            [
             0.7,
             "#b8e186"
            ],
            [
             0.8,
             "#7fbc41"
            ],
            [
             0.9,
             "#4d9221"
            ],
            [
             1,
             "#276419"
            ]
           ],
           "sequential": [
            [
             0,
             "#0d0887"
            ],
            [
             0.1111111111111111,
             "#46039f"
            ],
            [
             0.2222222222222222,
             "#7201a8"
            ],
            [
             0.3333333333333333,
             "#9c179e"
            ],
            [
             0.4444444444444444,
             "#bd3786"
            ],
            [
             0.5555555555555556,
             "#d8576b"
            ],
            [
             0.6666666666666666,
             "#ed7953"
            ],
            [
             0.7777777777777778,
             "#fb9f3a"
            ],
            [
             0.8888888888888888,
             "#fdca26"
            ],
            [
             1,
             "#f0f921"
            ]
           ],
           "sequentialminus": [
            [
             0,
             "#0d0887"
            ],
            [
             0.1111111111111111,
             "#46039f"
            ],
            [
             0.2222222222222222,
             "#7201a8"
            ],
            [
             0.3333333333333333,
             "#9c179e"
            ],
            [
             0.4444444444444444,
             "#bd3786"
            ],
            [
             0.5555555555555556,
             "#d8576b"
            ],
            [
             0.6666666666666666,
             "#ed7953"
            ],
            [
             0.7777777777777778,
             "#fb9f3a"
            ],
            [
             0.8888888888888888,
             "#fdca26"
            ],
            [
             1,
             "#f0f921"
            ]
           ]
          },
          "colorway": [
           "#636efa",
           "#EF553B",
           "#00cc96",
           "#ab63fa",
           "#FFA15A",
           "#19d3f3",
           "#FF6692",
           "#B6E880",
           "#FF97FF",
           "#FECB52"
          ],
          "font": {
           "color": "#2a3f5f"
          },
          "geo": {
           "bgcolor": "white",
           "lakecolor": "white",
           "landcolor": "#E5ECF6",
           "showlakes": true,
           "showland": true,
           "subunitcolor": "white"
          },
          "hoverlabel": {
           "align": "left"
          },
          "hovermode": "closest",
          "mapbox": {
           "style": "light"
          },
          "paper_bgcolor": "white",
          "plot_bgcolor": "#E5ECF6",
          "polar": {
           "angularaxis": {
            "gridcolor": "white",
            "linecolor": "white",
            "ticks": ""
           },
           "bgcolor": "#E5ECF6",
           "radialaxis": {
            "gridcolor": "white",
            "linecolor": "white",
            "ticks": ""
           }
          },
          "scene": {
           "xaxis": {
            "backgroundcolor": "#E5ECF6",
            "gridcolor": "white",
            "gridwidth": 2,
            "linecolor": "white",
            "showbackground": true,
            "ticks": "",
            "zerolinecolor": "white"
           },
           "yaxis": {
            "backgroundcolor": "#E5ECF6",
            "gridcolor": "white",
            "gridwidth": 2,
            "linecolor": "white",
            "showbackground": true,
            "ticks": "",
            "zerolinecolor": "white"
           },
           "zaxis": {
            "backgroundcolor": "#E5ECF6",
            "gridcolor": "white",
            "gridwidth": 2,
            "linecolor": "white",
            "showbackground": true,
            "ticks": "",
            "zerolinecolor": "white"
           }
          },
          "shapedefaults": {
           "line": {
            "color": "#2a3f5f"
           }
          },
          "ternary": {
           "aaxis": {
            "gridcolor": "white",
            "linecolor": "white",
            "ticks": ""
           },
           "baxis": {
            "gridcolor": "white",
            "linecolor": "white",
            "ticks": ""
           },
           "bgcolor": "#E5ECF6",
           "caxis": {
            "gridcolor": "white",
            "linecolor": "white",
            "ticks": ""
           }
          },
          "title": {
           "x": 0.05
          },
          "xaxis": {
           "automargin": true,
           "gridcolor": "white",
           "linecolor": "white",
           "ticks": "",
           "title": {
            "standoff": 15
           },
           "zerolinecolor": "white",
           "zerolinewidth": 2
          },
          "yaxis": {
           "automargin": true,
           "gridcolor": "white",
           "linecolor": "white",
           "ticks": "",
           "title": {
            "standoff": 15
           },
           "zerolinecolor": "white",
           "zerolinewidth": 2
          }
         }
        },
        "title": {
         "text": "Catboost Model Feature Importances"
        },
        "xaxis": {
         "autorange": false,
         "range": [
          -0.5,
          8.490435706695006
         ],
         "tickangle": -45,
         "title": {
          "text": "Features"
         },
         "type": "category"
        },
        "yaxis": {
         "autorange": false,
         "range": [
          0,
          46.41391659342468
         ],
         "title": {
          "text": "Importance"
         },
         "type": "linear"
        }
       }
      },
      "image/png": "[encoded data removed]",
      "text/html": [
       "<div>                            <div id=\"ac3fa5b7-0339-44c3-b1b0-646dcc8a0d06\" class=\"plotly-graph-div\" style=\"height:525px; width:100%;\"></div>            <script type=\"text/javascript\">                require([\"plotly\"], function(Plotly) {                    window.PLOTLYENV=window.PLOTLYENV || {};                                    if (document.getElementById(\"ac3fa5b7-0339-44c3-b1b0-646dcc8a0d06\")) {                    Plotly.newPlot(                        \"ac3fa5b7-0339-44c3-b1b0-646dcc8a0d06\",                        [{\"x\":[\"merchant_state\",\"transaction_amount\",\"merchant_city\",\"cardholder_name\",\"merchant_name\",\"card_type\",\"merchant_category_code\",\"merchant_category\",\"card_number\"],\"y\":[44.58841997456161,18.222316027487825,13.921556267113855,10.791450685396256,7.14674244793367,2.381191283799081,1.725901571896573,1.2224217418111516,0.0],\"type\":\"bar\"}],                        {\"template\":{\"data\":{\"histogram2dcontour\":[{\"type\":\"histogram2dcontour\",\"colorbar\":{\"outlinewidth\":0,\"ticks\":\"\"},\"colorscale\":[[0.0,\"#0d0887\"],[0.1111111111111111,\"#46039f\"],[0.2222222222222222,\"#7201a8\"],[0.3333333333333333,\"#9c179e\"],[0.4444444444444444,\"#bd3786\"],[0.5555555555555556,\"#d8576b\"],[0.6666666666666666,\"#ed7953\"],[0.7777777777777778,\"#fb9f3a\"],[0.8888888888888888,\"#fdca26\"],[1.0,\"#f0f921\"]]}],\"choropleth\":[{\"type\":\"choropleth\",\"colorbar\":{\"outlinewidth\":0,\"ticks\":\"\"}}],\"histogram2d\":[{\"type\":\"histogram2d\",\"colorbar\":{\"outlinewidth\":0,\"ticks\":\"\"},\"colorscale\":[[0.0,\"#0d0887\"],[0.1111111111111111,\"#46039f\"],[0.2222222222222222,\"#7201a8\"],[0.3333333333333333,\"#9c179e\"],[0.4444444444444444,\"#bd3786\"],[0.5555555555555556,\"#d8576b\"],[0.6666666666666666,\"#ed7953\"],[0.7777777777777778,\"#fb9f3a\"],[0.8888888888888888,\"#fdca26\"],[1.0,\"#f0f921\"]]}],\"heatmap\":[{\"type\":\"heatmap\",\"colorbar\":{\"outlinewidth\":0,\"ticks\":\"\"},\"colorscale\":[[0.0,\"#0d0887\"],[0.1111111111111111,\"#46039f\"],[0.2222222222222222,\"#7201a8\"],[0.3333333333333333,\"#9c179e\"],[0.4444444444444444,\"#bd3786\"],[0.5555555555555556,\"#d8576b\"],[0.6666666666666666,\"#ed7953\"],[0.7777777777777778,\"#fb9f3a\"],[0.8888888888888888,\"#fdca26\"],[1.0,\"#f0f921\"]]}],\"heatmapgl\":[{\"type\":\"heatmapgl\",\"colorbar\":{\"outlinewidth\":0,\"ticks\":\"\"},\"colorscale\":[[0.0,\"#0d0887\"],[0.1111111111111111,\"#46039f\"],[0.2222222222222222,\"#7201a8\"],[0.3333333333333333,\"#9c179e\"],[0.4444444444444444,\"#bd3786\"],[0.5555555555555556,\"#d8576b\"],[0.6666666666666666,\"#ed7953\"],[0.7777777777777778,\"#fb9f3a\"],[0.8888888888888888,\"#fdca26\"],[1.0,\"#f0f921\"]]}],\"contourcarpet\":[{\"type\":\"contourcarpet\",\"colorbar\":{\"outlinewidth\":0,\"ticks\":\"\"}}],\"contour\":[{\"type\":\"contour\",\"colorbar\":{\"outlinewidth\":0,\"ticks\":\"\"},\"colorscale\":[[0.0,\"#0d0887\"],[0.1111111111111111,\"#46039f\"],[0.2222222222222222,\"#7201a8\"],[0.3333333333333333,\"#9c179e\"],[0.4444444444444444,\"#bd3786\"],[0.5555555555555556,\"#d8576b\"],[0.6666666666666666,\"#ed7953\"],[0.7777777777777778,\"#fb9f3a\"],[0.8888888888888888,\"#fdca26\"],[1.0,\"#f0f921\"]]}],\"surface\":[{\"type\":\"surface\",\"colorbar\":{\"outlinewidth\":0,\"ticks\":\"\"},\"colorscale\":[[0.0,\"#0d0887\"],[0.1111111111111111,\"#46039f\"],[0.2222222222222222,\"#7201a8\"],[0.3333333333333333,\"#9c179e\"],[0.4444444444444444,\"#bd3786\"],[0.5555555555555556,\"#d8576b\"],[0.6666666666666666,\"#ed7953\"],[0.7777777777777778,\"#fb9f3a\"],[0.8888888888888888,\"#fdca26\"],[1.0,\"#f0f921\"]]}],\"mesh3d\":[{\"type\":\"mesh3d\",\"colorbar\":{\"outlinewidth\":0,\"ticks\":\"\"}}],\"scatter\":[{\"fillpattern\":{\"fillmode\":\"overlay\",\"size\":10,\"solidity\":0.2},\"type\":\"scatter\"}],\"parcoords\":[{\"type\":\"parcoords\",\"line\":{\"colorbar\":{\"outlinewidth\":0,\"ticks\":\"\"}}}],\"scatterpolargl\":[{\"type\":\"scatterpolargl\",\"marker\":{\"colorbar\":{\"outlinewidth\":0,\"ticks\":\"\"}}}],\"bar\":[{\"error_x\":{\"color\":\"#2a3f5f\"},\"error_y\":{\"color\":\"#2a3f5f\"},\"marker\":{\"line\":{\"color\":\"#E5ECF6\",\"width\":0.5},\"pattern\":{\"fillmode\":\"overlay\",\"size\":10,\"solidity\":0.2}},\"type\":\"bar\"}],\"scattergeo\":[{\"type\":\"scattergeo\",\"marker\":{\"colorbar\":{\"outlinewidth\":0,\"ticks\":\"\"}}}],\"scatterpolar\":[{\"type\":\"scatterpolar\",\"marker\":{\"colorbar\":{\"outlinewidth\":0,\"ticks\":\"\"}}}],\"histogram\":[{\"marker\":{\"pattern\":{\"fillmode\":\"overlay\",\"size\":10,\"solidity\":0.2}},\"type\":\"histogram\"}],\"scattergl\":[{\"type\":\"scattergl\",\"marker\":{\"colorbar\":{\"outlinewidth\":0,\"ticks\":\"\"}}}],\"scatter3d\":[{\"type\":\"scatter3d\",\"line\":{\"colorbar\":{\"outlinewidth\":0,\"ticks\":\"\"}},\"marker\":{\"colorbar\":{\"outlinewidth\":0,\"ticks\":\"\"}}}],\"scattermapbox\":[{\"type\":\"scattermapbox\",\"marker\":{\"colorbar\":{\"outlinewidth\":0,\"ticks\":\"\"}}}],\"scatterternary\":[{\"type\":\"scatterternary\",\"marker\":{\"colorbar\":{\"outlinewidth\":0,\"ticks\":\"\"}}}],\"scattercarpet\":[{\"type\":\"scattercarpet\",\"marker\":{\"colorbar\":{\"outlinewidth\":0,\"ticks\":\"\"}}}],\"carpet\":[{\"aaxis\":{\"endlinecolor\":\"#2a3f5f\",\"gridcolor\":\"white\",\"linecolor\":\"white\",\"minorgridcolor\":\"white\",\"startlinecolor\":\"#2a3f5f\"},\"baxis\":{\"endlinecolor\":\"#2a3f5f\",\"gridcolor\":\"white\",\"linecolor\":\"white\",\"minorgridcolor\":\"white\",\"startlinecolor\":\"#2a3f5f\"},\"type\":\"carpet\"}],\"table\":[{\"cells\":{\"fill\":{\"color\":\"#EBF0F8\"},\"line\":{\"color\":\"white\"}},\"header\":{\"fill\":{\"color\":\"#C8D4E3\"},\"line\":{\"color\":\"white\"}},\"type\":\"table\"}],\"barpolar\":[{\"marker\":{\"line\":{\"color\":\"#E5ECF6\",\"width\":0.5},\"pattern\":{\"fillmode\":\"overlay\",\"size\":10,\"solidity\":0.2}},\"type\":\"barpolar\"}],\"pie\":[{\"automargin\":true,\"type\":\"pie\"}]},\"layout\":{\"autotypenumbers\":\"strict\",\"colorway\":[\"#636efa\",\"#EF553B\",\"#00cc96\",\"#ab63fa\",\"#FFA15A\",\"#19d3f3\",\"#FF6692\",\"#B6E880\",\"#FF97FF\",\"#FECB52\"],\"font\":{\"color\":\"#2a3f5f\"},\"hovermode\":\"closest\",\"hoverlabel\":{\"align\":\"left\"},\"paper_bgcolor\":\"white\",\"plot_bgcolor\":\"#E5ECF6\",\"polar\":{\"bgcolor\":\"#E5ECF6\",\"angularaxis\":{\"gridcolor\":\"white\",\"linecolor\":\"white\",\"ticks\":\"\"},\"radialaxis\":{\"gridcolor\":\"white\",\"linecolor\":\"white\",\"ticks\":\"\"}},\"ternary\":{\"bgcolor\":\"#E5ECF6\",\"aaxis\":{\"gridcolor\":\"white\",\"linecolor\":\"white\",\"ticks\":\"\"},\"baxis\":{\"gridcolor\":\"white\",\"linecolor\":\"white\",\"ticks\":\"\"},\"caxis\":{\"gridcolor\":\"white\",\"linecolor\":\"white\",\"ticks\":\"\"}},\"coloraxis\":{\"colorbar\":{\"outlinewidth\":0,\"ticks\":\"\"}},\"colorscale\":{\"sequential\":[[0.0,\"#0d0887\"],[0.1111111111111111,\"#46039f\"],[0.2222222222222222,\"#7201a8\"],[0.3333333333333333,\"#9c179e\"],[0.4444444444444444,\"#bd3786\"],[0.5555555555555556,\"#d8576b\"],[0.6666666666666666,\"#ed7953\"],[0.7777777777777778,\"#fb9f3a\"],[0.8888888888888888,\"#fdca26\"],[1.0,\"#f0f921\"]],\"sequentialminus\":[[0.0,\"#0d0887\"],[0.1111111111111111,\"#46039f\"],[0.2222222222222222,\"#7201a8\"],[0.3333333333333333,\"#9c179e\"],[0.4444444444444444,\"#bd3786\"],[0.5555555555555556,\"#d8576b\"],[0.6666666666666666,\"#ed7953\"],[0.7777777777777778,\"#fb9f3a\"],[0.8888888888888888,\"#fdca26\"],[1.0,\"#f0f921\"]],\"diverging\":[[0,\"#8e0152\"],[0.1,\"#c51b7d\"],[0.2,\"#de77ae\"],[0.3,\"#f1b6da\"],[0.4,\"#fde0ef\"],[0.5,\"#f7f7f7\"],[0.6,\"#e6f5d0\"],[0.7,\"#b8e186\"],[0.8,\"#7fbc41\"],[0.9,\"#4d9221\"],[1,\"#276419\"]]},\"xaxis\":{\"gridcolor\":\"white\",\"linecolor\":\"white\",\"ticks\":\"\",\"title\":{\"standoff\":15},\"zerolinecolor\":\"white\",\"automargin\":true,\"zerolinewidth\":2},\"yaxis\":{\"gridcolor\":\"white\",\"linecolor\":\"white\",\"ticks\":\"\",\"title\":{\"standoff\":15},\"zerolinecolor\":\"white\",\"automargin\":true,\"zerolinewidth\":2},\"scene\":{\"xaxis\":{\"backgroundcolor\":\"#E5ECF6\",\"gridcolor\":\"white\",\"linecolor\":\"white\",\"showbackground\":true,\"ticks\":\"\",\"zerolinecolor\":\"white\",\"gridwidth\":2},\"yaxis\":{\"backgroundcolor\":\"#E5ECF6\",\"gridcolor\":\"white\",\"linecolor\":\"white\",\"showbackground\":true,\"ticks\":\"\",\"zerolinecolor\":\"white\",\"gridwidth\":2},\"zaxis\":{\"backgroundcolor\":\"#E5ECF6\",\"gridcolor\":\"white\",\"linecolor\":\"white\",\"showbackground\":true,\"ticks\":\"\",\"zerolinecolor\":\"white\",\"gridwidth\":2}},\"shapedefaults\":{\"line\":{\"color\":\"#2a3f5f\"}},\"annotationdefaults\":{\"arrowcolor\":\"#2a3f5f\",\"arrowhead\":0,\"arrowwidth\":1},\"geo\":{\"bgcolor\":\"white\",\"landcolor\":\"#E5ECF6\",\"subunitcolor\":\"white\",\"showland\":true,\"showlakes\":true,\"lakecolor\":\"white\"},\"title\":{\"x\":0.05},\"mapbox\":{\"style\":\"light\"}}},\"xaxis\":{\"title\":{\"text\":\"Features\"},\"tickangle\":-45},\"title\":{\"text\":\"Catboost Model Feature Importances\"},\"yaxis\":{\"title\":{\"text\":\"Importance\"}}},                        {\"responsive\": true}                    ).then(function(){\n",
       "                            \n",
       "var gd = document.getElementById('ac3fa5b7-0339-44c3-b1b0-646dcc8a0d06');\n",
       "var x = new MutationObserver(function (mutations, observer) {{\n",
       "        var display = window.getComputedStyle(gd).display;\n",
       "        if (!display || display === 'none') {{\n",
       "            console.log([gd, 'removed!']);\n",
       "            Plotly.purge(gd);\n",
       "            observer.disconnect();\n",
       "        }}\n",
       "}});\n",
       "\n",
       "// Listen for the removal of the full notebook cells\n",
       "var notebookContainer = gd.closest('#notebook-container');\n",
       "if (notebookContainer) {{\n",
       "    x.observe(notebookContainer, {childList: true});\n",
       "}}\n",
       "\n",
       "// Listen for the clearing of the current output cell\n",
       "var outputEl = gd.closest('.output');\n",
       "if (outputEl) {{\n",
       "    x.observe(outputEl, {childList: true});\n",
       "}}\n",
       "\n",
       "                        })                };                });            </script>        </div>"
      ]
     },
     "metadata": {},
     "output_type": "display_data"
    }
   ],
   "source": [
    "# Get the feature importance values\n",
    "feature_importance = cb.feature_importances_\n",
    "\n",
    "# Get feature names\n",
    "feature_names = cb.feature_names_\n",
    "\n",
    "# sort features in descending orders\n",
    "sorted_indices = np.argsort(feature_importance)[::-1]\n",
    "sorted_feature_importance = feature_importance[sorted_indices]\n",
    "sorted_feature_names = np.array(feature_names)[sorted_indices]\n",
    "\n",
    "# Create a bar plot\n",
    "fig = go.Figure(data=[go.Bar(x=sorted_feature_names, y=sorted_feature_importance)])\n",
    "\n",
    "fig.update_layout(title=\"Catboost Model Feature Importances\", xaxis_title=\"Features\", yaxis_title=\"Importance\", xaxis_tickangle=-45)\n",
    "fig.show()"
   ]
  },
  {
   "cell_type": "code",
   "execution_count": null,
   "id": "f5bf7a72-56a5-42e8-96cb-d027de19c33c",
   "metadata": {},
   "outputs": [],
   "source": []
  }
 ],
 "metadata": {
  "kernelspec": {
   "display_name": "Python 3 (ipykernel)",
   "language": "python",
   "name": "python3"
  },
  "language_info": {
   "codemirror_mode": {
    "name": "ipython",
    "version": 3
   },
   "file_extension": ".py",
   "mimetype": "text/x-python",
   "name": "python",
   "nbconvert_exporter": "python",
   "pygments_lexer": "ipython3",
   "version": "3.11.6"
  }
 },
 "nbformat": 4,
 "nbformat_minor": 5
}
