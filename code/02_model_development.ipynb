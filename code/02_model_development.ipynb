{
 "cells": [
  {
   "cell_type": "markdown",
   "id": "74ff4311-56e4-4f6f-a674-0f89a34ae76b",
   "metadata": {},
   "source": [
    "# Predicting Frauds Based on Tree Based Models"
   ]
  },
  {
   "cell_type": "markdown",
   "id": "cbe4db3b-e77e-4d68-a18d-1faef5c96209",
   "metadata": {},
   "source": [
    "In the model development phase of our fraud prediction project, the journey begins with an insightful Exploratory Data Analysis (EDA). Through this process, we discerned the significance of certain features such as cardholder names, cities, states, and merchant types in relation to fraudulent transactions. These observations guided our model development strategy, indicating that these categorical features play pivotal roles in distinguishing fraudulent from legitimate transactions.\n",
    "\n",
    "Our choice to employ CatBoost and LightGBM stems from their exceptional abilities in handling categorical variables efficiently without the need for extensive preprocessing. These tree-based models offer robustness against overfitting, thanks to their regularization parameters, and they leverage boosting algorithms to progressively improve predictive accuracy. By utilizing these models, we aim to harness their inherent strengths in handling complex categorical features while enhancing predictive performance through iterative training, hyperparameter tuning, and meticulous evaluation using metrics such as precision, recall, F1-score, AUC-ROC, and the Confusion Matrix. This strategic approach aligns with our goal to develop reliable and accurate predictive models capable of discerning fraudulent activities within our dataset, ultimately contributing to robust fraud detection mechanisms."
   ]
  },
  {
   "cell_type": "markdown",
   "id": "35ee7aca-1d45-4989-86e9-ef3b14bdea24",
   "metadata": {},
   "source": [
    "## Contents\n",
    "- [Imports](#Imports)\n",
    "- [Functions](#Functions)\n",
    "- [Baseline Score](#Baseline-Score)\n",
    "- [Catboost Model](#Catboost-Model)\n",
    "- [LightGBM Model](#LightGBM-Model)\n",
    "- [Save Models](#Save-Models)"
   ]
  },
  {
   "cell_type": "markdown",
   "id": "d9879f63",
   "metadata": {},
   "source": [
    "## Imports"
   ]
  },
  {
   "cell_type": "code",
   "execution_count": 31,
   "id": "662c8590",
   "metadata": {},
   "outputs": [],
   "source": [
    "import pandas as pd\n",
    "import numpy as np\n",
    "import seaborn as sns\n",
    "import matplotlib.pyplot as plt\n",
    "import plotly.express as px\n",
    "import plotly.graph_objects as go\n",
    "from sklearn.model_selection import train_test_split\n",
    "from sklearn.preprocessing import StandardScaler, LabelEncoder, OneHotEncoder\n",
    "import scipy.sparse as sp\n",
    "from sklearn.feature_selection import VarianceThreshold\n",
    "import category_encoders as ce\n",
    "from sklearn.decomposition import PCA, TruncatedSVD\n",
    "from catboost import CatBoostClassifier\n",
    "import lightgbm as lgb\n",
    "from sklearn.metrics import classification_report\n",
    "from sklearn.metrics import recall_score, precision_score, accuracy_score, f1_score, confusion_matrix, ConfusionMatrixDisplay"
   ]
  },
  {
   "cell_type": "code",
   "execution_count": 13,
   "id": "6154ed99",
   "metadata": {},
   "outputs": [],
   "source": [
    "# Determine the data path\n",
    "data_path = \"../data/final_df.csv\""
   ]
  },
  {
   "cell_type": "code",
   "execution_count": 14,
   "id": "ea77ce77",
   "metadata": {},
   "outputs": [
    {
     "data": {
      "text/html": [
       "<div>\n",
       "<style scoped>\n",
       "    .dataframe tbody tr th:only-of-type {\n",
       "        vertical-align: middle;\n",
       "    }\n",
       "\n",
       "    .dataframe tbody tr th {\n",
       "        vertical-align: top;\n",
       "    }\n",
       "\n",
       "    .dataframe thead th {\n",
       "        text-align: right;\n",
       "    }\n",
       "</style>\n",
       "<table border=\"1\" class=\"dataframe\">\n",
       "  <thead>\n",
       "    <tr style=\"text-align: right;\">\n",
       "      <th></th>\n",
       "      <th>cardholder_name</th>\n",
       "      <th>card_number</th>\n",
       "      <th>card_type</th>\n",
       "      <th>merchant_name</th>\n",
       "      <th>merchant_category</th>\n",
       "      <th>merchant_state</th>\n",
       "      <th>merchant_city</th>\n",
       "      <th>transaction_amount</th>\n",
       "      <th>merchant_category_code</th>\n",
       "      <th>fraud_flag</th>\n",
       "    </tr>\n",
       "  </thead>\n",
       "  <tbody>\n",
       "    <tr>\n",
       "      <th>0</th>\n",
       "      <td>Meagan Smith</td>\n",
       "      <td>4408914864277480</td>\n",
       "      <td>visa</td>\n",
       "      <td>KFC</td>\n",
       "      <td>Fast Food</td>\n",
       "      <td>New Jersey</td>\n",
       "      <td>Jersey City</td>\n",
       "      <td>38.055684</td>\n",
       "      <td>MCC 5814</td>\n",
       "      <td>0</td>\n",
       "    </tr>\n",
       "    <tr>\n",
       "      <th>1</th>\n",
       "      <td>Miss Vanessa Briggs MD</td>\n",
       "      <td>4533948622139044</td>\n",
       "      <td>visa</td>\n",
       "      <td>McDonald's</td>\n",
       "      <td>Fast Food</td>\n",
       "      <td>Montana</td>\n",
       "      <td>Missoula</td>\n",
       "      <td>11.516379</td>\n",
       "      <td>MCC 5814</td>\n",
       "      <td>0</td>\n",
       "    </tr>\n",
       "    <tr>\n",
       "      <th>2</th>\n",
       "      <td>Casey Lyons</td>\n",
       "      <td>4350240875308199</td>\n",
       "      <td>visa</td>\n",
       "      <td>Domino's Pizza</td>\n",
       "      <td>Fast Food</td>\n",
       "      <td>Ohio</td>\n",
       "      <td>Cleveland</td>\n",
       "      <td>12.739792</td>\n",
       "      <td>MCC 5814</td>\n",
       "      <td>0</td>\n",
       "    </tr>\n",
       "    <tr>\n",
       "      <th>3</th>\n",
       "      <td>Cynthia Munoz</td>\n",
       "      <td>4756687869818916</td>\n",
       "      <td>visa</td>\n",
       "      <td>McDonald's</td>\n",
       "      <td>Fast Food</td>\n",
       "      <td>Massachusetts</td>\n",
       "      <td>Worcester</td>\n",
       "      <td>20.899888</td>\n",
       "      <td>MCC 5814</td>\n",
       "      <td>0</td>\n",
       "    </tr>\n",
       "    <tr>\n",
       "      <th>4</th>\n",
       "      <td>Lynn Pham</td>\n",
       "      <td>4813038430033752</td>\n",
       "      <td>visa</td>\n",
       "      <td>Papa John's</td>\n",
       "      <td>Fast Food</td>\n",
       "      <td>Minnesota</td>\n",
       "      <td>Saint Paul</td>\n",
       "      <td>11.073323</td>\n",
       "      <td>MCC 5814</td>\n",
       "      <td>0</td>\n",
       "    </tr>\n",
       "  </tbody>\n",
       "</table>\n",
       "</div>"
      ],
      "text/plain": [
       "          cardholder_name       card_number card_type   merchant_name  \\\n",
       "0            Meagan Smith  4408914864277480      visa             KFC   \n",
       "1  Miss Vanessa Briggs MD  4533948622139044      visa      McDonald's   \n",
       "2             Casey Lyons  4350240875308199      visa  Domino's Pizza   \n",
       "3           Cynthia Munoz  4756687869818916      visa      McDonald's   \n",
       "4               Lynn Pham  4813038430033752      visa     Papa John's   \n",
       "\n",
       "  merchant_category merchant_state merchant_city  transaction_amount  \\\n",
       "0         Fast Food     New Jersey   Jersey City           38.055684   \n",
       "1         Fast Food        Montana      Missoula           11.516379   \n",
       "2         Fast Food           Ohio     Cleveland           12.739792   \n",
       "3         Fast Food  Massachusetts     Worcester           20.899888   \n",
       "4         Fast Food      Minnesota    Saint Paul           11.073323   \n",
       "\n",
       "  merchant_category_code  fraud_flag  \n",
       "0               MCC 5814           0  \n",
       "1               MCC 5814           0  \n",
       "2               MCC 5814           0  \n",
       "3               MCC 5814           0  \n",
       "4               MCC 5814           0  "
      ]
     },
     "execution_count": 14,
     "metadata": {},
     "output_type": "execute_result"
    }
   ],
   "source": [
    "# Load the dataset\n",
    "df = pd.read_csv(data_path).drop(columns='Unnamed: 0')\n",
    "df.head()"
   ]
  },
  {
   "cell_type": "markdown",
   "id": "88217eb2-8df3-4042-943a-a0affa1a7749",
   "metadata": {},
   "source": [
    "## Functions"
   ]
  },
  {
   "cell_type": "code",
   "execution_count": 15,
   "id": "964b8973-1979-44e8-baa9-261d23b0c818",
   "metadata": {},
   "outputs": [],
   "source": [
    "def evaluation(model, model_name):\n",
    "        \n",
    "    # Get prediction \n",
    "    preds = model.predict(X_test)\n",
    "\n",
    "    # Confusion matrix values\n",
    "    tn, fp, fn, tp = confusion_matrix(y_test, preds).ravel()\n",
    "\n",
    "    # Compute confusion matrix \n",
    "    conf_matrix = confusion_matrix(y_test, preds)\n",
    "\n",
    "    # Create display confusion matrix\n",
    "    disp = ConfusionMatrixDisplay(confusion_matrix=conf_matrix)\n",
    "    disp.plot(values_format='d', cmap=plt.cm.Blues)\n",
    "\n",
    "    # Define the title\n",
    "    plt.title(f\"The Confusion Matrix of {model_name}\");\n",
    "\n",
    "    print(f\" Evaluation Metrics \".center(34, \"=\"))\n",
    "    print(f\"Accuracy -------------- {accuracy_score(y_test, preds)}\")\n",
    "    print(f\"Precision ------------- {precision_score(y_test, preds)}\")\n",
    "    print(f\"Sensitivity ----------- {recall_score(y_test, preds)}\")\n",
    "    print(f\"Specifity ------------- {tn/(tn+fp)}\")\n",
    "    print(f\"F1 score -------------- {f1_score(y_test, preds)}\")"
   ]
  },
  {
   "cell_type": "markdown",
   "id": "41c949a5",
   "metadata": {},
   "source": [
    "## Baseline Score"
   ]
  },
  {
   "cell_type": "markdown",
   "id": "53ddb9ce",
   "metadata": {},
   "source": [
    "### Train-Test Split"
   ]
  },
  {
   "cell_type": "code",
   "execution_count": 16,
   "id": "be1f4542",
   "metadata": {},
   "outputs": [
    {
     "name": "stdout",
     "output_type": "stream",
     "text": [
      "X shape ----------- (100000, 9)\n",
      "y shape ----------- (100000,)\n"
     ]
    }
   ],
   "source": [
    "# Define X features and y target\n",
    "X = df.drop('fraud_flag', axis=1)\n",
    "y = df['fraud_flag']\n",
    "\n",
    "print(f\"X shape ----------- {X.shape}\")\n",
    "print(f\"y shape ----------- {y.shape}\")"
   ]
  },
  {
   "cell_type": "code",
   "execution_count": 17,
   "id": "dd0331f8-e793-4436-b3bc-3d5aebcb79b8",
   "metadata": {},
   "outputs": [],
   "source": [
    "# defining training and test Xs and ys\n",
    "X_train, X_test, y_train, y_test = train_test_split(X, y, test_size=0.8, random_state=42)"
   ]
  },
  {
   "cell_type": "code",
   "execution_count": 18,
   "id": "d2976512",
   "metadata": {},
   "outputs": [
    {
     "data": {
      "text/plain": [
       "fraud_flag\n",
       "0    0.836638\n",
       "1    0.163362\n",
       "Name: proportion, dtype: float64"
      ]
     },
     "execution_count": 18,
     "metadata": {},
     "output_type": "execute_result"
    }
   ],
   "source": [
    "# Get the ratio of classes\n",
    "y_test.value_counts(normalize=True)"
   ]
  },
  {
   "cell_type": "markdown",
   "id": "73383855",
   "metadata": {},
   "source": [
    "**The baseline accuracy is 0.83 which is majority class**"
   ]
  },
  {
   "cell_type": "markdown",
   "id": "ef123208",
   "metadata": {},
   "source": [
    "## Catboost Model"
   ]
  },
  {
   "cell_type": "code",
   "execution_count": 19,
   "id": "1d9af3e5",
   "metadata": {},
   "outputs": [
    {
     "name": "stdout",
     "output_type": "stream",
     "text": [
      "Learning rate set to 0.305826\n",
      "0:\tlearn: 0.5619432\ttotal: 25.4ms\tremaining: 2.52s\n",
      "1:\tlearn: 0.4942667\ttotal: 56.5ms\tremaining: 2.77s\n",
      "2:\tlearn: 0.4564945\ttotal: 69ms\tremaining: 2.23s\n",
      "3:\tlearn: 0.4344617\ttotal: 82.7ms\tremaining: 1.98s\n",
      "4:\tlearn: 0.4227252\ttotal: 91.4ms\tremaining: 1.74s\n",
      "5:\tlearn: 0.4145799\ttotal: 117ms\tremaining: 1.82s\n",
      "6:\tlearn: 0.4096423\ttotal: 143ms\tremaining: 1.9s\n",
      "7:\tlearn: 0.4080681\ttotal: 150ms\tremaining: 1.73s\n",
      "8:\tlearn: 0.4060546\ttotal: 172ms\tremaining: 1.74s\n",
      "9:\tlearn: 0.4046868\ttotal: 196ms\tremaining: 1.76s\n",
      "10:\tlearn: 0.4030114\ttotal: 225ms\tremaining: 1.82s\n",
      "11:\tlearn: 0.4018921\ttotal: 250ms\tremaining: 1.83s\n",
      "12:\tlearn: 0.4012109\ttotal: 281ms\tremaining: 1.88s\n",
      "13:\tlearn: 0.4009210\ttotal: 308ms\tremaining: 1.89s\n",
      "14:\tlearn: 0.4003081\ttotal: 338ms\tremaining: 1.91s\n",
      "15:\tlearn: 0.3999409\ttotal: 366ms\tremaining: 1.92s\n",
      "16:\tlearn: 0.3990904\ttotal: 390ms\tremaining: 1.9s\n",
      "17:\tlearn: 0.3987277\ttotal: 414ms\tremaining: 1.88s\n",
      "18:\tlearn: 0.3987214\ttotal: 426ms\tremaining: 1.82s\n",
      "19:\tlearn: 0.3984789\ttotal: 453ms\tremaining: 1.81s\n",
      "20:\tlearn: 0.3981992\ttotal: 476ms\tremaining: 1.79s\n",
      "21:\tlearn: 0.3979437\ttotal: 499ms\tremaining: 1.77s\n",
      "22:\tlearn: 0.3978998\ttotal: 518ms\tremaining: 1.74s\n",
      "23:\tlearn: 0.3976828\ttotal: 542ms\tremaining: 1.72s\n",
      "24:\tlearn: 0.3976352\ttotal: 560ms\tremaining: 1.68s\n",
      "25:\tlearn: 0.3972444\ttotal: 582ms\tremaining: 1.66s\n",
      "26:\tlearn: 0.3970047\ttotal: 604ms\tremaining: 1.63s\n",
      "27:\tlearn: 0.3967954\ttotal: 628ms\tremaining: 1.61s\n",
      "28:\tlearn: 0.3967244\ttotal: 655ms\tremaining: 1.6s\n",
      "29:\tlearn: 0.3967237\ttotal: 667ms\tremaining: 1.56s\n",
      "30:\tlearn: 0.3964669\ttotal: 690ms\tremaining: 1.54s\n",
      "31:\tlearn: 0.3962238\ttotal: 714ms\tremaining: 1.52s\n",
      "32:\tlearn: 0.3958964\ttotal: 738ms\tremaining: 1.5s\n",
      "33:\tlearn: 0.3956972\ttotal: 767ms\tremaining: 1.49s\n",
      "34:\tlearn: 0.3955750\ttotal: 797ms\tremaining: 1.48s\n",
      "35:\tlearn: 0.3954530\ttotal: 829ms\tremaining: 1.47s\n",
      "36:\tlearn: 0.3953134\ttotal: 872ms\tremaining: 1.48s\n",
      "37:\tlearn: 0.3952983\ttotal: 912ms\tremaining: 1.49s\n",
      "38:\tlearn: 0.3950961\ttotal: 960ms\tremaining: 1.5s\n",
      "39:\tlearn: 0.3949972\ttotal: 1.01s\tremaining: 1.51s\n",
      "40:\tlearn: 0.3947164\ttotal: 1.04s\tremaining: 1.5s\n",
      "41:\tlearn: 0.3946012\ttotal: 1.07s\tremaining: 1.48s\n",
      "42:\tlearn: 0.3942021\ttotal: 1.1s\tremaining: 1.46s\n",
      "43:\tlearn: 0.3941564\ttotal: 1.12s\tremaining: 1.43s\n",
      "44:\tlearn: 0.3941049\ttotal: 1.15s\tremaining: 1.4s\n",
      "45:\tlearn: 0.3939092\ttotal: 1.18s\tremaining: 1.38s\n",
      "46:\tlearn: 0.3938819\ttotal: 1.21s\tremaining: 1.36s\n",
      "47:\tlearn: 0.3936890\ttotal: 1.24s\tremaining: 1.34s\n",
      "48:\tlearn: 0.3935872\ttotal: 1.27s\tremaining: 1.32s\n",
      "49:\tlearn: 0.3935491\ttotal: 1.29s\tremaining: 1.29s\n",
      "50:\tlearn: 0.3934265\ttotal: 1.32s\tremaining: 1.27s\n",
      "51:\tlearn: 0.3931455\ttotal: 1.35s\tremaining: 1.25s\n",
      "52:\tlearn: 0.3929650\ttotal: 1.38s\tremaining: 1.22s\n",
      "53:\tlearn: 0.3928311\ttotal: 1.4s\tremaining: 1.19s\n",
      "54:\tlearn: 0.3927913\ttotal: 1.42s\tremaining: 1.16s\n",
      "55:\tlearn: 0.3927728\ttotal: 1.44s\tremaining: 1.13s\n",
      "56:\tlearn: 0.3926193\ttotal: 1.47s\tremaining: 1.11s\n",
      "57:\tlearn: 0.3925252\ttotal: 1.49s\tremaining: 1.08s\n",
      "58:\tlearn: 0.3921999\ttotal: 1.52s\tremaining: 1.06s\n",
      "59:\tlearn: 0.3920292\ttotal: 1.55s\tremaining: 1.03s\n",
      "60:\tlearn: 0.3920085\ttotal: 1.59s\tremaining: 1.02s\n",
      "61:\tlearn: 0.3918825\ttotal: 1.62s\tremaining: 996ms\n",
      "62:\tlearn: 0.3916679\ttotal: 1.65s\tremaining: 972ms\n",
      "63:\tlearn: 0.3916028\ttotal: 1.69s\tremaining: 951ms\n",
      "64:\tlearn: 0.3915945\ttotal: 1.72s\tremaining: 927ms\n",
      "65:\tlearn: 0.3915582\ttotal: 1.75s\tremaining: 900ms\n",
      "66:\tlearn: 0.3912286\ttotal: 1.77s\tremaining: 873ms\n",
      "67:\tlearn: 0.3910214\ttotal: 1.81s\tremaining: 853ms\n",
      "68:\tlearn: 0.3907061\ttotal: 1.84s\tremaining: 828ms\n",
      "69:\tlearn: 0.3906757\ttotal: 1.87s\tremaining: 801ms\n",
      "70:\tlearn: 0.3905508\ttotal: 1.9s\tremaining: 776ms\n",
      "71:\tlearn: 0.3905330\ttotal: 1.92s\tremaining: 749ms\n",
      "72:\tlearn: 0.3902922\ttotal: 1.95s\tremaining: 722ms\n",
      "73:\tlearn: 0.3901877\ttotal: 1.97s\tremaining: 694ms\n",
      "74:\tlearn: 0.3901692\ttotal: 2s\tremaining: 666ms\n",
      "75:\tlearn: 0.3901331\ttotal: 2.03s\tremaining: 641ms\n",
      "76:\tlearn: 0.3901048\ttotal: 2.06s\tremaining: 615ms\n",
      "77:\tlearn: 0.3897442\ttotal: 2.09s\tremaining: 590ms\n",
      "78:\tlearn: 0.3895457\ttotal: 2.12s\tremaining: 563ms\n",
      "79:\tlearn: 0.3893688\ttotal: 2.15s\tremaining: 536ms\n",
      "80:\tlearn: 0.3892709\ttotal: 2.18s\tremaining: 511ms\n",
      "81:\tlearn: 0.3892538\ttotal: 2.23s\tremaining: 489ms\n",
      "82:\tlearn: 0.3892462\ttotal: 2.28s\tremaining: 467ms\n",
      "83:\tlearn: 0.3889248\ttotal: 2.32s\tremaining: 443ms\n",
      "84:\tlearn: 0.3886943\ttotal: 2.37s\tremaining: 419ms\n",
      "85:\tlearn: 0.3885499\ttotal: 2.42s\tremaining: 395ms\n",
      "86:\tlearn: 0.3885481\ttotal: 2.48s\tremaining: 371ms\n",
      "87:\tlearn: 0.3885308\ttotal: 2.53s\tremaining: 345ms\n",
      "88:\tlearn: 0.3884495\ttotal: 2.57s\tremaining: 318ms\n",
      "89:\tlearn: 0.3884014\ttotal: 2.61s\tremaining: 290ms\n",
      "90:\tlearn: 0.3881036\ttotal: 2.63s\tremaining: 260ms\n",
      "91:\tlearn: 0.3880920\ttotal: 2.65s\tremaining: 231ms\n",
      "92:\tlearn: 0.3879727\ttotal: 2.68s\tremaining: 202ms\n",
      "93:\tlearn: 0.3878841\ttotal: 2.7s\tremaining: 173ms\n",
      "94:\tlearn: 0.3877742\ttotal: 2.73s\tremaining: 144ms\n",
      "95:\tlearn: 0.3876964\ttotal: 2.77s\tremaining: 115ms\n",
      "96:\tlearn: 0.3874005\ttotal: 2.81s\tremaining: 86.8ms\n",
      "97:\tlearn: 0.3872807\ttotal: 2.84s\tremaining: 57.9ms\n",
      "98:\tlearn: 0.3872641\ttotal: 2.87s\tremaining: 29ms\n",
      "99:\tlearn: 0.3871121\ttotal: 2.9s\tremaining: 0us\n",
      "Accuracy score is: 0.8593\n"
     ]
    }
   ],
   "source": [
    "# Specify categorical features\n",
    "cats = ['cardholder_name', 'card_type', 'merchant_name', 'merchant_category',\n",
    "       'merchant_state', 'merchant_city', 'merchant_category_code']\n",
    "\n",
    "# Instatiate the model\n",
    "cb = CatBoostClassifier(iterations=100, cat_features=cats, random_state=42)\n",
    "\n",
    "# Fit the model\n",
    "cb.fit(X_train, y_train)\n",
    "\n",
    "# Get the accuracy score\n",
    "print(f\"Accuracy score is: {cb.score(X_train, y_train)}\")"
   ]
  },
  {
   "cell_type": "markdown",
   "id": "172d8c46",
   "metadata": {},
   "source": [
    "### The Catboost Model Evaluation"
   ]
  },
  {
   "cell_type": "code",
   "execution_count": 20,
   "id": "db79e51c-64a3-4ee9-b695-41088a050910",
   "metadata": {},
   "outputs": [
    {
     "name": "stdout",
     "output_type": "stream",
     "text": [
      "======= Evaluation Metrics =======\n",
      "Accuracy -------------- 0.856875\n",
      "Precision ------------- 0.6527070364082249\n",
      "Sensitivity ----------- 0.2647486418241641\n",
      "Specifity ------------- 0.9724940610479449\n",
      "F1 score -------------- 0.376701143168209\n"
     ]
    },
    {
     "data": {
      "image/png": "[encoded data removed]",
      "text/plain": [
       "<Figure size 640x480 with 2 Axes>"
      ]
     },
     "metadata": {},
     "output_type": "display_data"
    }
   ],
   "source": [
    "evaluation(model=cb, model_name='Catboost Model')"
   ]
  },
  {
   "cell_type": "markdown",
   "id": "cd1606e9-490e-4644-8a6e-6fbb6898b771",
   "metadata": {},
   "source": [
    "### Feature Importance with the Catboost Model "
   ]
  },
  {
   "cell_type": "code",
   "execution_count": 21,
   "id": "d98ea336-c08a-4741-a895-f6b0387b9b85",
   "metadata": {},
   "outputs": [
    {
     "data": {
      "application/vnd.plotly.v1+json": {
       "config": {
        "plotlyServerURL": "https://plot.ly"
       },
       "data": [
        {
         "type": "bar",
         "x": [
          "transaction_amount",
          "merchant_state",
          "merchant_city",
          "card_number",
          "cardholder_name",
          "merchant_name",
          "card_type",
          "merchant_category_code",
          "merchant_category"
         ],
         "y": [
          19.965184662456522,
          19.81021510275418,
          18.323420419669212,
          16.98457366493327,
          11.59522774783834,
          8.538474673638747,
          2.217426151575353,
          1.3493626278069184,
          1.2161149493274483
         ]
        }
       ],
       "layout": {
        "autosize": true,
        "template": {
         "data": {
          "bar": [
           {
            "error_x": {
             "color": "#2a3f5f"
            },
            "error_y": {
             "color": "#2a3f5f"
            },
            "marker": {
             "line": {
              "color": "#E5ECF6",
              "width": 0.5
             },
             "pattern": {
              "fillmode": "overlay",
              "size": 10,
              "solidity": 0.2
             }
            },
            "type": "bar"
           }
          ],
          "barpolar": [
           {
            "marker": {
             "line": {
              "color": "#E5ECF6",
              "width": 0.5
             },
             "pattern": {
              "fillmode": "overlay",
              "size": 10,
              "solidity": 0.2
             }
            },
            "type": "barpolar"
           }
          ],
          "carpet": [
           {
            "aaxis": {
             "endlinecolor": "#2a3f5f",
             "gridcolor": "white",
             "linecolor": "white",
             "minorgridcolor": "white",
             "startlinecolor": "#2a3f5f"
            },
            "baxis": {
             "endlinecolor": "#2a3f5f",
             "gridcolor": "white",
             "linecolor": "white",
             "minorgridcolor": "white",
             "startlinecolor": "#2a3f5f"
            },
            "type": "carpet"
           }
          ],
          "choropleth": [
           {
            "colorbar": {
             "outlinewidth": 0,
             "ticks": ""
            },
            "type": "choropleth"
           }
          ],
          "contour": [
           {
            "colorbar": {
             "outlinewidth": 0,
             "ticks": ""
            },
            "colorscale": [
             [
              0,
              "#0d0887"
             ],
             [
              0.1111111111111111,
              "#46039f"
             ],
             [
              0.2222222222222222,
              "#7201a8"
             ],
             [
              0.3333333333333333,
              "#9c179e"
             ],
             [
              0.4444444444444444,
              "#bd3786"
             ],
             [
              0.5555555555555556,
              "#d8576b"
             ],
             [
              0.6666666666666666,
              "#ed7953"
             ],
             [
              0.7777777777777778,
              "#fb9f3a"
             ],
             [
              0.8888888888888888,
              "#fdca26"
             ],
             [
              1,
              "#f0f921"
             ]
            ],
            "type": "contour"
           }
          ],
          "contourcarpet": [
           {
            "colorbar": {
             "outlinewidth": 0,
             "ticks": ""
            },
            "type": "contourcarpet"
           }
          ],
          "heatmap": [
           {
            "colorbar": {
             "outlinewidth": 0,
             "ticks": ""
            },
            "colorscale": [
             [
              0,
              "#0d0887"
             ],
             [
              0.1111111111111111,
              "#46039f"
             ],
             [
              0.2222222222222222,
              "#7201a8"
             ],
             [
              0.3333333333333333,
              "#9c179e"
             ],
             [
              0.4444444444444444,
              "#bd3786"
             ],
             [
              0.5555555555555556,
              "#d8576b"
             ],
             [
              0.6666666666666666,
              "#ed7953"
             ],
             [
              0.7777777777777778,
              "#fb9f3a"
             ],
             [
              0.8888888888888888,
              "#fdca26"
             ],
             [
              1,
              "#f0f921"
             ]
            ],
            "type": "heatmap"
           }
          ],
          "heatmapgl": [
           {
            "colorbar": {
             "outlinewidth": 0,
             "ticks": ""
            },
            "colorscale": [
             [
              0,
              "#0d0887"
             ],
             [
              0.1111111111111111,
              "#46039f"
             ],
             [
              0.2222222222222222,
              "#7201a8"
             ],
             [
              0.3333333333333333,
              "#9c179e"
             ],
             [
              0.4444444444444444,
              "#bd3786"
             ],
             [
              0.5555555555555556,
              "#d8576b"
             ],
             [
              0.6666666666666666,
              "#ed7953"
             ],
             [
              0.7777777777777778,
              "#fb9f3a"
             ],
             [
              0.8888888888888888,
              "#fdca26"
             ],
             [
              1,
              "#f0f921"
             ]
            ],
            "type": "heatmapgl"
           }
          ],
          "histogram": [
           {
            "marker": {
             "pattern": {
              "fillmode": "overlay",
              "size": 10,
              "solidity": 0.2
             }
            },
            "type": "histogram"
           }
          ],
          "histogram2d": [
           {
            "colorbar": {
             "outlinewidth": 0,
             "ticks": ""
            },
            "colorscale": [
             [
              0,
              "#0d0887"
             ],
             [
              0.1111111111111111,
              "#46039f"
             ],
             [
              0.2222222222222222,
              "#7201a8"
             ],
             [
              0.3333333333333333,
              "#9c179e"
             ],
             [
              0.4444444444444444,
              "#bd3786"
             ],
             [
              0.5555555555555556,
              "#d8576b"
             ],
             [
              0.6666666666666666,
              "#ed7953"
             ],
             [
              0.7777777777777778,
              "#fb9f3a"
             ],
             [
              0.8888888888888888,
              "#fdca26"
             ],
             [
              1,
              "#f0f921"
             ]
            ],
            "type": "histogram2d"
           }
          ],
          "histogram2dcontour": [
           {
            "colorbar": {
             "outlinewidth": 0,
             "ticks": ""
            },
            "colorscale": [
             [
              0,
              "#0d0887"
             ],
             [
              0.1111111111111111,
              "#46039f"
             ],
             [
              0.2222222222222222,
              "#7201a8"
             ],
             [
              0.3333333333333333,
              "#9c179e"
             ],
             [
              0.4444444444444444,
              "#bd3786"
             ],
             [
              0.5555555555555556,
              "#d8576b"
             ],
             [
              0.6666666666666666,
              "#ed7953"
             ],
             [
              0.7777777777777778,
              "#fb9f3a"
             ],
             [
              0.8888888888888888,
              "#fdca26"
             ],
             [
              1,
              "#f0f921"
             ]
            ],
            "type": "histogram2dcontour"
           }
          ],
          "mesh3d": [
           {
            "colorbar": {
             "outlinewidth": 0,
             "ticks": ""
            },
            "type": "mesh3d"
           }
          ],
          "parcoords": [
           {
            "line": {
             "colorbar": {
              "outlinewidth": 0,
              "ticks": ""
             }
            },
            "type": "parcoords"
           }
          ],
          "pie": [
           {
            "automargin": true,
            "type": "pie"
           }
          ],
          "scatter": [
           {
            "fillpattern": {
             "fillmode": "overlay",
             "size": 10,
             "solidity": 0.2
            },
            "type": "scatter"
           }
          ],
          "scatter3d": [
           {
            "line": {
             "colorbar": {
              "outlinewidth": 0,
              "ticks": ""
             }
            },
            "marker": {
             "colorbar": {
              "outlinewidth": 0,
              "ticks": ""
             }
            },
            "type": "scatter3d"
           }
          ],
          "scattercarpet": [
           {
            "marker": {
             "colorbar": {
              "outlinewidth": 0,
              "ticks": ""
             }
            },
            "type": "scattercarpet"
           }
          ],
          "scattergeo": [
           {
            "marker": {
             "colorbar": {
              "outlinewidth": 0,
              "ticks": ""
             }
            },
            "type": "scattergeo"
           }
          ],
          "scattergl": [
           {
            "marker": {
             "colorbar": {
              "outlinewidth": 0,
              "ticks": ""
             }
            },
            "type": "scattergl"
           }
          ],
          "scattermapbox": [
           {
            "marker": {
             "colorbar": {
              "outlinewidth": 0,
              "ticks": ""
             }
            },
            "type": "scattermapbox"
           }
          ],
          "scatterpolar": [
           {
            "marker": {
             "colorbar": {
              "outlinewidth": 0,
              "ticks": ""
             }
            },
            "type": "scatterpolar"
           }
          ],
          "scatterpolargl": [
           {
            "marker": {
             "colorbar": {
              "outlinewidth": 0,
              "ticks": ""
             }
            },
            "type": "scatterpolargl"
           }
          ],
          "scatterternary": [
           {
            "marker": {
             "colorbar": {
              "outlinewidth": 0,
              "ticks": ""
             }
            },
            "type": "scatterternary"
           }
          ],
          "surface": [
           {
            "colorbar": {
             "outlinewidth": 0,
             "ticks": ""
            },
            "colorscale": [
             [
              0,
              "#0d0887"
             ],
             [
              0.1111111111111111,
              "#46039f"
             ],
             [
              0.2222222222222222,
              "#7201a8"
             ],
             [
              0.3333333333333333,
              "#9c179e"
             ],
             [
              0.4444444444444444,
              "#bd3786"
             ],
             [
              0.5555555555555556,
              "#d8576b"
             ],
             [
              0.6666666666666666,
              "#ed7953"
             ],
             [
              0.7777777777777778,
              "#fb9f3a"
             ],
             [
              0.8888888888888888,
              "#fdca26"
             ],
             [
              1,
              "#f0f921"
             ]
            ],
            "type": "surface"
           }
          ],
          "table": [
           {
            "cells": {
             "fill": {
              "color": "#EBF0F8"
             },
             "line": {
              "color": "white"
             }
            },
            "header": {
             "fill": {
              "color": "#C8D4E3"
             },
             "line": {
              "color": "white"
             }
            },
            "type": "table"
           }
          ]
         },
         "layout": {
          "annotationdefaults": {
           "arrowcolor": "#2a3f5f",
           "arrowhead": 0,
           "arrowwidth": 1
          },
          "autotypenumbers": "strict",
          "coloraxis": {
           "colorbar": {
            "outlinewidth": 0,
            "ticks": ""
           }
          },
          "colorscale": {
           "diverging": [
            [
             0,
             "#8e0152"
            ],
            [
             0.1,
             "#c51b7d"
            ],
            [
             0.2,
             "#de77ae"
            ],
            [
             0.3,
             "#f1b6da"
            ],
            [
             0.4,
             "#fde0ef"
            ],
            [
             0.5,
             "#f7f7f7"
            ],
            [
             0.6,
             "#e6f5d0"
            ],
            [
             0.7,
             "#b8e186"
            ],
            [
             0.8,
             "#7fbc41"
            ],
            [
             0.9,
             "#4d9221"
            ],
            [
             1,
             "#276419"
            ]
           ],
           "sequential": [
            [
             0,
             "#0d0887"
            ],
            [
             0.1111111111111111,
             "#46039f"
            ],
            [
             0.2222222222222222,
             "#7201a8"
            ],
            [
             0.3333333333333333,
             "#9c179e"
            ],
            [
             0.4444444444444444,
             "#bd3786"
            ],
            [
             0.5555555555555556,
             "#d8576b"
            ],
            [
             0.6666666666666666,
             "#ed7953"
            ],
            [
             0.7777777777777778,
             "#fb9f3a"
            ],
            [
             0.8888888888888888,
             "#fdca26"
            ],
            [
             1,
             "#f0f921"
            ]
           ],
           "sequentialminus": [
            [
             0,
             "#0d0887"
            ],
            [
             0.1111111111111111,
             "#46039f"
            ],
            [
             0.2222222222222222,
             "#7201a8"
            ],
            [
             0.3333333333333333,
             "#9c179e"
            ],
            [
             0.4444444444444444,
             "#bd3786"
            ],
            [
             0.5555555555555556,
             "#d8576b"
            ],
            [
             0.6666666666666666,
             "#ed7953"
            ],
            [
             0.7777777777777778,
             "#fb9f3a"
            ],
            [
             0.8888888888888888,
             "#fdca26"
            ],
            [
             1,
             "#f0f921"
            ]
           ]
          },
          "colorway": [
           "#636efa",
           "#EF553B",
           "#00cc96",
           "#ab63fa",
           "#FFA15A",
           "#19d3f3",
           "#FF6692",
           "#B6E880",
           "#FF97FF",
           "#FECB52"
          ],
          "font": {
           "color": "#2a3f5f"
          },
          "geo": {
           "bgcolor": "white",
           "lakecolor": "white",
           "landcolor": "#E5ECF6",
           "showlakes": true,
           "showland": true,
           "subunitcolor": "white"
          },
          "hoverlabel": {
           "align": "left"
          },
          "hovermode": "closest",
          "mapbox": {
           "style": "light"
          },
          "paper_bgcolor": "white",
          "plot_bgcolor": "#E5ECF6",
          "polar": {
           "angularaxis": {
            "gridcolor": "white",
            "linecolor": "white",
            "ticks": ""
           },
           "bgcolor": "#E5ECF6",
           "radialaxis": {
            "gridcolor": "white",
            "linecolor": "white",
            "ticks": ""
           }
          },
          "scene": {
           "xaxis": {
            "backgroundcolor": "#E5ECF6",
            "gridcolor": "white",
            "gridwidth": 2,
            "linecolor": "white",
            "showbackground": true,
            "ticks": "",
            "zerolinecolor": "white"
           },
           "yaxis": {
            "backgroundcolor": "#E5ECF6",
            "gridcolor": "white",
            "gridwidth": 2,
            "linecolor": "white",
            "showbackground": true,
            "ticks": "",
            "zerolinecolor": "white"
           },
           "zaxis": {
            "backgroundcolor": "#E5ECF6",
            "gridcolor": "white",
            "gridwidth": 2,
            "linecolor": "white",
            "showbackground": true,
            "ticks": "",
            "zerolinecolor": "white"
           }
          },
          "shapedefaults": {
           "line": {
            "color": "#2a3f5f"
           }
          },
          "ternary": {
           "aaxis": {
            "gridcolor": "white",
            "linecolor": "white",
            "ticks": ""
           },
           "baxis": {
            "gridcolor": "white",
            "linecolor": "white",
            "ticks": ""
           },
           "bgcolor": "#E5ECF6",
           "caxis": {
            "gridcolor": "white",
            "linecolor": "white",
            "ticks": ""
           }
          },
          "title": {
           "x": 0.05
          },
          "xaxis": {
           "automargin": true,
           "gridcolor": "white",
           "linecolor": "white",
           "ticks": "",
           "title": {
            "standoff": 15
           },
           "zerolinecolor": "white",
           "zerolinewidth": 2
          },
          "yaxis": {
           "automargin": true,
           "gridcolor": "white",
           "linecolor": "white",
           "ticks": "",
           "title": {
            "standoff": 15
           },
           "zerolinecolor": "white",
           "zerolinewidth": 2
          }
         }
        },
        "title": {
         "text": "Catboost Model Feature Importances"
        },
        "xaxis": {
         "autorange": true,
         "range": [
          -0.5,
          8.5
         ],
         "tickangle": -45,
         "title": {
          "text": "Features"
         },
         "type": "category"
        },
        "yaxis": {
         "autorange": true,
         "range": [
          0,
          21.015983855217392
         ],
         "title": {
          "text": "Importance"
         },
         "type": "linear"
        }
       }
      },
      "image/png": "[encoded data removed]",
      "text/html": [
       "<div>                            <div id=\"91c8cc6b-ccbc-47ba-98d4-d7d46e448d36\" class=\"plotly-graph-div\" style=\"height:525px; width:100%;\"></div>            <script type=\"text/javascript\">                require([\"plotly\"], function(Plotly) {                    window.PLOTLYENV=window.PLOTLYENV || {};                                    if (document.getElementById(\"91c8cc6b-ccbc-47ba-98d4-d7d46e448d36\")) {                    Plotly.newPlot(                        \"91c8cc6b-ccbc-47ba-98d4-d7d46e448d36\",                        [{\"x\":[\"transaction_amount\",\"merchant_state\",\"merchant_city\",\"card_number\",\"cardholder_name\",\"merchant_name\",\"card_type\",\"merchant_category_code\",\"merchant_category\"],\"y\":[19.965184662456522,19.81021510275418,18.323420419669212,16.98457366493327,11.59522774783834,8.538474673638747,2.217426151575353,1.3493626278069184,1.2161149493274483],\"type\":\"bar\"}],                        {\"template\":{\"data\":{\"histogram2dcontour\":[{\"type\":\"histogram2dcontour\",\"colorbar\":{\"outlinewidth\":0,\"ticks\":\"\"},\"colorscale\":[[0.0,\"#0d0887\"],[0.1111111111111111,\"#46039f\"],[0.2222222222222222,\"#7201a8\"],[0.3333333333333333,\"#9c179e\"],[0.4444444444444444,\"#bd3786\"],[0.5555555555555556,\"#d8576b\"],[0.6666666666666666,\"#ed7953\"],[0.7777777777777778,\"#fb9f3a\"],[0.8888888888888888,\"#fdca26\"],[1.0,\"#f0f921\"]]}],\"choropleth\":[{\"type\":\"choropleth\",\"colorbar\":{\"outlinewidth\":0,\"ticks\":\"\"}}],\"histogram2d\":[{\"type\":\"histogram2d\",\"colorbar\":{\"outlinewidth\":0,\"ticks\":\"\"},\"colorscale\":[[0.0,\"#0d0887\"],[0.1111111111111111,\"#46039f\"],[0.2222222222222222,\"#7201a8\"],[0.3333333333333333,\"#9c179e\"],[0.4444444444444444,\"#bd3786\"],[0.5555555555555556,\"#d8576b\"],[0.6666666666666666,\"#ed7953\"],[0.7777777777777778,\"#fb9f3a\"],[0.8888888888888888,\"#fdca26\"],[1.0,\"#f0f921\"]]}],\"heatmap\":[{\"type\":\"heatmap\",\"colorbar\":{\"outlinewidth\":0,\"ticks\":\"\"},\"colorscale\":[[0.0,\"#0d0887\"],[0.1111111111111111,\"#46039f\"],[0.2222222222222222,\"#7201a8\"],[0.3333333333333333,\"#9c179e\"],[0.4444444444444444,\"#bd3786\"],[0.5555555555555556,\"#d8576b\"],[0.6666666666666666,\"#ed7953\"],[0.7777777777777778,\"#fb9f3a\"],[0.8888888888888888,\"#fdca26\"],[1.0,\"#f0f921\"]]}],\"heatmapgl\":[{\"type\":\"heatmapgl\",\"colorbar\":{\"outlinewidth\":0,\"ticks\":\"\"},\"colorscale\":[[0.0,\"#0d0887\"],[0.1111111111111111,\"#46039f\"],[0.2222222222222222,\"#7201a8\"],[0.3333333333333333,\"#9c179e\"],[0.4444444444444444,\"#bd3786\"],[0.5555555555555556,\"#d8576b\"],[0.6666666666666666,\"#ed7953\"],[0.7777777777777778,\"#fb9f3a\"],[0.8888888888888888,\"#fdca26\"],[1.0,\"#f0f921\"]]}],\"contourcarpet\":[{\"type\":\"contourcarpet\",\"colorbar\":{\"outlinewidth\":0,\"ticks\":\"\"}}],\"contour\":[{\"type\":\"contour\",\"colorbar\":{\"outlinewidth\":0,\"ticks\":\"\"},\"colorscale\":[[0.0,\"#0d0887\"],[0.1111111111111111,\"#46039f\"],[0.2222222222222222,\"#7201a8\"],[0.3333333333333333,\"#9c179e\"],[0.4444444444444444,\"#bd3786\"],[0.5555555555555556,\"#d8576b\"],[0.6666666666666666,\"#ed7953\"],[0.7777777777777778,\"#fb9f3a\"],[0.8888888888888888,\"#fdca26\"],[1.0,\"#f0f921\"]]}],\"surface\":[{\"type\":\"surface\",\"colorbar\":{\"outlinewidth\":0,\"ticks\":\"\"},\"colorscale\":[[0.0,\"#0d0887\"],[0.1111111111111111,\"#46039f\"],[0.2222222222222222,\"#7201a8\"],[0.3333333333333333,\"#9c179e\"],[0.4444444444444444,\"#bd3786\"],[0.5555555555555556,\"#d8576b\"],[0.6666666666666666,\"#ed7953\"],[0.7777777777777778,\"#fb9f3a\"],[0.8888888888888888,\"#fdca26\"],[1.0,\"#f0f921\"]]}],\"mesh3d\":[{\"type\":\"mesh3d\",\"colorbar\":{\"outlinewidth\":0,\"ticks\":\"\"}}],\"scatter\":[{\"fillpattern\":{\"fillmode\":\"overlay\",\"size\":10,\"solidity\":0.2},\"type\":\"scatter\"}],\"parcoords\":[{\"type\":\"parcoords\",\"line\":{\"colorbar\":{\"outlinewidth\":0,\"ticks\":\"\"}}}],\"scatterpolargl\":[{\"type\":\"scatterpolargl\",\"marker\":{\"colorbar\":{\"outlinewidth\":0,\"ticks\":\"\"}}}],\"bar\":[{\"error_x\":{\"color\":\"#2a3f5f\"},\"error_y\":{\"color\":\"#2a3f5f\"},\"marker\":{\"line\":{\"color\":\"#E5ECF6\",\"width\":0.5},\"pattern\":{\"fillmode\":\"overlay\",\"size\":10,\"solidity\":0.2}},\"type\":\"bar\"}],\"scattergeo\":[{\"type\":\"scattergeo\",\"marker\":{\"colorbar\":{\"outlinewidth\":0,\"ticks\":\"\"}}}],\"scatterpolar\":[{\"type\":\"scatterpolar\",\"marker\":{\"colorbar\":{\"outlinewidth\":0,\"ticks\":\"\"}}}],\"histogram\":[{\"marker\":{\"pattern\":{\"fillmode\":\"overlay\",\"size\":10,\"solidity\":0.2}},\"type\":\"histogram\"}],\"scattergl\":[{\"type\":\"scattergl\",\"marker\":{\"colorbar\":{\"outlinewidth\":0,\"ticks\":\"\"}}}],\"scatter3d\":[{\"type\":\"scatter3d\",\"line\":{\"colorbar\":{\"outlinewidth\":0,\"ticks\":\"\"}},\"marker\":{\"colorbar\":{\"outlinewidth\":0,\"ticks\":\"\"}}}],\"scattermapbox\":[{\"type\":\"scattermapbox\",\"marker\":{\"colorbar\":{\"outlinewidth\":0,\"ticks\":\"\"}}}],\"scatterternary\":[{\"type\":\"scatterternary\",\"marker\":{\"colorbar\":{\"outlinewidth\":0,\"ticks\":\"\"}}}],\"scattercarpet\":[{\"type\":\"scattercarpet\",\"marker\":{\"colorbar\":{\"outlinewidth\":0,\"ticks\":\"\"}}}],\"carpet\":[{\"aaxis\":{\"endlinecolor\":\"#2a3f5f\",\"gridcolor\":\"white\",\"linecolor\":\"white\",\"minorgridcolor\":\"white\",\"startlinecolor\":\"#2a3f5f\"},\"baxis\":{\"endlinecolor\":\"#2a3f5f\",\"gridcolor\":\"white\",\"linecolor\":\"white\",\"minorgridcolor\":\"white\",\"startlinecolor\":\"#2a3f5f\"},\"type\":\"carpet\"}],\"table\":[{\"cells\":{\"fill\":{\"color\":\"#EBF0F8\"},\"line\":{\"color\":\"white\"}},\"header\":{\"fill\":{\"color\":\"#C8D4E3\"},\"line\":{\"color\":\"white\"}},\"type\":\"table\"}],\"barpolar\":[{\"marker\":{\"line\":{\"color\":\"#E5ECF6\",\"width\":0.5},\"pattern\":{\"fillmode\":\"overlay\",\"size\":10,\"solidity\":0.2}},\"type\":\"barpolar\"}],\"pie\":[{\"automargin\":true,\"type\":\"pie\"}]},\"layout\":{\"autotypenumbers\":\"strict\",\"colorway\":[\"#636efa\",\"#EF553B\",\"#00cc96\",\"#ab63fa\",\"#FFA15A\",\"#19d3f3\",\"#FF6692\",\"#B6E880\",\"#FF97FF\",\"#FECB52\"],\"font\":{\"color\":\"#2a3f5f\"},\"hovermode\":\"closest\",\"hoverlabel\":{\"align\":\"left\"},\"paper_bgcolor\":\"white\",\"plot_bgcolor\":\"#E5ECF6\",\"polar\":{\"bgcolor\":\"#E5ECF6\",\"angularaxis\":{\"gridcolor\":\"white\",\"linecolor\":\"white\",\"ticks\":\"\"},\"radialaxis\":{\"gridcolor\":\"white\",\"linecolor\":\"white\",\"ticks\":\"\"}},\"ternary\":{\"bgcolor\":\"#E5ECF6\",\"aaxis\":{\"gridcolor\":\"white\",\"linecolor\":\"white\",\"ticks\":\"\"},\"baxis\":{\"gridcolor\":\"white\",\"linecolor\":\"white\",\"ticks\":\"\"},\"caxis\":{\"gridcolor\":\"white\",\"linecolor\":\"white\",\"ticks\":\"\"}},\"coloraxis\":{\"colorbar\":{\"outlinewidth\":0,\"ticks\":\"\"}},\"colorscale\":{\"sequential\":[[0.0,\"#0d0887\"],[0.1111111111111111,\"#46039f\"],[0.2222222222222222,\"#7201a8\"],[0.3333333333333333,\"#9c179e\"],[0.4444444444444444,\"#bd3786\"],[0.5555555555555556,\"#d8576b\"],[0.6666666666666666,\"#ed7953\"],[0.7777777777777778,\"#fb9f3a\"],[0.8888888888888888,\"#fdca26\"],[1.0,\"#f0f921\"]],\"sequentialminus\":[[0.0,\"#0d0887\"],[0.1111111111111111,\"#46039f\"],[0.2222222222222222,\"#7201a8\"],[0.3333333333333333,\"#9c179e\"],[0.4444444444444444,\"#bd3786\"],[0.5555555555555556,\"#d8576b\"],[0.6666666666666666,\"#ed7953\"],[0.7777777777777778,\"#fb9f3a\"],[0.8888888888888888,\"#fdca26\"],[1.0,\"#f0f921\"]],\"diverging\":[[0,\"#8e0152\"],[0.1,\"#c51b7d\"],[0.2,\"#de77ae\"],[0.3,\"#f1b6da\"],[0.4,\"#fde0ef\"],[0.5,\"#f7f7f7\"],[0.6,\"#e6f5d0\"],[0.7,\"#b8e186\"],[0.8,\"#7fbc41\"],[0.9,\"#4d9221\"],[1,\"#276419\"]]},\"xaxis\":{\"gridcolor\":\"white\",\"linecolor\":\"white\",\"ticks\":\"\",\"title\":{\"standoff\":15},\"zerolinecolor\":\"white\",\"automargin\":true,\"zerolinewidth\":2},\"yaxis\":{\"gridcolor\":\"white\",\"linecolor\":\"white\",\"ticks\":\"\",\"title\":{\"standoff\":15},\"zerolinecolor\":\"white\",\"automargin\":true,\"zerolinewidth\":2},\"scene\":{\"xaxis\":{\"backgroundcolor\":\"#E5ECF6\",\"gridcolor\":\"white\",\"linecolor\":\"white\",\"showbackground\":true,\"ticks\":\"\",\"zerolinecolor\":\"white\",\"gridwidth\":2},\"yaxis\":{\"backgroundcolor\":\"#E5ECF6\",\"gridcolor\":\"white\",\"linecolor\":\"white\",\"showbackground\":true,\"ticks\":\"\",\"zerolinecolor\":\"white\",\"gridwidth\":2},\"zaxis\":{\"backgroundcolor\":\"#E5ECF6\",\"gridcolor\":\"white\",\"linecolor\":\"white\",\"showbackground\":true,\"ticks\":\"\",\"zerolinecolor\":\"white\",\"gridwidth\":2}},\"shapedefaults\":{\"line\":{\"color\":\"#2a3f5f\"}},\"annotationdefaults\":{\"arrowcolor\":\"#2a3f5f\",\"arrowhead\":0,\"arrowwidth\":1},\"geo\":{\"bgcolor\":\"white\",\"landcolor\":\"#E5ECF6\",\"subunitcolor\":\"white\",\"showland\":true,\"showlakes\":true,\"lakecolor\":\"white\"},\"title\":{\"x\":0.05},\"mapbox\":{\"style\":\"light\"}}},\"xaxis\":{\"title\":{\"text\":\"Features\"},\"tickangle\":-45},\"title\":{\"text\":\"Catboost Model Feature Importances\"},\"yaxis\":{\"title\":{\"text\":\"Importance\"}}},                        {\"responsive\": true}                    ).then(function(){\n",
       "                            \n",
       "var gd = document.getElementById('91c8cc6b-ccbc-47ba-98d4-d7d46e448d36');\n",
       "var x = new MutationObserver(function (mutations, observer) {{\n",
       "        var display = window.getComputedStyle(gd).display;\n",
       "        if (!display || display === 'none') {{\n",
       "            console.log([gd, 'removed!']);\n",
       "            Plotly.purge(gd);\n",
       "            observer.disconnect();\n",
       "        }}\n",
       "}});\n",
       "\n",
       "// Listen for the removal of the full notebook cells\n",
       "var notebookContainer = gd.closest('#notebook-container');\n",
       "if (notebookContainer) {{\n",
       "    x.observe(notebookContainer, {childList: true});\n",
       "}}\n",
       "\n",
       "// Listen for the clearing of the current output cell\n",
       "var outputEl = gd.closest('.output');\n",
       "if (outputEl) {{\n",
       "    x.observe(outputEl, {childList: true});\n",
       "}}\n",
       "\n",
       "                        })                };                });            </script>        </div>"
      ]
     },
     "metadata": {},
     "output_type": "display_data"
    }
   ],
   "source": [
    "# Get the feature importance values\n",
    "feature_importance = cb.feature_importances_\n",
    "\n",
    "# Get feature names\n",
    "feature_names = cb.feature_names_\n",
    "\n",
    "# sort features in descending orders\n",
    "sorted_indices = np.argsort(feature_importance)[::-1]\n",
    "sorted_feature_importance = feature_importance[sorted_indices]\n",
    "sorted_feature_names = np.array(feature_names)[sorted_indices]\n",
    "\n",
    "# Create a bar plot\n",
    "fig = go.Figure(data=[go.Bar(x=sorted_feature_names, y=sorted_feature_importance)])\n",
    "\n",
    "fig.update_layout(title=\"Catboost Model Feature Importances\", xaxis_title=\"Features\", yaxis_title=\"Importance\", xaxis_tickangle=-45)\n",
    "fig.show()"
   ]
  },
  {
   "cell_type": "markdown",
   "id": "580c1ffe-02ac-4eb9-b308-a078d50429d8",
   "metadata": {},
   "source": [
    "## LightGBM Model"
   ]
  },
  {
   "cell_type": "code",
   "execution_count": 36,
   "id": "db219916-45d9-46d0-a5e4-52ff9980fdbf",
   "metadata": {},
   "outputs": [
    {
     "name": "stderr",
     "output_type": "stream",
     "text": [
      "C:\\Users\\sarvin.farhad\\anaconda3\\Lib\\site-packages\\sklearn\\preprocessing\\_encoders.py:975: FutureWarning:\n",
      "\n",
      "`sparse` was renamed to `sparse_output` in version 1.2 and will be removed in 1.4. `sparse_output` is ignored unless you leave `sparse` to its default value.\n",
      "\n",
      "C:\\Users\\sarvin.farhad\\anaconda3\\Lib\\site-packages\\sklearn\\preprocessing\\_encoders.py:975: FutureWarning:\n",
      "\n",
      "`sparse` was renamed to `sparse_output` in version 1.2 and will be removed in 1.4. `sparse_output` is ignored unless you leave `sparse` to its default value.\n",
      "\n",
      "C:\\Users\\sarvin.farhad\\anaconda3\\Lib\\site-packages\\sklearn\\preprocessing\\_encoders.py:975: FutureWarning:\n",
      "\n",
      "`sparse` was renamed to `sparse_output` in version 1.2 and will be removed in 1.4. `sparse_output` is ignored unless you leave `sparse` to its default value.\n",
      "\n",
      "C:\\Users\\sarvin.farhad\\anaconda3\\Lib\\site-packages\\sklearn\\preprocessing\\_encoders.py:975: FutureWarning:\n",
      "\n",
      "`sparse` was renamed to `sparse_output` in version 1.2 and will be removed in 1.4. `sparse_output` is ignored unless you leave `sparse` to its default value.\n",
      "\n",
      "C:\\Users\\sarvin.farhad\\anaconda3\\Lib\\site-packages\\sklearn\\preprocessing\\_encoders.py:975: FutureWarning:\n",
      "\n",
      "`sparse` was renamed to `sparse_output` in version 1.2 and will be removed in 1.4. `sparse_output` is ignored unless you leave `sparse` to its default value.\n",
      "\n",
      "C:\\Users\\sarvin.farhad\\anaconda3\\Lib\\site-packages\\sklearn\\preprocessing\\_encoders.py:975: FutureWarning:\n",
      "\n",
      "`sparse` was renamed to `sparse_output` in version 1.2 and will be removed in 1.4. `sparse_output` is ignored unless you leave `sparse` to its default value.\n",
      "\n",
      "C:\\Users\\sarvin.farhad\\anaconda3\\Lib\\site-packages\\sklearn\\preprocessing\\_encoders.py:975: FutureWarning:\n",
      "\n",
      "`sparse` was renamed to `sparse_output` in version 1.2 and will be removed in 1.4. `sparse_output` is ignored unless you leave `sparse` to its default value.\n",
      "\n",
      "C:\\Users\\sarvin.farhad\\anaconda3\\Lib\\site-packages\\sklearn\\preprocessing\\_encoders.py:975: FutureWarning:\n",
      "\n",
      "`sparse` was renamed to `sparse_output` in version 1.2 and will be removed in 1.4. `sparse_output` is ignored unless you leave `sparse` to its default value.\n",
      "\n",
      "C:\\Users\\sarvin.farhad\\anaconda3\\Lib\\site-packages\\sklearn\\preprocessing\\_encoders.py:975: FutureWarning:\n",
      "\n",
      "`sparse` was renamed to `sparse_output` in version 1.2 and will be removed in 1.4. `sparse_output` is ignored unless you leave `sparse` to its default value.\n",
      "\n",
      "C:\\Users\\sarvin.farhad\\anaconda3\\Lib\\site-packages\\sklearn\\preprocessing\\_encoders.py:975: FutureWarning:\n",
      "\n",
      "`sparse` was renamed to `sparse_output` in version 1.2 and will be removed in 1.4. `sparse_output` is ignored unless you leave `sparse` to its default value.\n",
      "\n",
      "C:\\Users\\sarvin.farhad\\anaconda3\\Lib\\site-packages\\sklearn\\preprocessing\\_encoders.py:975: FutureWarning:\n",
      "\n",
      "`sparse` was renamed to `sparse_output` in version 1.2 and will be removed in 1.4. `sparse_output` is ignored unless you leave `sparse` to its default value.\n",
      "\n",
      "C:\\Users\\sarvin.farhad\\anaconda3\\Lib\\site-packages\\sklearn\\preprocessing\\_encoders.py:975: FutureWarning:\n",
      "\n",
      "`sparse` was renamed to `sparse_output` in version 1.2 and will be removed in 1.4. `sparse_output` is ignored unless you leave `sparse` to its default value.\n",
      "\n",
      "C:\\Users\\sarvin.farhad\\anaconda3\\Lib\\site-packages\\sklearn\\preprocessing\\_encoders.py:975: FutureWarning:\n",
      "\n",
      "`sparse` was renamed to `sparse_output` in version 1.2 and will be removed in 1.4. `sparse_output` is ignored unless you leave `sparse` to its default value.\n",
      "\n",
      "C:\\Users\\sarvin.farhad\\anaconda3\\Lib\\site-packages\\sklearn\\preprocessing\\_encoders.py:975: FutureWarning:\n",
      "\n",
      "`sparse` was renamed to `sparse_output` in version 1.2 and will be removed in 1.4. `sparse_output` is ignored unless you leave `sparse` to its default value.\n",
      "\n",
      "C:\\Users\\sarvin.farhad\\anaconda3\\Lib\\site-packages\\sklearn\\preprocessing\\_encoders.py:975: FutureWarning:\n",
      "\n",
      "`sparse` was renamed to `sparse_output` in version 1.2 and will be removed in 1.4. `sparse_output` is ignored unless you leave `sparse` to its default value.\n",
      "\n",
      "C:\\Users\\sarvin.farhad\\anaconda3\\Lib\\site-packages\\sklearn\\preprocessing\\_encoders.py:975: FutureWarning:\n",
      "\n",
      "`sparse` was renamed to `sparse_output` in version 1.2 and will be removed in 1.4. `sparse_output` is ignored unless you leave `sparse` to its default value.\n",
      "\n",
      "C:\\Users\\sarvin.farhad\\anaconda3\\Lib\\site-packages\\sklearn\\preprocessing\\_encoders.py:975: FutureWarning:\n",
      "\n",
      "`sparse` was renamed to `sparse_output` in version 1.2 and will be removed in 1.4. `sparse_output` is ignored unless you leave `sparse` to its default value.\n",
      "\n",
      "C:\\Users\\sarvin.farhad\\anaconda3\\Lib\\site-packages\\sklearn\\preprocessing\\_encoders.py:975: FutureWarning:\n",
      "\n",
      "`sparse` was renamed to `sparse_output` in version 1.2 and will be removed in 1.4. `sparse_output` is ignored unless you leave `sparse` to its default value.\n",
      "\n",
      "C:\\Users\\sarvin.farhad\\anaconda3\\Lib\\site-packages\\sklearn\\preprocessing\\_encoders.py:975: FutureWarning:\n",
      "\n",
      "`sparse` was renamed to `sparse_output` in version 1.2 and will be removed in 1.4. `sparse_output` is ignored unless you leave `sparse` to its default value.\n",
      "\n",
      "C:\\Users\\sarvin.farhad\\anaconda3\\Lib\\site-packages\\sklearn\\preprocessing\\_encoders.py:975: FutureWarning:\n",
      "\n",
      "`sparse` was renamed to `sparse_output` in version 1.2 and will be removed in 1.4. `sparse_output` is ignored unless you leave `sparse` to its default value.\n",
      "\n",
      "C:\\Users\\sarvin.farhad\\anaconda3\\Lib\\site-packages\\sklearn\\preprocessing\\_encoders.py:975: FutureWarning:\n",
      "\n",
      "`sparse` was renamed to `sparse_output` in version 1.2 and will be removed in 1.4. `sparse_output` is ignored unless you leave `sparse` to its default value.\n",
      "\n",
      "C:\\Users\\sarvin.farhad\\anaconda3\\Lib\\site-packages\\sklearn\\preprocessing\\_encoders.py:975: FutureWarning:\n",
      "\n",
      "`sparse` was renamed to `sparse_output` in version 1.2 and will be removed in 1.4. `sparse_output` is ignored unless you leave `sparse` to its default value.\n",
      "\n",
      "C:\\Users\\sarvin.farhad\\anaconda3\\Lib\\site-packages\\sklearn\\preprocessing\\_encoders.py:975: FutureWarning:\n",
      "\n",
      "`sparse` was renamed to `sparse_output` in version 1.2 and will be removed in 1.4. `sparse_output` is ignored unless you leave `sparse` to its default value.\n",
      "\n",
      "C:\\Users\\sarvin.farhad\\anaconda3\\Lib\\site-packages\\sklearn\\preprocessing\\_encoders.py:975: FutureWarning:\n",
      "\n",
      "`sparse` was renamed to `sparse_output` in version 1.2 and will be removed in 1.4. `sparse_output` is ignored unless you leave `sparse` to its default value.\n",
      "\n",
      "C:\\Users\\sarvin.farhad\\anaconda3\\Lib\\site-packages\\sklearn\\preprocessing\\_encoders.py:975: FutureWarning:\n",
      "\n",
      "`sparse` was renamed to `sparse_output` in version 1.2 and will be removed in 1.4. `sparse_output` is ignored unless you leave `sparse` to its default value.\n",
      "\n",
      "C:\\Users\\sarvin.farhad\\anaconda3\\Lib\\site-packages\\sklearn\\preprocessing\\_encoders.py:975: FutureWarning:\n",
      "\n",
      "`sparse` was renamed to `sparse_output` in version 1.2 and will be removed in 1.4. `sparse_output` is ignored unless you leave `sparse` to its default value.\n",
      "\n",
      "C:\\Users\\sarvin.farhad\\anaconda3\\Lib\\site-packages\\sklearn\\preprocessing\\_encoders.py:975: FutureWarning:\n",
      "\n",
      "`sparse` was renamed to `sparse_output` in version 1.2 and will be removed in 1.4. `sparse_output` is ignored unless you leave `sparse` to its default value.\n",
      "\n",
      "C:\\Users\\sarvin.farhad\\anaconda3\\Lib\\site-packages\\sklearn\\preprocessing\\_encoders.py:975: FutureWarning:\n",
      "\n",
      "`sparse` was renamed to `sparse_output` in version 1.2 and will be removed in 1.4. `sparse_output` is ignored unless you leave `sparse` to its default value.\n",
      "\n",
      "C:\\Users\\sarvin.farhad\\anaconda3\\Lib\\site-packages\\sklearn\\preprocessing\\_encoders.py:975: FutureWarning:\n",
      "\n",
      "`sparse` was renamed to `sparse_output` in version 1.2 and will be removed in 1.4. `sparse_output` is ignored unless you leave `sparse` to its default value.\n",
      "\n",
      "C:\\Users\\sarvin.farhad\\anaconda3\\Lib\\site-packages\\sklearn\\preprocessing\\_encoders.py:975: FutureWarning:\n",
      "\n",
      "`sparse` was renamed to `sparse_output` in version 1.2 and will be removed in 1.4. `sparse_output` is ignored unless you leave `sparse` to its default value.\n",
      "\n",
      "C:\\Users\\sarvin.farhad\\anaconda3\\Lib\\site-packages\\sklearn\\preprocessing\\_encoders.py:975: FutureWarning:\n",
      "\n",
      "`sparse` was renamed to `sparse_output` in version 1.2 and will be removed in 1.4. `sparse_output` is ignored unless you leave `sparse` to its default value.\n",
      "\n",
      "C:\\Users\\sarvin.farhad\\anaconda3\\Lib\\site-packages\\sklearn\\preprocessing\\_encoders.py:975: FutureWarning:\n",
      "\n",
      "`sparse` was renamed to `sparse_output` in version 1.2 and will be removed in 1.4. `sparse_output` is ignored unless you leave `sparse` to its default value.\n",
      "\n",
      "C:\\Users\\sarvin.farhad\\anaconda3\\Lib\\site-packages\\sklearn\\preprocessing\\_encoders.py:975: FutureWarning:\n",
      "\n",
      "`sparse` was renamed to `sparse_output` in version 1.2 and will be removed in 1.4. `sparse_output` is ignored unless you leave `sparse` to its default value.\n",
      "\n",
      "C:\\Users\\sarvin.farhad\\anaconda3\\Lib\\site-packages\\sklearn\\preprocessing\\_encoders.py:975: FutureWarning:\n",
      "\n",
      "`sparse` was renamed to `sparse_output` in version 1.2 and will be removed in 1.4. `sparse_output` is ignored unless you leave `sparse` to its default value.\n",
      "\n",
      "C:\\Users\\sarvin.farhad\\anaconda3\\Lib\\site-packages\\sklearn\\preprocessing\\_encoders.py:975: FutureWarning:\n",
      "\n",
      "`sparse` was renamed to `sparse_output` in version 1.2 and will be removed in 1.4. `sparse_output` is ignored unless you leave `sparse` to its default value.\n",
      "\n",
      "C:\\Users\\sarvin.farhad\\anaconda3\\Lib\\site-packages\\sklearn\\preprocessing\\_encoders.py:975: FutureWarning:\n",
      "\n",
      "`sparse` was renamed to `sparse_output` in version 1.2 and will be removed in 1.4. `sparse_output` is ignored unless you leave `sparse` to its default value.\n",
      "\n",
      "C:\\Users\\sarvin.farhad\\anaconda3\\Lib\\site-packages\\sklearn\\preprocessing\\_encoders.py:975: FutureWarning:\n",
      "\n",
      "`sparse` was renamed to `sparse_output` in version 1.2 and will be removed in 1.4. `sparse_output` is ignored unless you leave `sparse` to its default value.\n",
      "\n",
      "C:\\Users\\sarvin.farhad\\anaconda3\\Lib\\site-packages\\sklearn\\preprocessing\\_encoders.py:975: FutureWarning:\n",
      "\n",
      "`sparse` was renamed to `sparse_output` in version 1.2 and will be removed in 1.4. `sparse_output` is ignored unless you leave `sparse` to its default value.\n",
      "\n",
      "C:\\Users\\sarvin.farhad\\anaconda3\\Lib\\site-packages\\sklearn\\preprocessing\\_encoders.py:975: FutureWarning:\n",
      "\n",
      "`sparse` was renamed to `sparse_output` in version 1.2 and will be removed in 1.4. `sparse_output` is ignored unless you leave `sparse` to its default value.\n",
      "\n",
      "C:\\Users\\sarvin.farhad\\anaconda3\\Lib\\site-packages\\sklearn\\preprocessing\\_encoders.py:975: FutureWarning:\n",
      "\n",
      "`sparse` was renamed to `sparse_output` in version 1.2 and will be removed in 1.4. `sparse_output` is ignored unless you leave `sparse` to its default value.\n",
      "\n",
      "C:\\Users\\sarvin.farhad\\anaconda3\\Lib\\site-packages\\sklearn\\preprocessing\\_encoders.py:975: FutureWarning:\n",
      "\n",
      "`sparse` was renamed to `sparse_output` in version 1.2 and will be removed in 1.4. `sparse_output` is ignored unless you leave `sparse` to its default value.\n",
      "\n",
      "C:\\Users\\sarvin.farhad\\anaconda3\\Lib\\site-packages\\sklearn\\preprocessing\\_encoders.py:975: FutureWarning:\n",
      "\n",
      "`sparse` was renamed to `sparse_output` in version 1.2 and will be removed in 1.4. `sparse_output` is ignored unless you leave `sparse` to its default value.\n",
      "\n",
      "C:\\Users\\sarvin.farhad\\anaconda3\\Lib\\site-packages\\sklearn\\preprocessing\\_encoders.py:975: FutureWarning:\n",
      "\n",
      "`sparse` was renamed to `sparse_output` in version 1.2 and will be removed in 1.4. `sparse_output` is ignored unless you leave `sparse` to its default value.\n",
      "\n",
      "C:\\Users\\sarvin.farhad\\anaconda3\\Lib\\site-packages\\sklearn\\preprocessing\\_encoders.py:975: FutureWarning:\n",
      "\n",
      "`sparse` was renamed to `sparse_output` in version 1.2 and will be removed in 1.4. `sparse_output` is ignored unless you leave `sparse` to its default value.\n",
      "\n",
      "C:\\Users\\sarvin.farhad\\anaconda3\\Lib\\site-packages\\sklearn\\preprocessing\\_encoders.py:975: FutureWarning:\n",
      "\n",
      "`sparse` was renamed to `sparse_output` in version 1.2 and will be removed in 1.4. `sparse_output` is ignored unless you leave `sparse` to its default value.\n",
      "\n",
      "C:\\Users\\sarvin.farhad\\anaconda3\\Lib\\site-packages\\sklearn\\preprocessing\\_encoders.py:975: FutureWarning:\n",
      "\n",
      "`sparse` was renamed to `sparse_output` in version 1.2 and will be removed in 1.4. `sparse_output` is ignored unless you leave `sparse` to its default value.\n",
      "\n",
      "C:\\Users\\sarvin.farhad\\anaconda3\\Lib\\site-packages\\sklearn\\preprocessing\\_encoders.py:975: FutureWarning:\n",
      "\n",
      "`sparse` was renamed to `sparse_output` in version 1.2 and will be removed in 1.4. `sparse_output` is ignored unless you leave `sparse` to its default value.\n",
      "\n",
      "C:\\Users\\sarvin.farhad\\anaconda3\\Lib\\site-packages\\sklearn\\preprocessing\\_encoders.py:975: FutureWarning:\n",
      "\n",
      "`sparse` was renamed to `sparse_output` in version 1.2 and will be removed in 1.4. `sparse_output` is ignored unless you leave `sparse` to its default value.\n",
      "\n",
      "C:\\Users\\sarvin.farhad\\anaconda3\\Lib\\site-packages\\sklearn\\preprocessing\\_encoders.py:975: FutureWarning:\n",
      "\n",
      "`sparse` was renamed to `sparse_output` in version 1.2 and will be removed in 1.4. `sparse_output` is ignored unless you leave `sparse` to its default value.\n",
      "\n",
      "C:\\Users\\sarvin.farhad\\anaconda3\\Lib\\site-packages\\sklearn\\preprocessing\\_encoders.py:975: FutureWarning:\n",
      "\n",
      "`sparse` was renamed to `sparse_output` in version 1.2 and will be removed in 1.4. `sparse_output` is ignored unless you leave `sparse` to its default value.\n",
      "\n",
      "C:\\Users\\sarvin.farhad\\anaconda3\\Lib\\site-packages\\sklearn\\preprocessing\\_encoders.py:975: FutureWarning:\n",
      "\n",
      "`sparse` was renamed to `sparse_output` in version 1.2 and will be removed in 1.4. `sparse_output` is ignored unless you leave `sparse` to its default value.\n",
      "\n",
      "C:\\Users\\sarvin.farhad\\anaconda3\\Lib\\site-packages\\sklearn\\preprocessing\\_encoders.py:975: FutureWarning:\n",
      "\n",
      "`sparse` was renamed to `sparse_output` in version 1.2 and will be removed in 1.4. `sparse_output` is ignored unless you leave `sparse` to its default value.\n",
      "\n",
      "C:\\Users\\sarvin.farhad\\anaconda3\\Lib\\site-packages\\sklearn\\preprocessing\\_encoders.py:975: FutureWarning:\n",
      "\n",
      "`sparse` was renamed to `sparse_output` in version 1.2 and will be removed in 1.4. `sparse_output` is ignored unless you leave `sparse` to its default value.\n",
      "\n",
      "C:\\Users\\sarvin.farhad\\anaconda3\\Lib\\site-packages\\sklearn\\preprocessing\\_encoders.py:975: FutureWarning:\n",
      "\n",
      "`sparse` was renamed to `sparse_output` in version 1.2 and will be removed in 1.4. `sparse_output` is ignored unless you leave `sparse` to its default value.\n",
      "\n",
      "C:\\Users\\sarvin.farhad\\anaconda3\\Lib\\site-packages\\sklearn\\preprocessing\\_encoders.py:975: FutureWarning:\n",
      "\n",
      "`sparse` was renamed to `sparse_output` in version 1.2 and will be removed in 1.4. `sparse_output` is ignored unless you leave `sparse` to its default value.\n",
      "\n",
      "C:\\Users\\sarvin.farhad\\anaconda3\\Lib\\site-packages\\sklearn\\preprocessing\\_encoders.py:975: FutureWarning:\n",
      "\n",
      "`sparse` was renamed to `sparse_output` in version 1.2 and will be removed in 1.4. `sparse_output` is ignored unless you leave `sparse` to its default value.\n",
      "\n",
      "C:\\Users\\sarvin.farhad\\anaconda3\\Lib\\site-packages\\sklearn\\preprocessing\\_encoders.py:975: FutureWarning:\n",
      "\n",
      "`sparse` was renamed to `sparse_output` in version 1.2 and will be removed in 1.4. `sparse_output` is ignored unless you leave `sparse` to its default value.\n",
      "\n",
      "C:\\Users\\sarvin.farhad\\anaconda3\\Lib\\site-packages\\sklearn\\preprocessing\\_encoders.py:975: FutureWarning:\n",
      "\n",
      "`sparse` was renamed to `sparse_output` in version 1.2 and will be removed in 1.4. `sparse_output` is ignored unless you leave `sparse` to its default value.\n",
      "\n",
      "C:\\Users\\sarvin.farhad\\anaconda3\\Lib\\site-packages\\sklearn\\preprocessing\\_encoders.py:975: FutureWarning:\n",
      "\n",
      "`sparse` was renamed to `sparse_output` in version 1.2 and will be removed in 1.4. `sparse_output` is ignored unless you leave `sparse` to its default value.\n",
      "\n",
      "C:\\Users\\sarvin.farhad\\anaconda3\\Lib\\site-packages\\sklearn\\preprocessing\\_encoders.py:975: FutureWarning:\n",
      "\n",
      "`sparse` was renamed to `sparse_output` in version 1.2 and will be removed in 1.4. `sparse_output` is ignored unless you leave `sparse` to its default value.\n",
      "\n",
      "C:\\Users\\sarvin.farhad\\anaconda3\\Lib\\site-packages\\sklearn\\preprocessing\\_encoders.py:975: FutureWarning:\n",
      "\n",
      "`sparse` was renamed to `sparse_output` in version 1.2 and will be removed in 1.4. `sparse_output` is ignored unless you leave `sparse` to its default value.\n",
      "\n",
      "C:\\Users\\sarvin.farhad\\anaconda3\\Lib\\site-packages\\sklearn\\preprocessing\\_encoders.py:975: FutureWarning:\n",
      "\n",
      "`sparse` was renamed to `sparse_output` in version 1.2 and will be removed in 1.4. `sparse_output` is ignored unless you leave `sparse` to its default value.\n",
      "\n",
      "C:\\Users\\sarvin.farhad\\anaconda3\\Lib\\site-packages\\sklearn\\preprocessing\\_encoders.py:975: FutureWarning:\n",
      "\n",
      "`sparse` was renamed to `sparse_output` in version 1.2 and will be removed in 1.4. `sparse_output` is ignored unless you leave `sparse` to its default value.\n",
      "\n",
      "C:\\Users\\sarvin.farhad\\anaconda3\\Lib\\site-packages\\sklearn\\preprocessing\\_encoders.py:975: FutureWarning:\n",
      "\n",
      "`sparse` was renamed to `sparse_output` in version 1.2 and will be removed in 1.4. `sparse_output` is ignored unless you leave `sparse` to its default value.\n",
      "\n",
      "C:\\Users\\sarvin.farhad\\anaconda3\\Lib\\site-packages\\sklearn\\preprocessing\\_encoders.py:975: FutureWarning:\n",
      "\n",
      "`sparse` was renamed to `sparse_output` in version 1.2 and will be removed in 1.4. `sparse_output` is ignored unless you leave `sparse` to its default value.\n",
      "\n",
      "C:\\Users\\sarvin.farhad\\anaconda3\\Lib\\site-packages\\sklearn\\preprocessing\\_encoders.py:975: FutureWarning:\n",
      "\n",
      "`sparse` was renamed to `sparse_output` in version 1.2 and will be removed in 1.4. `sparse_output` is ignored unless you leave `sparse` to its default value.\n",
      "\n",
      "C:\\Users\\sarvin.farhad\\anaconda3\\Lib\\site-packages\\sklearn\\preprocessing\\_encoders.py:975: FutureWarning:\n",
      "\n",
      "`sparse` was renamed to `sparse_output` in version 1.2 and will be removed in 1.4. `sparse_output` is ignored unless you leave `sparse` to its default value.\n",
      "\n",
      "C:\\Users\\sarvin.farhad\\anaconda3\\Lib\\site-packages\\sklearn\\preprocessing\\_encoders.py:975: FutureWarning:\n",
      "\n",
      "`sparse` was renamed to `sparse_output` in version 1.2 and will be removed in 1.4. `sparse_output` is ignored unless you leave `sparse` to its default value.\n",
      "\n",
      "C:\\Users\\sarvin.farhad\\anaconda3\\Lib\\site-packages\\sklearn\\preprocessing\\_encoders.py:975: FutureWarning:\n",
      "\n",
      "`sparse` was renamed to `sparse_output` in version 1.2 and will be removed in 1.4. `sparse_output` is ignored unless you leave `sparse` to its default value.\n",
      "\n",
      "C:\\Users\\sarvin.farhad\\anaconda3\\Lib\\site-packages\\sklearn\\preprocessing\\_encoders.py:975: FutureWarning:\n",
      "\n",
      "`sparse` was renamed to `sparse_output` in version 1.2 and will be removed in 1.4. `sparse_output` is ignored unless you leave `sparse` to its default value.\n",
      "\n",
      "C:\\Users\\sarvin.farhad\\anaconda3\\Lib\\site-packages\\sklearn\\preprocessing\\_encoders.py:975: FutureWarning:\n",
      "\n",
      "`sparse` was renamed to `sparse_output` in version 1.2 and will be removed in 1.4. `sparse_output` is ignored unless you leave `sparse` to its default value.\n",
      "\n",
      "C:\\Users\\sarvin.farhad\\anaconda3\\Lib\\site-packages\\sklearn\\preprocessing\\_encoders.py:975: FutureWarning:\n",
      "\n",
      "`sparse` was renamed to `sparse_output` in version 1.2 and will be removed in 1.4. `sparse_output` is ignored unless you leave `sparse` to its default value.\n",
      "\n",
      "C:\\Users\\sarvin.farhad\\anaconda3\\Lib\\site-packages\\sklearn\\preprocessing\\_encoders.py:975: FutureWarning:\n",
      "\n",
      "`sparse` was renamed to `sparse_output` in version 1.2 and will be removed in 1.4. `sparse_output` is ignored unless you leave `sparse` to its default value.\n",
      "\n",
      "C:\\Users\\sarvin.farhad\\anaconda3\\Lib\\site-packages\\sklearn\\preprocessing\\_encoders.py:975: FutureWarning:\n",
      "\n",
      "`sparse` was renamed to `sparse_output` in version 1.2 and will be removed in 1.4. `sparse_output` is ignored unless you leave `sparse` to its default value.\n",
      "\n",
      "C:\\Users\\sarvin.farhad\\anaconda3\\Lib\\site-packages\\sklearn\\preprocessing\\_encoders.py:975: FutureWarning:\n",
      "\n",
      "`sparse` was renamed to `sparse_output` in version 1.2 and will be removed in 1.4. `sparse_output` is ignored unless you leave `sparse` to its default value.\n",
      "\n",
      "C:\\Users\\sarvin.farhad\\anaconda3\\Lib\\site-packages\\sklearn\\preprocessing\\_encoders.py:975: FutureWarning:\n",
      "\n",
      "`sparse` was renamed to `sparse_output` in version 1.2 and will be removed in 1.4. `sparse_output` is ignored unless you leave `sparse` to its default value.\n",
      "\n",
      "C:\\Users\\sarvin.farhad\\anaconda3\\Lib\\site-packages\\sklearn\\preprocessing\\_encoders.py:975: FutureWarning:\n",
      "\n",
      "`sparse` was renamed to `sparse_output` in version 1.2 and will be removed in 1.4. `sparse_output` is ignored unless you leave `sparse` to its default value.\n",
      "\n",
      "C:\\Users\\sarvin.farhad\\anaconda3\\Lib\\site-packages\\sklearn\\preprocessing\\_encoders.py:975: FutureWarning:\n",
      "\n",
      "`sparse` was renamed to `sparse_output` in version 1.2 and will be removed in 1.4. `sparse_output` is ignored unless you leave `sparse` to its default value.\n",
      "\n",
      "C:\\Users\\sarvin.farhad\\anaconda3\\Lib\\site-packages\\sklearn\\preprocessing\\_encoders.py:975: FutureWarning:\n",
      "\n",
      "`sparse` was renamed to `sparse_output` in version 1.2 and will be removed in 1.4. `sparse_output` is ignored unless you leave `sparse` to its default value.\n",
      "\n",
      "C:\\Users\\sarvin.farhad\\anaconda3\\Lib\\site-packages\\sklearn\\preprocessing\\_encoders.py:975: FutureWarning:\n",
      "\n",
      "`sparse` was renamed to `sparse_output` in version 1.2 and will be removed in 1.4. `sparse_output` is ignored unless you leave `sparse` to its default value.\n",
      "\n",
      "C:\\Users\\sarvin.farhad\\anaconda3\\Lib\\site-packages\\sklearn\\preprocessing\\_encoders.py:975: FutureWarning:\n",
      "\n",
      "`sparse` was renamed to `sparse_output` in version 1.2 and will be removed in 1.4. `sparse_output` is ignored unless you leave `sparse` to its default value.\n",
      "\n",
      "C:\\Users\\sarvin.farhad\\anaconda3\\Lib\\site-packages\\sklearn\\preprocessing\\_encoders.py:975: FutureWarning:\n",
      "\n",
      "`sparse` was renamed to `sparse_output` in version 1.2 and will be removed in 1.4. `sparse_output` is ignored unless you leave `sparse` to its default value.\n",
      "\n",
      "C:\\Users\\sarvin.farhad\\anaconda3\\Lib\\site-packages\\sklearn\\preprocessing\\_encoders.py:975: FutureWarning:\n",
      "\n",
      "`sparse` was renamed to `sparse_output` in version 1.2 and will be removed in 1.4. `sparse_output` is ignored unless you leave `sparse` to its default value.\n",
      "\n",
      "C:\\Users\\sarvin.farhad\\anaconda3\\Lib\\site-packages\\sklearn\\preprocessing\\_encoders.py:975: FutureWarning:\n",
      "\n",
      "`sparse` was renamed to `sparse_output` in version 1.2 and will be removed in 1.4. `sparse_output` is ignored unless you leave `sparse` to its default value.\n",
      "\n",
      "C:\\Users\\sarvin.farhad\\anaconda3\\Lib\\site-packages\\sklearn\\preprocessing\\_encoders.py:975: FutureWarning:\n",
      "\n",
      "`sparse` was renamed to `sparse_output` in version 1.2 and will be removed in 1.4. `sparse_output` is ignored unless you leave `sparse` to its default value.\n",
      "\n",
      "C:\\Users\\sarvin.farhad\\anaconda3\\Lib\\site-packages\\sklearn\\preprocessing\\_encoders.py:975: FutureWarning:\n",
      "\n",
      "`sparse` was renamed to `sparse_output` in version 1.2 and will be removed in 1.4. `sparse_output` is ignored unless you leave `sparse` to its default value.\n",
      "\n",
      "C:\\Users\\sarvin.farhad\\anaconda3\\Lib\\site-packages\\sklearn\\preprocessing\\_encoders.py:975: FutureWarning:\n",
      "\n",
      "`sparse` was renamed to `sparse_output` in version 1.2 and will be removed in 1.4. `sparse_output` is ignored unless you leave `sparse` to its default value.\n",
      "\n",
      "C:\\Users\\sarvin.farhad\\anaconda3\\Lib\\site-packages\\sklearn\\preprocessing\\_encoders.py:975: FutureWarning:\n",
      "\n",
      "`sparse` was renamed to `sparse_output` in version 1.2 and will be removed in 1.4. `sparse_output` is ignored unless you leave `sparse` to its default value.\n",
      "\n",
      "C:\\Users\\sarvin.farhad\\anaconda3\\Lib\\site-packages\\sklearn\\preprocessing\\_encoders.py:975: FutureWarning:\n",
      "\n",
      "`sparse` was renamed to `sparse_output` in version 1.2 and will be removed in 1.4. `sparse_output` is ignored unless you leave `sparse` to its default value.\n",
      "\n",
      "C:\\Users\\sarvin.farhad\\anaconda3\\Lib\\site-packages\\sklearn\\preprocessing\\_encoders.py:975: FutureWarning:\n",
      "\n",
      "`sparse` was renamed to `sparse_output` in version 1.2 and will be removed in 1.4. `sparse_output` is ignored unless you leave `sparse` to its default value.\n",
      "\n",
      "C:\\Users\\sarvin.farhad\\anaconda3\\Lib\\site-packages\\sklearn\\preprocessing\\_encoders.py:975: FutureWarning:\n",
      "\n",
      "`sparse` was renamed to `sparse_output` in version 1.2 and will be removed in 1.4. `sparse_output` is ignored unless you leave `sparse` to its default value.\n",
      "\n",
      "C:\\Users\\sarvin.farhad\\anaconda3\\Lib\\site-packages\\sklearn\\preprocessing\\_encoders.py:975: FutureWarning:\n",
      "\n",
      "`sparse` was renamed to `sparse_output` in version 1.2 and will be removed in 1.4. `sparse_output` is ignored unless you leave `sparse` to its default value.\n",
      "\n",
      "C:\\Users\\sarvin.farhad\\anaconda3\\Lib\\site-packages\\sklearn\\preprocessing\\_encoders.py:975: FutureWarning:\n",
      "\n",
      "`sparse` was renamed to `sparse_output` in version 1.2 and will be removed in 1.4. `sparse_output` is ignored unless you leave `sparse` to its default value.\n",
      "\n",
      "C:\\Users\\sarvin.farhad\\anaconda3\\Lib\\site-packages\\sklearn\\preprocessing\\_encoders.py:975: FutureWarning:\n",
      "\n",
      "`sparse` was renamed to `sparse_output` in version 1.2 and will be removed in 1.4. `sparse_output` is ignored unless you leave `sparse` to its default value.\n",
      "\n",
      "C:\\Users\\sarvin.farhad\\anaconda3\\Lib\\site-packages\\sklearn\\preprocessing\\_encoders.py:975: FutureWarning:\n",
      "\n",
      "`sparse` was renamed to `sparse_output` in version 1.2 and will be removed in 1.4. `sparse_output` is ignored unless you leave `sparse` to its default value.\n",
      "\n",
      "C:\\Users\\sarvin.farhad\\anaconda3\\Lib\\site-packages\\sklearn\\preprocessing\\_encoders.py:975: FutureWarning:\n",
      "\n",
      "`sparse` was renamed to `sparse_output` in version 1.2 and will be removed in 1.4. `sparse_output` is ignored unless you leave `sparse` to its default value.\n",
      "\n",
      "C:\\Users\\sarvin.farhad\\anaconda3\\Lib\\site-packages\\sklearn\\preprocessing\\_encoders.py:975: FutureWarning:\n",
      "\n",
      "`sparse` was renamed to `sparse_output` in version 1.2 and will be removed in 1.4. `sparse_output` is ignored unless you leave `sparse` to its default value.\n",
      "\n",
      "C:\\Users\\sarvin.farhad\\anaconda3\\Lib\\site-packages\\sklearn\\preprocessing\\_encoders.py:975: FutureWarning:\n",
      "\n",
      "`sparse` was renamed to `sparse_output` in version 1.2 and will be removed in 1.4. `sparse_output` is ignored unless you leave `sparse` to its default value.\n",
      "\n",
      "C:\\Users\\sarvin.farhad\\anaconda3\\Lib\\site-packages\\sklearn\\preprocessing\\_encoders.py:975: FutureWarning:\n",
      "\n",
      "`sparse` was renamed to `sparse_output` in version 1.2 and will be removed in 1.4. `sparse_output` is ignored unless you leave `sparse` to its default value.\n",
      "\n",
      "C:\\Users\\sarvin.farhad\\anaconda3\\Lib\\site-packages\\sklearn\\preprocessing\\_encoders.py:975: FutureWarning:\n",
      "\n",
      "`sparse` was renamed to `sparse_output` in version 1.2 and will be removed in 1.4. `sparse_output` is ignored unless you leave `sparse` to its default value.\n",
      "\n"
     ]
    }
   ],
   "source": [
    "# Incremental Encoding to process data in smaller chunks to handle memory error for one hot encoder\n",
    "\n",
    "# Determine chunk size, start and end\n",
    "chunk_size = 1000\n",
    "start = 0\n",
    "end = chunk_size\n",
    "\n",
    "# Instantiate onehotencoder\n",
    "encoder = OneHotEncoder(handle_unknown='ignore', sparse=True)\n",
    "\n",
    "# Set while loop to encode each chunk of features\n",
    "while start < len(X):\n",
    "    X_chunk = X.iloc[start:end]\n",
    "    encoder.fit(X)  # # Fit encoder on the entire dataset to set consistent categories\n",
    "    X_encoded = encoder.transform(X_chunk)\n",
    "    if start == 0:\n",
    "        X_encoded_full = X_encoded\n",
    "    else:\n",
    "        X_encoded_full = sp.vstack([X_encoded_full, X_encoded])  # Concatinate the new chunk of encoded data\n",
    "    start += chunk_size\n",
    "    end += chunk_size\n",
    "\n",
    "# Apply variance threshold to reduce low-variance features\n",
    "var_threshold = VarianceThreshold(threshold=0.01)\n",
    "X_encoded_full = var_threshold.fit_transform(X_encoded_full)"
   ]
  },
  {
   "cell_type": "code",
   "execution_count": 27,
   "id": "0fcddaa5-d63b-46f0-86f1-caaaf2da94d5",
   "metadata": {},
   "outputs": [],
   "source": [
    "# cats = ['cardholder_name', 'card_type', 'merchant_name', 'merchant_category',\n",
    "       #'merchant_state', 'merchant_city', 'merchant_category_code']\n",
    "\n",
    "#for col in cats:\n",
    "    #label_encoders[col] = LabelEncoder()\n",
    "    #X[col] = label_encoders[col].fit_transform(X[col].astype(str))\n",
    "    #print(X[col].value_counts())\n"
   ]
  },
  {
   "cell_type": "code",
   "execution_count": null,
   "id": "31a5a767-b8f8-4e8a-a76e-de2266f3586d",
   "metadata": {},
   "outputs": [],
   "source": [
    "# Apply TruncatedSVD for dimensionality redustion\n",
    "# svd = TruncatedSVD(n_components=100)\n",
    "# X_svd = svd.fit_transform(X_encoded)\n",
    "\n",
    "# Apply PCA\n",
    "# pca = PCA(n_components=0.95)  # Retain 95% of variance\n",
    "# X_pca = pca.fit_transform(X_encoded)"
   ]
  },
  {
   "cell_type": "code",
   "execution_count": null,
   "id": "14f894e6-afb4-453e-8025-07bbeed1c5d7",
   "metadata": {},
   "outputs": [],
   "source": [
    "# Standardize data\n",
    "# sc = StandardScaler()\n",
    "# X_train_sc = sc.fit_transform(X_train)\n",
    "# X_test_sc = sc.fit_transform(X_test)\n",
    "\n",
    "# Set lightgbm train and test data\n",
    "# categorical_feature = [0, 2, 3, 4, 5, 6, 8]"
   ]
  },
  {
   "cell_type": "code",
   "execution_count": 37,
   "id": "73d9d033-0a24-42eb-87b4-eed7ce7171d0",
   "metadata": {},
   "outputs": [],
   "source": [
    "# Split data into train and test sets\n",
    "X_train, X_test, y_train, y_test, =train_test_split(X_encoded_full, y, test_size=0.2, random_state=42)\n",
    "\n",
    "# Define train and test data\n",
    "train_data = lgb.Dataset(X_train, label=y_train)\n",
    "test_data = lgb.Dataset(X_test, label=y_test, reference=train_data)\n",
    "\n",
    "# Define parameters\n",
    "params = {\n",
    "    'boosting_type': 'gbdt',\n",
    "    'objective': 'binary',\n",
    "    'metric': 'binary_error',\n",
    "    'num_leaves': 31,\n",
    "    'learning_rate': 0.05,\n",
    "    'feature_fraction': 0.9,\n",
    "    'bagging_fraction': 0.8,\n",
    "    'bagging_freq': 5,\n",
    "    'verbose': 0\n",
    "}\n",
    "\n",
    "num_round = 100\n",
    "\n",
    "bst = lgb.train(params, train_data, num_round, valid_sets=[test_data])\n",
    "\n",
    "preds = bst.predict(X_test, num_iteration=bst.best_iteration)\n",
    "\n",
    "preds_binary = [1 if x>= 0.5 else 0 for x in preds]\n"
   ]
  },
  {
   "cell_type": "markdown",
   "id": "9117d293-1fd3-4aea-a25b-bcd79491d727",
   "metadata": {},
   "source": [
    "### The LightGBM Model Evaluation"
   ]
  },
  {
   "cell_type": "code",
   "execution_count": 40,
   "id": "ea5879ed-75ed-4a19-ad69-300fd4739af4",
   "metadata": {},
   "outputs": [
    {
     "name": "stdout",
     "output_type": "stream",
     "text": [
      "======= Evaluation Metrics =======\n",
      "Accuracy -------------- 0.85365\n",
      "Precision ------------- 0.6685761047463176\n",
      "Sensitivity ----------- 0.24468403713686732\n",
      "Specifity ------------- 0.9756917351899645\n",
      "F1 score -------------- 0.35825476869107653\n"
     ]
    },
    {
     "data": {
      "image/png": "[encoded data removed]",
      "text/plain": [
       "<Figure size 640x480 with 2 Axes>"
      ]
     },
     "metadata": {},
     "output_type": "display_data"
    }
   ],
   "source": [
    "# Confusion matrix values\n",
    "tn, fp, fn, tp = confusion_matrix(y_test, preds_binary).ravel()\n",
    "\n",
    "# Compute confusion matrix \n",
    "conf_matrix = confusion_matrix(y_test, preds_binary)\n",
    "\n",
    "# Create display confusion matrix\n",
    "disp = ConfusionMatrixDisplay(confusion_matrix=conf_matrix)\n",
    "disp.plot(values_format='d', cmap=plt.cm.Blues)\n",
    "\n",
    "# Define the title\n",
    "plt.title(f\"The Confusion Matrix of LightGBM\");\n",
    "\n",
    "print(f\" Evaluation Metrics \".center(34, \"=\"))\n",
    "print(f\"Accuracy -------------- {accuracy_score(y_test, preds_binary)}\")\n",
    "print(f\"Precision ------------- {precision_score(y_test, preds_binary)}\")\n",
    "print(f\"Sensitivity ----------- {recall_score(y_test, preds_binary)}\")\n",
    "print(f\"Specifity ------------- {tn/(tn+fp)}\")\n",
    "print(f\"F1 score -------------- {f1_score(y_test, preds_binary)}\")"
   ]
  },
  {
   "cell_type": "code",
   "execution_count": null,
   "id": "79856088-d8de-499a-bf7a-105f88f0f553",
   "metadata": {},
   "outputs": [],
   "source": []
  }
 ],
 "metadata": {
  "kernelspec": {
   "display_name": "Python 3 (ipykernel)",
   "language": "python",
   "name": "python3"
  },
  "language_info": {
   "codemirror_mode": {
    "name": "ipython",
    "version": 3
   },
   "file_extension": ".py",
   "mimetype": "text/x-python",
   "name": "python",
   "nbconvert_exporter": "python",
   "pygments_lexer": "ipython3",
   "version": "3.11.6"
  }
 },
 "nbformat": 4,
 "nbformat_minor": 5
}
