{
 "cells": [
  {
   "cell_type": "markdown",
   "id": "74ff4311-56e4-4f6f-a674-0f89a34ae76b",
   "metadata": {},
   "source": [
    "# Predicting Frauds Based on Tree Based Models"
   ]
  },
  {
   "cell_type": "markdown",
   "id": "cbe4db3b-e77e-4d68-a18d-1faef5c96209",
   "metadata": {},
   "source": [
    "In the model development phase of our fraud prediction project, the journey begins with an insightful Exploratory Data Analysis (EDA). Through this process, we discerned the significance of certain features such as cardholder names, cities, states, and merchant types in relation to fraudulent transactions. These observations guided our model development strategy, indicating that these categorical features play pivotal roles in distinguishing fraudulent from legitimate transactions.\n",
    "\n",
    "Our choice to employ CatBoost and LightGBM stems from their exceptional abilities in handling categorical variables efficiently without the need for extensive preprocessing. These tree-based models offer robustness against overfitting, thanks to their regularization parameters, and they leverage boosting algorithms to progressively improve predictive accuracy. By utilizing these models, we aim to harness their inherent strengths in handling complex categorical features while enhancing predictive performance through iterative training, hyperparameter tuning, and meticulous evaluation using metrics such as precision, recall, F1-score, AUC-ROC, and the Confusion Matrix. This strategic approach aligns with our goal to develop reliable and accurate predictive models capable of discerning fraudulent activities within our dataset, ultimately contributing to robust fraud detection mechanisms."
   ]
  },
  {
   "cell_type": "markdown",
   "id": "35ee7aca-1d45-4989-86e9-ef3b14bdea24",
   "metadata": {},
   "source": [
    "## Contents\n",
    "- [Imports](#Imports)\n",
    "- [Functions](#Functions)\n",
    "- [Baseline Score](#Baseline-Score)\n",
    "- [Catboost Model](#Catboost-Model)\n",
    "- [LightGBM Model](#LightGBM-Model)\n",
    "- [Save Models](#Save-Models)"
   ]
  },
  {
   "cell_type": "markdown",
   "id": "d9879f63",
   "metadata": {},
   "source": [
    "## Imports"
   ]
  },
  {
   "cell_type": "code",
   "execution_count": 1,
   "id": "662c8590",
   "metadata": {},
   "outputs": [
    {
     "name": "stderr",
     "output_type": "stream",
     "text": [
      "C:\\Users\\sarvin.farhad\\anaconda3\\Lib\\site-packages\\dask\\dataframe\\_pyarrow_compat.py:17: FutureWarning: Minimal version of pyarrow will soon be increased to 14.0.1. You are using 11.0.0. Please consider upgrading.\n",
      "  warnings.warn(\n"
     ]
    }
   ],
   "source": [
    "import pandas as pd\n",
    "import numpy as np\n",
    "import seaborn as sns\n",
    "import matplotlib.pyplot as plt\n",
    "import plotly.express as px\n",
    "import plotly.graph_objects as go\n",
    "from sklearn.model_selection import train_test_split\n",
    "from sklearn.preprocessing import StandardScaler, LabelEncoder\n",
    "from sklearn.decomposition import PCA, TruncatedSVD\n",
    "from catboost import CatBoostClassifier\n",
    "import lightgbm as lgb\n",
    "from sklearn.metrics import classification_report\n",
    "from sklearn.metrics import recall_score, precision_score, accuracy_score, f1_score, confusion_matrix, ConfusionMatrixDisplay"
   ]
  },
  {
   "cell_type": "code",
   "execution_count": 2,
   "id": "6154ed99",
   "metadata": {},
   "outputs": [],
   "source": [
    "# Determine the data path\n",
    "data_path = \"../data/final_df.csv\""
   ]
  },
  {
   "cell_type": "code",
   "execution_count": 3,
   "id": "ea77ce77",
   "metadata": {},
   "outputs": [
    {
     "data": {
      "text/html": [
       "<div>\n",
       "<style scoped>\n",
       "    .dataframe tbody tr th:only-of-type {\n",
       "        vertical-align: middle;\n",
       "    }\n",
       "\n",
       "    .dataframe tbody tr th {\n",
       "        vertical-align: top;\n",
       "    }\n",
       "\n",
       "    .dataframe thead th {\n",
       "        text-align: right;\n",
       "    }\n",
       "</style>\n",
       "<table border=\"1\" class=\"dataframe\">\n",
       "  <thead>\n",
       "    <tr style=\"text-align: right;\">\n",
       "      <th></th>\n",
       "      <th>cardholder_name</th>\n",
       "      <th>card_number</th>\n",
       "      <th>card_type</th>\n",
       "      <th>merchant_name</th>\n",
       "      <th>merchant_category</th>\n",
       "      <th>merchant_state</th>\n",
       "      <th>merchant_city</th>\n",
       "      <th>transaction_amount</th>\n",
       "      <th>merchant_category_code</th>\n",
       "      <th>fraud_flag</th>\n",
       "    </tr>\n",
       "  </thead>\n",
       "  <tbody>\n",
       "    <tr>\n",
       "      <th>0</th>\n",
       "      <td>Meagan Smith</td>\n",
       "      <td>4408914864277480</td>\n",
       "      <td>visa</td>\n",
       "      <td>KFC</td>\n",
       "      <td>Fast Food</td>\n",
       "      <td>New Jersey</td>\n",
       "      <td>Jersey City</td>\n",
       "      <td>38.055684</td>\n",
       "      <td>MCC 5814</td>\n",
       "      <td>0</td>\n",
       "    </tr>\n",
       "    <tr>\n",
       "      <th>1</th>\n",
       "      <td>Miss Vanessa Briggs MD</td>\n",
       "      <td>4533948622139044</td>\n",
       "      <td>visa</td>\n",
       "      <td>McDonald's</td>\n",
       "      <td>Fast Food</td>\n",
       "      <td>Montana</td>\n",
       "      <td>Missoula</td>\n",
       "      <td>11.516379</td>\n",
       "      <td>MCC 5814</td>\n",
       "      <td>0</td>\n",
       "    </tr>\n",
       "    <tr>\n",
       "      <th>2</th>\n",
       "      <td>Casey Lyons</td>\n",
       "      <td>4350240875308199</td>\n",
       "      <td>visa</td>\n",
       "      <td>Domino's Pizza</td>\n",
       "      <td>Fast Food</td>\n",
       "      <td>Ohio</td>\n",
       "      <td>Cleveland</td>\n",
       "      <td>12.739792</td>\n",
       "      <td>MCC 5814</td>\n",
       "      <td>0</td>\n",
       "    </tr>\n",
       "    <tr>\n",
       "      <th>3</th>\n",
       "      <td>Cynthia Munoz</td>\n",
       "      <td>4756687869818916</td>\n",
       "      <td>visa</td>\n",
       "      <td>McDonald's</td>\n",
       "      <td>Fast Food</td>\n",
       "      <td>Massachusetts</td>\n",
       "      <td>Worcester</td>\n",
       "      <td>20.899888</td>\n",
       "      <td>MCC 5814</td>\n",
       "      <td>0</td>\n",
       "    </tr>\n",
       "    <tr>\n",
       "      <th>4</th>\n",
       "      <td>Lynn Pham</td>\n",
       "      <td>4813038430033752</td>\n",
       "      <td>visa</td>\n",
       "      <td>Papa John's</td>\n",
       "      <td>Fast Food</td>\n",
       "      <td>Minnesota</td>\n",
       "      <td>Saint Paul</td>\n",
       "      <td>11.073323</td>\n",
       "      <td>MCC 5814</td>\n",
       "      <td>0</td>\n",
       "    </tr>\n",
       "  </tbody>\n",
       "</table>\n",
       "</div>"
      ],
      "text/plain": [
       "          cardholder_name       card_number card_type   merchant_name  \\\n",
       "0            Meagan Smith  4408914864277480      visa             KFC   \n",
       "1  Miss Vanessa Briggs MD  4533948622139044      visa      McDonald's   \n",
       "2             Casey Lyons  4350240875308199      visa  Domino's Pizza   \n",
       "3           Cynthia Munoz  4756687869818916      visa      McDonald's   \n",
       "4               Lynn Pham  4813038430033752      visa     Papa John's   \n",
       "\n",
       "  merchant_category merchant_state merchant_city  transaction_amount  \\\n",
       "0         Fast Food     New Jersey   Jersey City           38.055684   \n",
       "1         Fast Food        Montana      Missoula           11.516379   \n",
       "2         Fast Food           Ohio     Cleveland           12.739792   \n",
       "3         Fast Food  Massachusetts     Worcester           20.899888   \n",
       "4         Fast Food      Minnesota    Saint Paul           11.073323   \n",
       "\n",
       "  merchant_category_code  fraud_flag  \n",
       "0               MCC 5814           0  \n",
       "1               MCC 5814           0  \n",
       "2               MCC 5814           0  \n",
       "3               MCC 5814           0  \n",
       "4               MCC 5814           0  "
      ]
     },
     "execution_count": 3,
     "metadata": {},
     "output_type": "execute_result"
    }
   ],
   "source": [
    "# Load the dataset\n",
    "df = pd.read_csv(data_path).drop(columns='Unnamed: 0')\n",
    "df.head()"
   ]
  },
  {
   "cell_type": "markdown",
   "id": "88217eb2-8df3-4042-943a-a0affa1a7749",
   "metadata": {},
   "source": [
    "## Functions"
   ]
  },
  {
   "cell_type": "code",
   "execution_count": 4,
   "id": "964b8973-1979-44e8-baa9-261d23b0c818",
   "metadata": {},
   "outputs": [],
   "source": [
    "def evaluation(model, model_name):\n",
    "        \n",
    "    # Get prediction \n",
    "    preds = model.predict(X_test)\n",
    "\n",
    "    # Confusion matrix values\n",
    "    tn, fp, fn, tp = confusion_matrix(y_test, preds).ravel()\n",
    "\n",
    "    # Compute confusion matrix \n",
    "    conf_matrix = confusion_matrix(y_test, preds)\n",
    "\n",
    "    # Create display confusion matrix\n",
    "    disp = ConfusionMatrixDisplay(confusion_matrix=conf_matrix)\n",
    "    disp.plot(values_format='d', cmap=plt.cm.Blues)\n",
    "\n",
    "    # Define the title\n",
    "    plt.title(f\"The Confusion Matrix of {model_name}\");\n",
    "\n",
    "    print(f\" Evaluation Metrics \".center(34, \"=\"))\n",
    "    print(f\"Accuracy -------------- {accuracy_score(y_test, preds)}\")\n",
    "    print(f\"Precision ------------- {precision_score(y_test, preds)}\")\n",
    "    print(f\"Sensitivity ----------- {recall_score(y_test, preds)}\")\n",
    "    print(f\"Specifity ------------- {tn/(tn+fp)}\")\n",
    "    print(f\"F1 score -------------- {f1_score(y_test, preds)}\")"
   ]
  },
  {
   "cell_type": "markdown",
   "id": "41c949a5",
   "metadata": {},
   "source": [
    "## Baseline Score"
   ]
  },
  {
   "cell_type": "markdown",
   "id": "53ddb9ce",
   "metadata": {},
   "source": [
    "### Train-Test Split"
   ]
  },
  {
   "cell_type": "code",
   "execution_count": 5,
   "id": "be1f4542",
   "metadata": {},
   "outputs": [
    {
     "name": "stdout",
     "output_type": "stream",
     "text": [
      "X shape ----------- (100000, 9)\n",
      "y shape ----------- (100000,)\n"
     ]
    }
   ],
   "source": [
    "# Define X features and y target\n",
    "X = df.drop('fraud_flag', axis=1)\n",
    "y = df['fraud_flag']\n",
    "\n",
    "print(f\"X shape ----------- {X.shape}\")\n",
    "print(f\"y shape ----------- {y.shape}\")"
   ]
  },
  {
   "cell_type": "code",
   "execution_count": 6,
   "id": "dd0331f8-e793-4436-b3bc-3d5aebcb79b8",
   "metadata": {},
   "outputs": [],
   "source": [
    "# defining training and test Xs and ys\n",
    "X_train, X_test, y_train, y_test = train_test_split(X, y, test_size=0.8, random_state=42)"
   ]
  },
  {
   "cell_type": "code",
   "execution_count": 7,
   "id": "d2976512",
   "metadata": {},
   "outputs": [
    {
     "data": {
      "text/plain": [
       "fraud_flag\n",
       "0    0.836638\n",
       "1    0.163362\n",
       "Name: proportion, dtype: float64"
      ]
     },
     "execution_count": 7,
     "metadata": {},
     "output_type": "execute_result"
    }
   ],
   "source": [
    "# Get the ratio of classes\n",
    "y_test.value_counts(normalize=True)"
   ]
  },
  {
   "cell_type": "markdown",
   "id": "73383855",
   "metadata": {},
   "source": [
    "**The baseline accuracy is 0.83 which is majority class**"
   ]
  },
  {
   "cell_type": "markdown",
   "id": "ef123208",
   "metadata": {},
   "source": [
    "## Catboost Model"
   ]
  },
  {
   "cell_type": "code",
   "execution_count": 8,
   "id": "1d9af3e5",
   "metadata": {},
   "outputs": [
    {
     "name": "stdout",
     "output_type": "stream",
     "text": [
      "Learning rate set to 0.305826\n",
      "0:\tlearn: 0.5619432\ttotal: 212ms\tremaining: 21s\n",
      "1:\tlearn: 0.4942667\ttotal: 245ms\tremaining: 12s\n",
      "2:\tlearn: 0.4564945\ttotal: 262ms\tremaining: 8.46s\n",
      "3:\tlearn: 0.4344617\ttotal: 283ms\tremaining: 6.8s\n",
      "4:\tlearn: 0.4227252\ttotal: 296ms\tremaining: 5.62s\n",
      "5:\tlearn: 0.4145799\ttotal: 327ms\tremaining: 5.13s\n",
      "6:\tlearn: 0.4096423\ttotal: 362ms\tremaining: 4.81s\n",
      "7:\tlearn: 0.4080681\ttotal: 374ms\tremaining: 4.3s\n",
      "8:\tlearn: 0.4060546\ttotal: 413ms\tremaining: 4.18s\n",
      "9:\tlearn: 0.4046868\ttotal: 446ms\tremaining: 4.01s\n",
      "10:\tlearn: 0.4030114\ttotal: 479ms\tremaining: 3.88s\n",
      "11:\tlearn: 0.4018921\ttotal: 513ms\tremaining: 3.76s\n",
      "12:\tlearn: 0.4012109\ttotal: 552ms\tremaining: 3.69s\n",
      "13:\tlearn: 0.4009210\ttotal: 602ms\tremaining: 3.7s\n",
      "14:\tlearn: 0.4003081\ttotal: 651ms\tremaining: 3.69s\n",
      "15:\tlearn: 0.3999409\ttotal: 720ms\tremaining: 3.78s\n",
      "16:\tlearn: 0.3990904\ttotal: 771ms\tremaining: 3.76s\n",
      "17:\tlearn: 0.3987277\ttotal: 821ms\tremaining: 3.74s\n",
      "18:\tlearn: 0.3987214\ttotal: 841ms\tremaining: 3.59s\n",
      "19:\tlearn: 0.3984789\ttotal: 891ms\tremaining: 3.56s\n",
      "20:\tlearn: 0.3981992\ttotal: 950ms\tremaining: 3.57s\n",
      "21:\tlearn: 0.3979437\ttotal: 1s\tremaining: 3.55s\n",
      "22:\tlearn: 0.3978998\ttotal: 1.04s\tremaining: 3.49s\n",
      "23:\tlearn: 0.3976828\ttotal: 1.09s\tremaining: 3.46s\n",
      "24:\tlearn: 0.3976352\ttotal: 1.13s\tremaining: 3.4s\n",
      "25:\tlearn: 0.3972444\ttotal: 1.18s\tremaining: 3.36s\n",
      "26:\tlearn: 0.3970047\ttotal: 1.23s\tremaining: 3.33s\n",
      "27:\tlearn: 0.3967954\ttotal: 1.28s\tremaining: 3.29s\n",
      "28:\tlearn: 0.3967244\ttotal: 1.32s\tremaining: 3.23s\n",
      "29:\tlearn: 0.3967237\ttotal: 1.34s\tremaining: 3.13s\n",
      "30:\tlearn: 0.3964669\ttotal: 1.39s\tremaining: 3.09s\n",
      "31:\tlearn: 0.3962238\ttotal: 1.44s\tremaining: 3.06s\n",
      "32:\tlearn: 0.3958964\ttotal: 1.49s\tremaining: 3.02s\n",
      "33:\tlearn: 0.3956972\ttotal: 1.54s\tremaining: 2.99s\n",
      "34:\tlearn: 0.3955750\ttotal: 1.59s\tremaining: 2.95s\n",
      "35:\tlearn: 0.3954530\ttotal: 1.64s\tremaining: 2.92s\n",
      "36:\tlearn: 0.3953134\ttotal: 1.69s\tremaining: 2.88s\n",
      "37:\tlearn: 0.3952983\ttotal: 1.74s\tremaining: 2.83s\n",
      "38:\tlearn: 0.3950961\ttotal: 1.78s\tremaining: 2.79s\n",
      "39:\tlearn: 0.3949972\ttotal: 1.83s\tremaining: 2.75s\n",
      "40:\tlearn: 0.3947164\ttotal: 1.89s\tremaining: 2.72s\n",
      "41:\tlearn: 0.3946012\ttotal: 1.93s\tremaining: 2.67s\n",
      "42:\tlearn: 0.3942021\ttotal: 1.98s\tremaining: 2.63s\n",
      "43:\tlearn: 0.3941564\ttotal: 2.04s\tremaining: 2.6s\n",
      "44:\tlearn: 0.3941049\ttotal: 2.1s\tremaining: 2.56s\n",
      "45:\tlearn: 0.3939092\ttotal: 2.15s\tremaining: 2.53s\n",
      "46:\tlearn: 0.3938819\ttotal: 2.2s\tremaining: 2.48s\n",
      "47:\tlearn: 0.3936890\ttotal: 2.25s\tremaining: 2.44s\n",
      "48:\tlearn: 0.3935872\ttotal: 2.31s\tremaining: 2.4s\n",
      "49:\tlearn: 0.3935491\ttotal: 2.35s\tremaining: 2.35s\n",
      "50:\tlearn: 0.3934265\ttotal: 2.4s\tremaining: 2.31s\n",
      "51:\tlearn: 0.3931455\ttotal: 2.46s\tremaining: 2.27s\n",
      "52:\tlearn: 0.3929650\ttotal: 2.51s\tremaining: 2.23s\n",
      "53:\tlearn: 0.3928311\ttotal: 2.56s\tremaining: 2.18s\n",
      "54:\tlearn: 0.3927913\ttotal: 2.62s\tremaining: 2.14s\n",
      "55:\tlearn: 0.3927728\ttotal: 2.67s\tremaining: 2.1s\n",
      "56:\tlearn: 0.3926193\ttotal: 2.73s\tremaining: 2.06s\n",
      "57:\tlearn: 0.3925252\ttotal: 2.77s\tremaining: 2.01s\n",
      "58:\tlearn: 0.3921999\ttotal: 2.83s\tremaining: 1.96s\n",
      "59:\tlearn: 0.3920292\ttotal: 2.88s\tremaining: 1.92s\n",
      "60:\tlearn: 0.3920085\ttotal: 2.94s\tremaining: 1.88s\n",
      "61:\tlearn: 0.3918825\ttotal: 2.99s\tremaining: 1.83s\n",
      "62:\tlearn: 0.3916679\ttotal: 3.05s\tremaining: 1.79s\n",
      "63:\tlearn: 0.3916028\ttotal: 3.1s\tremaining: 1.75s\n",
      "64:\tlearn: 0.3915945\ttotal: 3.15s\tremaining: 1.7s\n",
      "65:\tlearn: 0.3915582\ttotal: 3.2s\tremaining: 1.65s\n",
      "66:\tlearn: 0.3912286\ttotal: 3.25s\tremaining: 1.6s\n",
      "67:\tlearn: 0.3910214\ttotal: 3.31s\tremaining: 1.56s\n",
      "68:\tlearn: 0.3907061\ttotal: 3.36s\tremaining: 1.51s\n",
      "69:\tlearn: 0.3906757\ttotal: 3.41s\tremaining: 1.46s\n",
      "70:\tlearn: 0.3905508\ttotal: 3.46s\tremaining: 1.41s\n",
      "71:\tlearn: 0.3905330\ttotal: 3.51s\tremaining: 1.36s\n",
      "72:\tlearn: 0.3902922\ttotal: 3.56s\tremaining: 1.32s\n",
      "73:\tlearn: 0.3901877\ttotal: 3.61s\tremaining: 1.27s\n",
      "74:\tlearn: 0.3901692\ttotal: 3.66s\tremaining: 1.22s\n",
      "75:\tlearn: 0.3901331\ttotal: 3.72s\tremaining: 1.17s\n",
      "76:\tlearn: 0.3901048\ttotal: 3.77s\tremaining: 1.13s\n",
      "77:\tlearn: 0.3897442\ttotal: 3.83s\tremaining: 1.08s\n",
      "78:\tlearn: 0.3895457\ttotal: 3.87s\tremaining: 1.03s\n",
      "79:\tlearn: 0.3893688\ttotal: 3.92s\tremaining: 980ms\n",
      "80:\tlearn: 0.3892709\ttotal: 3.97s\tremaining: 931ms\n",
      "81:\tlearn: 0.3892538\ttotal: 4.02s\tremaining: 883ms\n",
      "82:\tlearn: 0.3892462\ttotal: 4.06s\tremaining: 832ms\n",
      "83:\tlearn: 0.3889248\ttotal: 4.11s\tremaining: 783ms\n",
      "84:\tlearn: 0.3886943\ttotal: 4.16s\tremaining: 734ms\n",
      "85:\tlearn: 0.3885499\ttotal: 4.21s\tremaining: 685ms\n",
      "86:\tlearn: 0.3885481\ttotal: 4.26s\tremaining: 636ms\n",
      "87:\tlearn: 0.3885308\ttotal: 4.31s\tremaining: 587ms\n",
      "88:\tlearn: 0.3884495\ttotal: 4.35s\tremaining: 538ms\n",
      "89:\tlearn: 0.3884014\ttotal: 4.4s\tremaining: 489ms\n",
      "90:\tlearn: 0.3881036\ttotal: 4.46s\tremaining: 441ms\n",
      "91:\tlearn: 0.3880920\ttotal: 4.51s\tremaining: 392ms\n",
      "92:\tlearn: 0.3879727\ttotal: 4.55s\tremaining: 343ms\n",
      "93:\tlearn: 0.3878841\ttotal: 4.59s\tremaining: 293ms\n",
      "94:\tlearn: 0.3877742\ttotal: 4.64s\tremaining: 244ms\n",
      "95:\tlearn: 0.3876964\ttotal: 4.69s\tremaining: 196ms\n",
      "96:\tlearn: 0.3874005\ttotal: 4.75s\tremaining: 147ms\n",
      "97:\tlearn: 0.3872807\ttotal: 4.8s\tremaining: 97.9ms\n",
      "98:\tlearn: 0.3872641\ttotal: 4.85s\tremaining: 49ms\n",
      "99:\tlearn: 0.3871121\ttotal: 4.89s\tremaining: 0us\n",
      "Accuracy score is: 0.8593\n"
     ]
    }
   ],
   "source": [
    "# Specify categorical features\n",
    "cats = ['cardholder_name', 'card_type', 'merchant_name', 'merchant_category',\n",
    "       'merchant_state', 'merchant_city', 'merchant_category_code']\n",
    "\n",
    "# Instatiate the model\n",
    "cb = CatBoostClassifier(iterations=100, cat_features=cats, random_state=42)\n",
    "\n",
    "# Fit the model\n",
    "cb.fit(X_train, y_train)\n",
    "\n",
    "# Get the accuracy score\n",
    "print(f\"Accuracy score is: {cb.score(X_train, y_train)}\")"
   ]
  },
  {
   "cell_type": "code",
   "execution_count": null,
   "id": "db79e51c-64a3-4ee9-b695-41088a050910",
   "metadata": {},
   "outputs": [],
   "source": [
    "evaluation(model=cb, "
   ]
  },
  {
   "cell_type": "markdown",
   "id": "172d8c46",
   "metadata": {},
   "source": [
    "### The Catboost Model Evaluation"
   ]
  },
  {
   "cell_type": "code",
   "execution_count": null,
   "id": "c3ef7069",
   "metadata": {},
   "outputs": [],
   "source": [
    "# Get prediction \n",
    "preds = cb.predict(X_test)\n",
    "\n",
    "# Confusion matrix values\n",
    "tn, fp, fn, tp = confusion_matrix(y_test, preds).ravel()\n",
    "\n",
    "# Compute confusion matrix \n",
    "conf_matrix = confusion_matrix(y_test, preds)\n",
    "\n",
    "# Create display confusion matrix\n",
    "disp = ConfusionMatrixDisplay(confusion_matrix=conf_matrix)\n",
    "disp.plot(values_format='d', cmap=plt.cm.Blues)\n",
    "\n",
    "# Define the title\n",
    "plt.title(f\"The Confusion Matrix of Catboost Model\");\n",
    "\n",
    "print(f\" Evaluation Metrics \".center(34, \"=\"))\n",
    "print(f\"Accuracy -------------- {accuracy_score(y_test, preds)}\")\n",
    "print(f\"Precision ------------- {precision_score(y_test, preds)}\")\n",
    "print(f\"Sensitivity ----------- {recall_score(y_test, preds)}\")\n",
    "print(f\"Specifity ------------- {tn/(tn+fp)}\")\n",
    "print(f\"F1 score -------------- {f1_score(y_test, preds)}\")"
   ]
  },
  {
   "cell_type": "markdown",
   "id": "cd1606e9-490e-4644-8a6e-6fbb6898b771",
   "metadata": {},
   "source": [
    "### The Catboost Model Feature Importance"
   ]
  },
  {
   "cell_type": "code",
   "execution_count": null,
   "id": "d98ea336-c08a-4741-a895-f6b0387b9b85",
   "metadata": {},
   "outputs": [],
   "source": [
    "# Get the feature importance values\n",
    "feature_importance = cb.feature_importances_\n",
    "\n",
    "# Get feature names\n",
    "feature_names = cb.feature_names_\n",
    "\n",
    "# sort features in descending orders\n",
    "sorted_indices = np.argsort(feature_importance)[::-1]\n",
    "sorted_feature_importance = feature_importance[sorted_indices]\n",
    "sorted_feature_names = np.array(feature_names)[sorted_indices]\n",
    "\n",
    "# Create a bar plot\n",
    "fig = go.Figure(data=[go.Bar(x=sorted_feature_names, y=sorted_feature_importance)])\n",
    "\n",
    "fig.update_layout(title=\"Catboost Model Feature Importances\", xaxis_title=\"Features\", yaxis_title=\"Importance\", xaxis_tickangle=-45)\n",
    "fig.show()"
   ]
  },
  {
   "cell_type": "markdown",
   "id": "580c1ffe-02ac-4eb9-b308-a078d50429d8",
   "metadata": {},
   "source": [
    "## LightGBM Model"
   ]
  },
  {
   "cell_type": "code",
   "execution_count": null,
   "id": "db219916-45d9-46d0-a5e4-52ff9980fdbf",
   "metadata": {},
   "outputs": [],
   "source": [
    "#X_encoded = pd.get_dummies(X, drop_first=True)"
   ]
  },
  {
   "cell_type": "code",
   "execution_count": null,
   "id": "0fcddaa5-d63b-46f0-86f1-caaaf2da94d5",
   "metadata": {},
   "outputs": [],
   "source": [
    "cats = ['cardholder_name', 'card_type', 'merchant_name', 'merchant_category',\n",
    "       'merchant_state', 'merchant_city', 'merchant_category_code']\n",
    "\n",
    "for col in cats:\n",
    "    print(df[col].value_counts())"
   ]
  },
  {
   "cell_type": "code",
   "execution_count": null,
   "id": "d48380d6-f502-407d-8ba5-341f24f23677",
   "metadata": {},
   "outputs": [],
   "source": [
    "for col in cats:\n",
    "    label_encoders[col] = LabelEncoder()\n",
    "    X[col] = label_encoders[col].fit_transform(X[col].astype(str))\n",
    "    print(X[col].value_counts())"
   ]
  },
  {
   "cell_type": "code",
   "execution_count": null,
   "id": "73d9d033-0a24-42eb-87b4-eed7ce7171d0",
   "metadata": {},
   "outputs": [],
   "source": [
    "# Apply TruncatedSVD for dimensionality redustion\n",
    "# svd = TruncatedSVD(n_components=100)\n",
    "# X_svd = svd.fit_transform(X_encoded)\n",
    "\n",
    "# Apply PCA\n",
    "# pca = PCA(n_components=0.95)  # Retain 95% of variance\n",
    "# X_pca = pca.fit_transform(X_encoded)\n",
    "\n",
    "# Split data into train and test sets\n",
    "X_train, X_test, y_train, y_test, =train_test_split(X, y, test_size=0.2, random_state=42)\n",
    "\n",
    "# Standardize data\n",
    "# sc = StandardScaler()\n",
    "# X_train_sc = sc.fit_transform(X_train)\n",
    "# X_test_sc = sc.fit_transform(X_test)\n",
    "\n",
    "# Set lightgbm train and test data\n",
    "# categorical_feature = [0, 2, 3, 4, 5, 6, 8]\n",
    "\n",
    "train_data = lgb.Dataset(X_train, label=y_train)\n",
    "test_data = lgb.Dataset(X_test, label=y_test, reference=train_data)\n",
    "\n",
    "# Define parameters\n",
    "params = {\n",
    "    'boosting_type': 'gbdt',\n",
    "    'objective': 'binary',\n",
    "    'metric': 'binary_error',\n",
    "    'num_leaves': 31,\n",
    "    'learning_rate': 0.05,\n",
    "    'feature_fraction': 0.9,\n",
    "    'bagging_fraction': 0.8,\n",
    "    'bagging_freq': 5,\n",
    "    'verbose': 0\n",
    "}\n",
    "\n",
    "num_round = 100\n",
    "\n",
    "bst = lgb.train(params, train_data, num_round, valid_sets=[test_data])\n",
    "\n",
    "preds = bst.predict(X_test, num_iteration=bst.best_iteration)\n",
    "\n",
    "preds_binary = [1 if x>= 0.5 else 0 for x in preds]\n"
   ]
  },
  {
   "cell_type": "markdown",
   "id": "9117d293-1fd3-4aea-a25b-bcd79491d727",
   "metadata": {},
   "source": [
    "### The LightGBM Model Evaluation"
   ]
  },
  {
   "cell_type": "code",
   "execution_count": null,
   "id": "ea5879ed-75ed-4a19-ad69-300fd4739af4",
   "metadata": {},
   "outputs": [],
   "source": [
    "# Confusion matrix values\n",
    "tn, fp, fn, tp = confusion_matrix(y_test, preds_binary).ravel()\n",
    "\n",
    "# Compute confusion matrix \n",
    "conf_matrix = confusion_matrix(y_test, preds_binary)\n",
    "\n",
    "# Create display confusion matrix\n",
    "disp = ConfusionMatrixDisplay(confusion_matrix=conf_matrix)\n",
    "disp.plot(values_format='d', cmap=plt.cm.Blues)\n",
    "\n",
    "# Define the title\n",
    "plt.title(f\"The Confusion Matrix of LightGBM\");\n",
    "\n",
    "print(f\" Evaluation Metrics \".center(34, \"=\"))\n",
    "print(f\"Accuracy -------------- {accuracy_score(y_test, preds_binary)}\")\n",
    "print(f\"Precision ------------- {precision_score(y_test, preds_binary)}\")\n",
    "print(f\"Sensitivity ----------- {recall_score(y_test, preds_binary)}\")\n",
    "print(f\"Specifity ------------- {tn/(tn+fp)}\")\n",
    "print(f\"F1 score -------------- {f1_score(y_test, preds_binary)}\")"
   ]
  },
  {
   "cell_type": "code",
   "execution_count": null,
   "id": "79856088-d8de-499a-bf7a-105f88f0f553",
   "metadata": {},
   "outputs": [],
   "source": []
  }
 ],
 "metadata": {
  "kernelspec": {
   "display_name": "Python 3 (ipykernel)",
   "language": "python",
   "name": "python3"
  },
  "language_info": {
   "codemirror_mode": {
    "name": "ipython",
    "version": 3
   },
   "file_extension": ".py",
   "mimetype": "text/x-python",
   "name": "python",
   "nbconvert_exporter": "python",
   "pygments_lexer": "ipython3",
   "version": "3.11.6"
  }
 },
 "nbformat": 4,
 "nbformat_minor": 5
}
