{
 "cells": [
  {
   "cell_type": "markdown",
   "id": "d9879f63",
   "metadata": {},
   "source": [
    "## Imports"
   ]
  },
  {
   "cell_type": "code",
   "execution_count": 18,
   "id": "662c8590",
   "metadata": {},
   "outputs": [],
   "source": [
    "import pandas as pd\n",
    "import numpy as np\n",
    "import seaborn as sns\n",
    "import matplotlib.pyplot as plt\n",
    "import plotly.express as px\n",
    "import plotly.graph_objects as go\n",
    "from sklearn.model_selection import train_test_split\n",
    "from sklearn.preprocessing import StandardScaler, LabelEncoder\n",
    "from sklearn.decomposition import PCA, TruncatedSVD\n",
    "from catboost import CatBoostClassifier\n",
    "import lightgbm as lgb\n",
    "from sklearn.metrics import classification_report\n",
    "from sklearn.metrics import recall_score, precision_score, accuracy_score, f1_score, confusion_matrix, ConfusionMatrixDisplay"
   ]
  },
  {
   "cell_type": "markdown",
   "id": "48eb2bb3",
   "metadata": {},
   "source": [
    "## Load Data"
   ]
  },
  {
   "cell_type": "code",
   "execution_count": 19,
   "id": "6154ed99",
   "metadata": {},
   "outputs": [],
   "source": [
    "# Determine the data path\n",
    "data_path = \"../data/final_df.csv\""
   ]
  },
  {
   "cell_type": "code",
   "execution_count": 20,
   "id": "ea77ce77",
   "metadata": {},
   "outputs": [
    {
     "data": {
      "text/html": [
       "<div>\n",
       "<style scoped>\n",
       "    .dataframe tbody tr th:only-of-type {\n",
       "        vertical-align: middle;\n",
       "    }\n",
       "\n",
       "    .dataframe tbody tr th {\n",
       "        vertical-align: top;\n",
       "    }\n",
       "\n",
       "    .dataframe thead th {\n",
       "        text-align: right;\n",
       "    }\n",
       "</style>\n",
       "<table border=\"1\" class=\"dataframe\">\n",
       "  <thead>\n",
       "    <tr style=\"text-align: right;\">\n",
       "      <th></th>\n",
       "      <th>cardholder_name</th>\n",
       "      <th>card_number</th>\n",
       "      <th>card_type</th>\n",
       "      <th>merchant_name</th>\n",
       "      <th>merchant_category</th>\n",
       "      <th>merchant_state</th>\n",
       "      <th>merchant_city</th>\n",
       "      <th>transaction_amount</th>\n",
       "      <th>merchant_category_code</th>\n",
       "      <th>fraud_flag</th>\n",
       "    </tr>\n",
       "  </thead>\n",
       "  <tbody>\n",
       "    <tr>\n",
       "      <th>0</th>\n",
       "      <td>Meagan Smith</td>\n",
       "      <td>4408914864277480</td>\n",
       "      <td>visa</td>\n",
       "      <td>KFC</td>\n",
       "      <td>Fast Food</td>\n",
       "      <td>New Jersey</td>\n",
       "      <td>Jersey City</td>\n",
       "      <td>38.055684</td>\n",
       "      <td>MCC 5814</td>\n",
       "      <td>0</td>\n",
       "    </tr>\n",
       "    <tr>\n",
       "      <th>1</th>\n",
       "      <td>Miss Vanessa Briggs MD</td>\n",
       "      <td>4533948622139044</td>\n",
       "      <td>visa</td>\n",
       "      <td>McDonald's</td>\n",
       "      <td>Fast Food</td>\n",
       "      <td>Montana</td>\n",
       "      <td>Missoula</td>\n",
       "      <td>11.516379</td>\n",
       "      <td>MCC 5814</td>\n",
       "      <td>0</td>\n",
       "    </tr>\n",
       "    <tr>\n",
       "      <th>2</th>\n",
       "      <td>Casey Lyons</td>\n",
       "      <td>4350240875308199</td>\n",
       "      <td>visa</td>\n",
       "      <td>Domino's Pizza</td>\n",
       "      <td>Fast Food</td>\n",
       "      <td>Ohio</td>\n",
       "      <td>Cleveland</td>\n",
       "      <td>12.739792</td>\n",
       "      <td>MCC 5814</td>\n",
       "      <td>0</td>\n",
       "    </tr>\n",
       "    <tr>\n",
       "      <th>3</th>\n",
       "      <td>Cynthia Munoz</td>\n",
       "      <td>4756687869818916</td>\n",
       "      <td>visa</td>\n",
       "      <td>McDonald's</td>\n",
       "      <td>Fast Food</td>\n",
       "      <td>Massachusetts</td>\n",
       "      <td>Worcester</td>\n",
       "      <td>20.899888</td>\n",
       "      <td>MCC 5814</td>\n",
       "      <td>0</td>\n",
       "    </tr>\n",
       "    <tr>\n",
       "      <th>4</th>\n",
       "      <td>Lynn Pham</td>\n",
       "      <td>4813038430033752</td>\n",
       "      <td>visa</td>\n",
       "      <td>Papa John's</td>\n",
       "      <td>Fast Food</td>\n",
       "      <td>Minnesota</td>\n",
       "      <td>Saint Paul</td>\n",
       "      <td>11.073323</td>\n",
       "      <td>MCC 5814</td>\n",
       "      <td>0</td>\n",
       "    </tr>\n",
       "  </tbody>\n",
       "</table>\n",
       "</div>"
      ],
      "text/plain": [
       "          cardholder_name       card_number card_type   merchant_name  \\\n",
       "0            Meagan Smith  4408914864277480      visa             KFC   \n",
       "1  Miss Vanessa Briggs MD  4533948622139044      visa      McDonald's   \n",
       "2             Casey Lyons  4350240875308199      visa  Domino's Pizza   \n",
       "3           Cynthia Munoz  4756687869818916      visa      McDonald's   \n",
       "4               Lynn Pham  4813038430033752      visa     Papa John's   \n",
       "\n",
       "  merchant_category merchant_state merchant_city  transaction_amount  \\\n",
       "0         Fast Food     New Jersey   Jersey City           38.055684   \n",
       "1         Fast Food        Montana      Missoula           11.516379   \n",
       "2         Fast Food           Ohio     Cleveland           12.739792   \n",
       "3         Fast Food  Massachusetts     Worcester           20.899888   \n",
       "4         Fast Food      Minnesota    Saint Paul           11.073323   \n",
       "\n",
       "  merchant_category_code  fraud_flag  \n",
       "0               MCC 5814           0  \n",
       "1               MCC 5814           0  \n",
       "2               MCC 5814           0  \n",
       "3               MCC 5814           0  \n",
       "4               MCC 5814           0  "
      ]
     },
     "execution_count": 20,
     "metadata": {},
     "output_type": "execute_result"
    }
   ],
   "source": [
    "# Load the dataset\n",
    "df = pd.read_csv(data_path).drop(columns='Unnamed: 0')\n",
    "df.head()"
   ]
  },
  {
   "cell_type": "markdown",
   "id": "53ddb9ce",
   "metadata": {},
   "source": [
    "## Train-Test Split"
   ]
  },
  {
   "cell_type": "code",
   "execution_count": 21,
   "id": "be1f4542",
   "metadata": {},
   "outputs": [
    {
     "name": "stdout",
     "output_type": "stream",
     "text": [
      "X shape ----------- (100000, 9)\n",
      "y shape ----------- (100000,)\n"
     ]
    }
   ],
   "source": [
    "# Define X features and y target\n",
    "X = df.drop('fraud_flag', axis=1)\n",
    "y = df['fraud_flag']\n",
    "\n",
    "print(f\"X shape ----------- {X.shape}\")\n",
    "print(f\"y shape ----------- {y.shape}\")"
   ]
  },
  {
   "cell_type": "code",
   "execution_count": 22,
   "id": "dd0331f8-e793-4436-b3bc-3d5aebcb79b8",
   "metadata": {},
   "outputs": [],
   "source": [
    "# defining training and test Xs and ys\n",
    "X_train, X_test, y_train, y_test = train_test_split(X, y, test_size=0.8, random_state=42)"
   ]
  },
  {
   "cell_type": "markdown",
   "id": "41c949a5",
   "metadata": {},
   "source": [
    "## Baseline Score"
   ]
  },
  {
   "cell_type": "code",
   "execution_count": 23,
   "id": "d2976512",
   "metadata": {},
   "outputs": [
    {
     "data": {
      "text/plain": [
       "fraud_flag\n",
       "0    0.836638\n",
       "1    0.163362\n",
       "Name: proportion, dtype: float64"
      ]
     },
     "execution_count": 23,
     "metadata": {},
     "output_type": "execute_result"
    }
   ],
   "source": [
    "# Get the ratio of classes\n",
    "y_test.value_counts(normalize=True)"
   ]
  },
  {
   "cell_type": "markdown",
   "id": "73383855",
   "metadata": {},
   "source": [
    "**The baseline accuracy is 0.83 which is majority class**"
   ]
  },
  {
   "cell_type": "markdown",
   "id": "ef123208",
   "metadata": {},
   "source": [
    "## Catboost Model"
   ]
  },
  {
   "cell_type": "code",
   "execution_count": 24,
   "id": "1d9af3e5",
   "metadata": {},
   "outputs": [
    {
     "name": "stdout",
     "output_type": "stream",
     "text": [
      "Learning rate set to 0.305826\n",
      "0:\tlearn: 0.5619432\ttotal: 53.8ms\tremaining: 5.33s\n",
      "1:\tlearn: 0.4942667\ttotal: 98.3ms\tremaining: 4.82s\n",
      "2:\tlearn: 0.4564945\ttotal: 121ms\tremaining: 3.92s\n",
      "3:\tlearn: 0.4344617\ttotal: 146ms\tremaining: 3.51s\n",
      "4:\tlearn: 0.4227252\ttotal: 160ms\tremaining: 3.04s\n",
      "5:\tlearn: 0.4145799\ttotal: 206ms\tremaining: 3.23s\n",
      "6:\tlearn: 0.4096423\ttotal: 243ms\tremaining: 3.22s\n",
      "7:\tlearn: 0.4080681\ttotal: 252ms\tremaining: 2.9s\n",
      "8:\tlearn: 0.4060546\ttotal: 301ms\tremaining: 3.04s\n",
      "9:\tlearn: 0.4046868\ttotal: 348ms\tremaining: 3.13s\n",
      "10:\tlearn: 0.4030114\ttotal: 407ms\tremaining: 3.29s\n",
      "11:\tlearn: 0.4018921\ttotal: 458ms\tremaining: 3.35s\n",
      "12:\tlearn: 0.4012109\ttotal: 495ms\tremaining: 3.31s\n",
      "13:\tlearn: 0.4009210\ttotal: 545ms\tremaining: 3.35s\n",
      "14:\tlearn: 0.4003081\ttotal: 594ms\tremaining: 3.36s\n",
      "15:\tlearn: 0.3999409\ttotal: 637ms\tremaining: 3.34s\n",
      "16:\tlearn: 0.3990904\ttotal: 693ms\tremaining: 3.38s\n",
      "17:\tlearn: 0.3987277\ttotal: 753ms\tremaining: 3.43s\n",
      "18:\tlearn: 0.3987214\ttotal: 771ms\tremaining: 3.29s\n",
      "19:\tlearn: 0.3984789\ttotal: 824ms\tremaining: 3.3s\n",
      "20:\tlearn: 0.3981992\ttotal: 874ms\tremaining: 3.29s\n",
      "21:\tlearn: 0.3979437\ttotal: 915ms\tremaining: 3.24s\n",
      "22:\tlearn: 0.3978998\ttotal: 949ms\tremaining: 3.18s\n",
      "23:\tlearn: 0.3976828\ttotal: 991ms\tremaining: 3.14s\n",
      "24:\tlearn: 0.3976352\ttotal: 1.02s\tremaining: 3.07s\n",
      "25:\tlearn: 0.3972444\ttotal: 1.07s\tremaining: 3.04s\n",
      "26:\tlearn: 0.3970047\ttotal: 1.11s\tremaining: 3.01s\n",
      "27:\tlearn: 0.3967954\ttotal: 1.17s\tremaining: 3.01s\n",
      "28:\tlearn: 0.3967244\ttotal: 1.23s\tremaining: 3.02s\n",
      "29:\tlearn: 0.3967237\ttotal: 1.26s\tremaining: 2.95s\n",
      "30:\tlearn: 0.3964669\ttotal: 1.31s\tremaining: 2.93s\n",
      "31:\tlearn: 0.3962238\ttotal: 1.36s\tremaining: 2.9s\n",
      "32:\tlearn: 0.3958964\ttotal: 1.43s\tremaining: 2.89s\n",
      "33:\tlearn: 0.3956972\ttotal: 1.48s\tremaining: 2.87s\n",
      "34:\tlearn: 0.3955750\ttotal: 1.53s\tremaining: 2.85s\n",
      "35:\tlearn: 0.3954530\ttotal: 1.59s\tremaining: 2.84s\n",
      "36:\tlearn: 0.3953134\ttotal: 1.65s\tremaining: 2.8s\n",
      "37:\tlearn: 0.3952983\ttotal: 1.69s\tremaining: 2.76s\n",
      "38:\tlearn: 0.3950961\ttotal: 1.77s\tremaining: 2.77s\n",
      "39:\tlearn: 0.3949972\ttotal: 1.83s\tremaining: 2.75s\n",
      "40:\tlearn: 0.3947164\ttotal: 1.89s\tremaining: 2.71s\n",
      "41:\tlearn: 0.3946012\ttotal: 1.93s\tremaining: 2.67s\n",
      "42:\tlearn: 0.3942021\ttotal: 1.98s\tremaining: 2.63s\n",
      "43:\tlearn: 0.3941564\ttotal: 2.02s\tremaining: 2.57s\n",
      "44:\tlearn: 0.3941049\ttotal: 2.06s\tremaining: 2.51s\n",
      "45:\tlearn: 0.3939092\ttotal: 2.1s\tremaining: 2.46s\n",
      "46:\tlearn: 0.3938819\ttotal: 2.15s\tremaining: 2.43s\n",
      "47:\tlearn: 0.3936890\ttotal: 2.21s\tremaining: 2.39s\n",
      "48:\tlearn: 0.3935872\ttotal: 2.26s\tremaining: 2.35s\n",
      "49:\tlearn: 0.3935491\ttotal: 2.31s\tremaining: 2.31s\n",
      "50:\tlearn: 0.3934265\ttotal: 2.35s\tremaining: 2.26s\n",
      "51:\tlearn: 0.3931455\ttotal: 2.39s\tremaining: 2.21s\n",
      "52:\tlearn: 0.3929650\ttotal: 2.42s\tremaining: 2.15s\n",
      "53:\tlearn: 0.3928311\ttotal: 2.46s\tremaining: 2.1s\n",
      "54:\tlearn: 0.3927913\ttotal: 2.5s\tremaining: 2.05s\n",
      "55:\tlearn: 0.3927728\ttotal: 2.54s\tremaining: 1.99s\n",
      "56:\tlearn: 0.3926193\ttotal: 2.58s\tremaining: 1.95s\n",
      "57:\tlearn: 0.3925252\ttotal: 2.64s\tremaining: 1.91s\n",
      "58:\tlearn: 0.3921999\ttotal: 2.7s\tremaining: 1.88s\n",
      "59:\tlearn: 0.3920292\ttotal: 2.74s\tremaining: 1.83s\n",
      "60:\tlearn: 0.3920085\ttotal: 2.79s\tremaining: 1.78s\n",
      "61:\tlearn: 0.3918825\ttotal: 2.82s\tremaining: 1.73s\n",
      "62:\tlearn: 0.3916679\ttotal: 2.85s\tremaining: 1.68s\n",
      "63:\tlearn: 0.3916028\ttotal: 2.89s\tremaining: 1.63s\n",
      "64:\tlearn: 0.3915945\ttotal: 2.93s\tremaining: 1.58s\n",
      "65:\tlearn: 0.3915582\ttotal: 2.96s\tremaining: 1.53s\n",
      "66:\tlearn: 0.3912286\ttotal: 3.03s\tremaining: 1.49s\n",
      "67:\tlearn: 0.3910214\ttotal: 3.06s\tremaining: 1.44s\n",
      "68:\tlearn: 0.3907061\ttotal: 3.11s\tremaining: 1.4s\n",
      "69:\tlearn: 0.3906757\ttotal: 3.16s\tremaining: 1.35s\n",
      "70:\tlearn: 0.3905508\ttotal: 3.21s\tremaining: 1.31s\n",
      "71:\tlearn: 0.3905330\ttotal: 3.25s\tremaining: 1.26s\n",
      "72:\tlearn: 0.3902922\ttotal: 3.3s\tremaining: 1.22s\n",
      "73:\tlearn: 0.3901877\ttotal: 3.35s\tremaining: 1.18s\n",
      "74:\tlearn: 0.3901692\ttotal: 3.39s\tremaining: 1.13s\n",
      "75:\tlearn: 0.3901331\ttotal: 3.44s\tremaining: 1.09s\n",
      "76:\tlearn: 0.3901048\ttotal: 3.49s\tremaining: 1.04s\n",
      "77:\tlearn: 0.3897442\ttotal: 3.55s\tremaining: 1s\n",
      "78:\tlearn: 0.3895457\ttotal: 3.59s\tremaining: 955ms\n",
      "79:\tlearn: 0.3893688\ttotal: 3.63s\tremaining: 908ms\n",
      "80:\tlearn: 0.3892709\ttotal: 3.67s\tremaining: 862ms\n",
      "81:\tlearn: 0.3892538\ttotal: 3.72s\tremaining: 817ms\n",
      "82:\tlearn: 0.3892462\ttotal: 3.77s\tremaining: 773ms\n",
      "83:\tlearn: 0.3889248\ttotal: 3.86s\tremaining: 735ms\n",
      "84:\tlearn: 0.3886943\ttotal: 3.89s\tremaining: 686ms\n",
      "85:\tlearn: 0.3885499\ttotal: 3.92s\tremaining: 638ms\n",
      "86:\tlearn: 0.3885481\ttotal: 3.96s\tremaining: 591ms\n",
      "87:\tlearn: 0.3885308\ttotal: 3.99s\tremaining: 544ms\n",
      "88:\tlearn: 0.3884495\ttotal: 4.04s\tremaining: 500ms\n",
      "89:\tlearn: 0.3884014\ttotal: 4.09s\tremaining: 454ms\n",
      "90:\tlearn: 0.3881036\ttotal: 4.13s\tremaining: 409ms\n",
      "91:\tlearn: 0.3880920\ttotal: 4.19s\tremaining: 364ms\n",
      "92:\tlearn: 0.3879727\ttotal: 4.24s\tremaining: 319ms\n",
      "93:\tlearn: 0.3878841\ttotal: 4.3s\tremaining: 274ms\n",
      "94:\tlearn: 0.3877742\ttotal: 4.36s\tremaining: 229ms\n",
      "95:\tlearn: 0.3876964\ttotal: 4.41s\tremaining: 184ms\n",
      "96:\tlearn: 0.3874005\ttotal: 4.45s\tremaining: 138ms\n",
      "97:\tlearn: 0.3872807\ttotal: 4.5s\tremaining: 91.9ms\n",
      "98:\tlearn: 0.3872641\ttotal: 4.57s\tremaining: 46.1ms\n",
      "99:\tlearn: 0.3871121\ttotal: 4.61s\tremaining: 0us\n",
      "Accuracy score is: 0.8593\n"
     ]
    }
   ],
   "source": [
    "# Specify categorical features\n",
    "cats = ['cardholder_name', 'card_type', 'merchant_name', 'merchant_category',\n",
    "       'merchant_state', 'merchant_city', 'merchant_category_code']\n",
    "\n",
    "# Instatiate the model\n",
    "cb = CatBoostClassifier(iterations=100, cat_features=cats, random_state=42)\n",
    "\n",
    "# Fit the model\n",
    "cb.fit(X_train, y_train)\n",
    "\n",
    "# Get the accuracy score\n",
    "print(f\"Accuracy score is: {cb.score(X_train, y_train)}\")"
   ]
  },
  {
   "cell_type": "markdown",
   "id": "172d8c46",
   "metadata": {},
   "source": [
    "## The Model Evaluation"
   ]
  },
  {
   "cell_type": "code",
   "execution_count": 25,
   "id": "c3ef7069",
   "metadata": {},
   "outputs": [
    {
     "name": "stdout",
     "output_type": "stream",
     "text": [
      "======= Evaluation Metrics =======\n",
      "Accuracy -------------- 0.856875\n",
      "Precision ------------- 0.6527070364082249\n",
      "Sensitivity ----------- 0.2647486418241641\n",
      "Specifity ------------- 0.9724940610479449\n",
      "F1 score -------------- 0.376701143168209\n"
     ]
    },
    {
     "data": {
      "image/png": "[encoded data removed]",
      "text/plain": [
       "<Figure size 640x480 with 2 Axes>"
      ]
     },
     "metadata": {},
     "output_type": "display_data"
    }
   ],
   "source": [
    "# Get prediction \n",
    "preds = cb.predict(X_test)\n",
    "\n",
    "# Confusion matrix values\n",
    "tn, fp, fn, tp = confusion_matrix(y_test, preds).ravel()\n",
    "\n",
    "# Compute confusion matrix \n",
    "conf_matrix = confusion_matrix(y_test, preds)\n",
    "\n",
    "# Create display confusion matrix\n",
    "disp = ConfusionMatrixDisplay(confusion_matrix=conf_matrix)\n",
    "disp.plot(values_format='d', cmap=plt.cm.Blues)\n",
    "\n",
    "# Define the title\n",
    "plt.title(f\"The Confusion Matrix of Catboost Model\");\n",
    "\n",
    "print(f\" Evaluation Metrics \".center(34, \"=\"))\n",
    "print(f\"Accuracy -------------- {accuracy_score(y_test, preds)}\")\n",
    "print(f\"Precision ------------- {precision_score(y_test, preds)}\")\n",
    "print(f\"Sensitivity ----------- {recall_score(y_test, preds)}\")\n",
    "print(f\"Specifity ------------- {tn/(tn+fp)}\")\n",
    "print(f\"F1 score -------------- {f1_score(y_test, preds)}\")"
   ]
  },
  {
   "cell_type": "markdown",
   "id": "cd1606e9-490e-4644-8a6e-6fbb6898b771",
   "metadata": {},
   "source": [
    "## The Model Feature Importance"
   ]
  },
  {
   "cell_type": "code",
   "execution_count": 26,
   "id": "d98ea336-c08a-4741-a895-f6b0387b9b85",
   "metadata": {},
   "outputs": [
    {
     "data": {
      "application/vnd.plotly.v1+json": {
       "config": {
        "plotlyServerURL": "https://plot.ly"
       },
       "data": [
        {
         "type": "bar",
         "x": [
          "transaction_amount",
          "merchant_state",
          "merchant_city",
          "card_number",
          "cardholder_name",
          "merchant_name",
          "card_type",
          "merchant_category_code",
          "merchant_category"
         ],
         "y": [
          19.965184662456522,
          19.81021510275418,
          18.323420419669212,
          16.98457366493327,
          11.59522774783834,
          8.538474673638747,
          2.217426151575353,
          1.3493626278069184,
          1.2161149493274483
         ]
        }
       ],
       "layout": {
        "autosize": true,
        "template": {
         "data": {
          "bar": [
           {
            "error_x": {
             "color": "#2a3f5f"
            },
            "error_y": {
             "color": "#2a3f5f"
            },
            "marker": {
             "line": {
              "color": "#E5ECF6",
              "width": 0.5
             },
             "pattern": {
              "fillmode": "overlay",
              "size": 10,
              "solidity": 0.2
             }
            },
            "type": "bar"
           }
          ],
          "barpolar": [
           {
            "marker": {
             "line": {
              "color": "#E5ECF6",
              "width": 0.5
             },
             "pattern": {
              "fillmode": "overlay",
              "size": 10,
              "solidity": 0.2
             }
            },
            "type": "barpolar"
           }
          ],
          "carpet": [
           {
            "aaxis": {
             "endlinecolor": "#2a3f5f",
             "gridcolor": "white",
             "linecolor": "white",
             "minorgridcolor": "white",
             "startlinecolor": "#2a3f5f"
            },
            "baxis": {
             "endlinecolor": "#2a3f5f",
             "gridcolor": "white",
             "linecolor": "white",
             "minorgridcolor": "white",
             "startlinecolor": "#2a3f5f"
            },
            "type": "carpet"
           }
          ],
          "choropleth": [
           {
            "colorbar": {
             "outlinewidth": 0,
             "ticks": ""
            },
            "type": "choropleth"
           }
          ],
          "contour": [
           {
            "colorbar": {
             "outlinewidth": 0,
             "ticks": ""
            },
            "colorscale": [
             [
              0,
              "#0d0887"
             ],
             [
              0.1111111111111111,
              "#46039f"
             ],
             [
              0.2222222222222222,
              "#7201a8"
             ],
             [
              0.3333333333333333,
              "#9c179e"
             ],
             [
              0.4444444444444444,
              "#bd3786"
             ],
             [
              0.5555555555555556,
              "#d8576b"
             ],
             [
              0.6666666666666666,
              "#ed7953"
             ],
             [
              0.7777777777777778,
              "#fb9f3a"
             ],
             [
              0.8888888888888888,
              "#fdca26"
             ],
             [
              1,
              "#f0f921"
             ]
            ],
            "type": "contour"
           }
          ],
          "contourcarpet": [
           {
            "colorbar": {
             "outlinewidth": 0,
             "ticks": ""
            },
            "type": "contourcarpet"
           }
          ],
          "heatmap": [
           {
            "colorbar": {
             "outlinewidth": 0,
             "ticks": ""
            },
            "colorscale": [
             [
              0,
              "#0d0887"
             ],
             [
              0.1111111111111111,
              "#46039f"
             ],
             [
              0.2222222222222222,
              "#7201a8"
             ],
             [
              0.3333333333333333,
              "#9c179e"
             ],
             [
              0.4444444444444444,
              "#bd3786"
             ],
             [
              0.5555555555555556,
              "#d8576b"
             ],
             [
              0.6666666666666666,
              "#ed7953"
             ],
             [
              0.7777777777777778,
              "#fb9f3a"
             ],
             [
              0.8888888888888888,
              "#fdca26"
             ],
             [
              1,
              "#f0f921"
             ]
            ],
            "type": "heatmap"
           }
          ],
          "heatmapgl": [
           {
            "colorbar": {
             "outlinewidth": 0,
             "ticks": ""
            },
            "colorscale": [
             [
              0,
              "#0d0887"
             ],
             [
              0.1111111111111111,
              "#46039f"
             ],
             [
              0.2222222222222222,
              "#7201a8"
             ],
             [
              0.3333333333333333,
              "#9c179e"
             ],
             [
              0.4444444444444444,
              "#bd3786"
             ],
             [
              0.5555555555555556,
              "#d8576b"
             ],
             [
              0.6666666666666666,
              "#ed7953"
             ],
             [
              0.7777777777777778,
              "#fb9f3a"
             ],
             [
              0.8888888888888888,
              "#fdca26"
             ],
             [
              1,
              "#f0f921"
             ]
            ],
            "type": "heatmapgl"
           }
          ],
          "histogram": [
           {
            "marker": {
             "pattern": {
              "fillmode": "overlay",
              "size": 10,
              "solidity": 0.2
             }
            },
            "type": "histogram"
           }
          ],
          "histogram2d": [
           {
            "colorbar": {
             "outlinewidth": 0,
             "ticks": ""
            },
            "colorscale": [
             [
              0,
              "#0d0887"
             ],
             [
              0.1111111111111111,
              "#46039f"
             ],
             [
              0.2222222222222222,
              "#7201a8"
             ],
             [
              0.3333333333333333,
              "#9c179e"
             ],
             [
              0.4444444444444444,
              "#bd3786"
             ],
             [
              0.5555555555555556,
              "#d8576b"
             ],
             [
              0.6666666666666666,
              "#ed7953"
             ],
             [
              0.7777777777777778,
              "#fb9f3a"
             ],
             [
              0.8888888888888888,
              "#fdca26"
             ],
             [
              1,
              "#f0f921"
             ]
            ],
            "type": "histogram2d"
           }
          ],
          "histogram2dcontour": [
           {
            "colorbar": {
             "outlinewidth": 0,
             "ticks": ""
            },
            "colorscale": [
             [
              0,
              "#0d0887"
             ],
             [
              0.1111111111111111,
              "#46039f"
             ],
             [
              0.2222222222222222,
              "#7201a8"
             ],
             [
              0.3333333333333333,
              "#9c179e"
             ],
             [
              0.4444444444444444,
              "#bd3786"
             ],
             [
              0.5555555555555556,
              "#d8576b"
             ],
             [
              0.6666666666666666,
              "#ed7953"
             ],
             [
              0.7777777777777778,
              "#fb9f3a"
             ],
             [
              0.8888888888888888,
              "#fdca26"
             ],
             [
              1,
              "#f0f921"
             ]
            ],
            "type": "histogram2dcontour"
           }
          ],
          "mesh3d": [
           {
            "colorbar": {
             "outlinewidth": 0,
             "ticks": ""
            },
            "type": "mesh3d"
           }
          ],
          "parcoords": [
           {
            "line": {
             "colorbar": {
              "outlinewidth": 0,
              "ticks": ""
             }
            },
            "type": "parcoords"
           }
          ],
          "pie": [
           {
            "automargin": true,
            "type": "pie"
           }
          ],
          "scatter": [
           {
            "fillpattern": {
             "fillmode": "overlay",
             "size": 10,
             "solidity": 0.2
            },
            "type": "scatter"
           }
          ],
          "scatter3d": [
           {
            "line": {
             "colorbar": {
              "outlinewidth": 0,
              "ticks": ""
             }
            },
            "marker": {
             "colorbar": {
              "outlinewidth": 0,
              "ticks": ""
             }
            },
            "type": "scatter3d"
           }
          ],
          "scattercarpet": [
           {
            "marker": {
             "colorbar": {
              "outlinewidth": 0,
              "ticks": ""
             }
            },
            "type": "scattercarpet"
           }
          ],
          "scattergeo": [
           {
            "marker": {
             "colorbar": {
              "outlinewidth": 0,
              "ticks": ""
             }
            },
            "type": "scattergeo"
           }
          ],
          "scattergl": [
           {
            "marker": {
             "colorbar": {
              "outlinewidth": 0,
              "ticks": ""
             }
            },
            "type": "scattergl"
           }
          ],
          "scattermapbox": [
           {
            "marker": {
             "colorbar": {
              "outlinewidth": 0,
              "ticks": ""
             }
            },
            "type": "scattermapbox"
           }
          ],
          "scatterpolar": [
           {
            "marker": {
             "colorbar": {
              "outlinewidth": 0,
              "ticks": ""
             }
            },
            "type": "scatterpolar"
           }
          ],
          "scatterpolargl": [
           {
            "marker": {
             "colorbar": {
              "outlinewidth": 0,
              "ticks": ""
             }
            },
            "type": "scatterpolargl"
           }
          ],
          "scatterternary": [
           {
            "marker": {
             "colorbar": {
              "outlinewidth": 0,
              "ticks": ""
             }
            },
            "type": "scatterternary"
           }
          ],
          "surface": [
           {
            "colorbar": {
             "outlinewidth": 0,
             "ticks": ""
            },
            "colorscale": [
             [
              0,
              "#0d0887"
             ],
             [
              0.1111111111111111,
              "#46039f"
             ],
             [
              0.2222222222222222,
              "#7201a8"
             ],
             [
              0.3333333333333333,
              "#9c179e"
             ],
             [
              0.4444444444444444,
              "#bd3786"
             ],
             [
              0.5555555555555556,
              "#d8576b"
             ],
             [
              0.6666666666666666,
              "#ed7953"
             ],
             [
              0.7777777777777778,
              "#fb9f3a"
             ],
             [
              0.8888888888888888,
              "#fdca26"
             ],
             [
              1,
              "#f0f921"
             ]
            ],
            "type": "surface"
           }
          ],
          "table": [
           {
            "cells": {
             "fill": {
              "color": "#EBF0F8"
             },
             "line": {
              "color": "white"
             }
            },
            "header": {
             "fill": {
              "color": "#C8D4E3"
             },
             "line": {
              "color": "white"
             }
            },
            "type": "table"
           }
          ]
         },
         "layout": {
          "annotationdefaults": {
           "arrowcolor": "#2a3f5f",
           "arrowhead": 0,
           "arrowwidth": 1
          },
          "autotypenumbers": "strict",
          "coloraxis": {
           "colorbar": {
            "outlinewidth": 0,
            "ticks": ""
           }
          },
          "colorscale": {
           "diverging": [
            [
             0,
             "#8e0152"
            ],
            [
             0.1,
             "#c51b7d"
            ],
            [
             0.2,
             "#de77ae"
            ],
            [
             0.3,
             "#f1b6da"
            ],
            [
             0.4,
             "#fde0ef"
            ],
            [
             0.5,
             "#f7f7f7"
            ],
            [
             0.6,
             "#e6f5d0"
            ],
            [
             0.7,
             "#b8e186"
            ],
            [
             0.8,
             "#7fbc41"
            ],
            [
             0.9,
             "#4d9221"
            ],
            [
             1,
             "#276419"
            ]
           ],
           "sequential": [
            [
             0,
             "#0d0887"
            ],
            [
             0.1111111111111111,
             "#46039f"
            ],
            [
             0.2222222222222222,
             "#7201a8"
            ],
            [
             0.3333333333333333,
             "#9c179e"
            ],
            [
             0.4444444444444444,
             "#bd3786"
            ],
            [
             0.5555555555555556,
             "#d8576b"
            ],
            [
             0.6666666666666666,
             "#ed7953"
            ],
            [
             0.7777777777777778,
             "#fb9f3a"
            ],
            [
             0.8888888888888888,
             "#fdca26"
            ],
            [
             1,
             "#f0f921"
            ]
           ],
           "sequentialminus": [
            [
             0,
             "#0d0887"
            ],
            [
             0.1111111111111111,
             "#46039f"
            ],
            [
             0.2222222222222222,
             "#7201a8"
            ],
            [
             0.3333333333333333,
             "#9c179e"
            ],
            [
             0.4444444444444444,
             "#bd3786"
            ],
            [
             0.5555555555555556,
             "#d8576b"
            ],
            [
             0.6666666666666666,
             "#ed7953"
            ],
            [
             0.7777777777777778,
             "#fb9f3a"
            ],
            [
             0.8888888888888888,
             "#fdca26"
            ],
            [
             1,
             "#f0f921"
            ]
           ]
          },
          "colorway": [
           "#636efa",
           "#EF553B",
           "#00cc96",
           "#ab63fa",
           "#FFA15A",
           "#19d3f3",
           "#FF6692",
           "#B6E880",
           "#FF97FF",
           "#FECB52"
          ],
          "font": {
           "color": "#2a3f5f"
          },
          "geo": {
           "bgcolor": "white",
           "lakecolor": "white",
           "landcolor": "#E5ECF6",
           "showlakes": true,
           "showland": true,
           "subunitcolor": "white"
          },
          "hoverlabel": {
           "align": "left"
          },
          "hovermode": "closest",
          "mapbox": {
           "style": "light"
          },
          "paper_bgcolor": "white",
          "plot_bgcolor": "#E5ECF6",
          "polar": {
           "angularaxis": {
            "gridcolor": "white",
            "linecolor": "white",
            "ticks": ""
           },
           "bgcolor": "#E5ECF6",
           "radialaxis": {
            "gridcolor": "white",
            "linecolor": "white",
            "ticks": ""
           }
          },
          "scene": {
           "xaxis": {
            "backgroundcolor": "#E5ECF6",
            "gridcolor": "white",
            "gridwidth": 2,
            "linecolor": "white",
            "showbackground": true,
            "ticks": "",
            "zerolinecolor": "white"
           },
           "yaxis": {
            "backgroundcolor": "#E5ECF6",
            "gridcolor": "white",
            "gridwidth": 2,
            "linecolor": "white",
            "showbackground": true,
            "ticks": "",
            "zerolinecolor": "white"
           },
           "zaxis": {
            "backgroundcolor": "#E5ECF6",
            "gridcolor": "white",
            "gridwidth": 2,
            "linecolor": "white",
            "showbackground": true,
            "ticks": "",
            "zerolinecolor": "white"
           }
          },
          "shapedefaults": {
           "line": {
            "color": "#2a3f5f"
           }
          },
          "ternary": {
           "aaxis": {
            "gridcolor": "white",
            "linecolor": "white",
            "ticks": ""
           },
           "baxis": {
            "gridcolor": "white",
            "linecolor": "white",
            "ticks": ""
           },
           "bgcolor": "#E5ECF6",
           "caxis": {
            "gridcolor": "white",
            "linecolor": "white",
            "ticks": ""
           }
          },
          "title": {
           "x": 0.05
          },
          "xaxis": {
           "automargin": true,
           "gridcolor": "white",
           "linecolor": "white",
           "ticks": "",
           "title": {
            "standoff": 15
           },
           "zerolinecolor": "white",
           "zerolinewidth": 2
          },
          "yaxis": {
           "automargin": true,
           "gridcolor": "white",
           "linecolor": "white",
           "ticks": "",
           "title": {
            "standoff": 15
           },
           "zerolinecolor": "white",
           "zerolinewidth": 2
          }
         }
        },
        "title": {
         "text": "Catboost Model Feature Importances"
        },
        "xaxis": {
         "autorange": true,
         "range": [
          -0.5,
          8.5
         ],
         "tickangle": -45,
         "title": {
          "text": "Features"
         },
         "type": "category"
        },
        "yaxis": {
         "autorange": true,
         "range": [
          0,
          21.015983855217392
         ],
         "title": {
          "text": "Importance"
         },
         "type": "linear"
        }
       }
      },
      "image/png": "[encoded data removed]",
      "text/html": [
       "<div>                            <div id=\"8b8884ac-0bbf-40ca-bd2d-40e27d682a84\" class=\"plotly-graph-div\" style=\"height:525px; width:100%;\"></div>            <script type=\"text/javascript\">                require([\"plotly\"], function(Plotly) {                    window.PLOTLYENV=window.PLOTLYENV || {};                                    if (document.getElementById(\"8b8884ac-0bbf-40ca-bd2d-40e27d682a84\")) {                    Plotly.newPlot(                        \"8b8884ac-0bbf-40ca-bd2d-40e27d682a84\",                        [{\"x\":[\"transaction_amount\",\"merchant_state\",\"merchant_city\",\"card_number\",\"cardholder_name\",\"merchant_name\",\"card_type\",\"merchant_category_code\",\"merchant_category\"],\"y\":[19.965184662456522,19.81021510275418,18.323420419669212,16.98457366493327,11.59522774783834,8.538474673638747,2.217426151575353,1.3493626278069184,1.2161149493274483],\"type\":\"bar\"}],                        {\"template\":{\"data\":{\"histogram2dcontour\":[{\"type\":\"histogram2dcontour\",\"colorbar\":{\"outlinewidth\":0,\"ticks\":\"\"},\"colorscale\":[[0.0,\"#0d0887\"],[0.1111111111111111,\"#46039f\"],[0.2222222222222222,\"#7201a8\"],[0.3333333333333333,\"#9c179e\"],[0.4444444444444444,\"#bd3786\"],[0.5555555555555556,\"#d8576b\"],[0.6666666666666666,\"#ed7953\"],[0.7777777777777778,\"#fb9f3a\"],[0.8888888888888888,\"#fdca26\"],[1.0,\"#f0f921\"]]}],\"choropleth\":[{\"type\":\"choropleth\",\"colorbar\":{\"outlinewidth\":0,\"ticks\":\"\"}}],\"histogram2d\":[{\"type\":\"histogram2d\",\"colorbar\":{\"outlinewidth\":0,\"ticks\":\"\"},\"colorscale\":[[0.0,\"#0d0887\"],[0.1111111111111111,\"#46039f\"],[0.2222222222222222,\"#7201a8\"],[0.3333333333333333,\"#9c179e\"],[0.4444444444444444,\"#bd3786\"],[0.5555555555555556,\"#d8576b\"],[0.6666666666666666,\"#ed7953\"],[0.7777777777777778,\"#fb9f3a\"],[0.8888888888888888,\"#fdca26\"],[1.0,\"#f0f921\"]]}],\"heatmap\":[{\"type\":\"heatmap\",\"colorbar\":{\"outlinewidth\":0,\"ticks\":\"\"},\"colorscale\":[[0.0,\"#0d0887\"],[0.1111111111111111,\"#46039f\"],[0.2222222222222222,\"#7201a8\"],[0.3333333333333333,\"#9c179e\"],[0.4444444444444444,\"#bd3786\"],[0.5555555555555556,\"#d8576b\"],[0.6666666666666666,\"#ed7953\"],[0.7777777777777778,\"#fb9f3a\"],[0.8888888888888888,\"#fdca26\"],[1.0,\"#f0f921\"]]}],\"heatmapgl\":[{\"type\":\"heatmapgl\",\"colorbar\":{\"outlinewidth\":0,\"ticks\":\"\"},\"colorscale\":[[0.0,\"#0d0887\"],[0.1111111111111111,\"#46039f\"],[0.2222222222222222,\"#7201a8\"],[0.3333333333333333,\"#9c179e\"],[0.4444444444444444,\"#bd3786\"],[0.5555555555555556,\"#d8576b\"],[0.6666666666666666,\"#ed7953\"],[0.7777777777777778,\"#fb9f3a\"],[0.8888888888888888,\"#fdca26\"],[1.0,\"#f0f921\"]]}],\"contourcarpet\":[{\"type\":\"contourcarpet\",\"colorbar\":{\"outlinewidth\":0,\"ticks\":\"\"}}],\"contour\":[{\"type\":\"contour\",\"colorbar\":{\"outlinewidth\":0,\"ticks\":\"\"},\"colorscale\":[[0.0,\"#0d0887\"],[0.1111111111111111,\"#46039f\"],[0.2222222222222222,\"#7201a8\"],[0.3333333333333333,\"#9c179e\"],[0.4444444444444444,\"#bd3786\"],[0.5555555555555556,\"#d8576b\"],[0.6666666666666666,\"#ed7953\"],[0.7777777777777778,\"#fb9f3a\"],[0.8888888888888888,\"#fdca26\"],[1.0,\"#f0f921\"]]}],\"surface\":[{\"type\":\"surface\",\"colorbar\":{\"outlinewidth\":0,\"ticks\":\"\"},\"colorscale\":[[0.0,\"#0d0887\"],[0.1111111111111111,\"#46039f\"],[0.2222222222222222,\"#7201a8\"],[0.3333333333333333,\"#9c179e\"],[0.4444444444444444,\"#bd3786\"],[0.5555555555555556,\"#d8576b\"],[0.6666666666666666,\"#ed7953\"],[0.7777777777777778,\"#fb9f3a\"],[0.8888888888888888,\"#fdca26\"],[1.0,\"#f0f921\"]]}],\"mesh3d\":[{\"type\":\"mesh3d\",\"colorbar\":{\"outlinewidth\":0,\"ticks\":\"\"}}],\"scatter\":[{\"fillpattern\":{\"fillmode\":\"overlay\",\"size\":10,\"solidity\":0.2},\"type\":\"scatter\"}],\"parcoords\":[{\"type\":\"parcoords\",\"line\":{\"colorbar\":{\"outlinewidth\":0,\"ticks\":\"\"}}}],\"scatterpolargl\":[{\"type\":\"scatterpolargl\",\"marker\":{\"colorbar\":{\"outlinewidth\":0,\"ticks\":\"\"}}}],\"bar\":[{\"error_x\":{\"color\":\"#2a3f5f\"},\"error_y\":{\"color\":\"#2a3f5f\"},\"marker\":{\"line\":{\"color\":\"#E5ECF6\",\"width\":0.5},\"pattern\":{\"fillmode\":\"overlay\",\"size\":10,\"solidity\":0.2}},\"type\":\"bar\"}],\"scattergeo\":[{\"type\":\"scattergeo\",\"marker\":{\"colorbar\":{\"outlinewidth\":0,\"ticks\":\"\"}}}],\"scatterpolar\":[{\"type\":\"scatterpolar\",\"marker\":{\"colorbar\":{\"outlinewidth\":0,\"ticks\":\"\"}}}],\"histogram\":[{\"marker\":{\"pattern\":{\"fillmode\":\"overlay\",\"size\":10,\"solidity\":0.2}},\"type\":\"histogram\"}],\"scattergl\":[{\"type\":\"scattergl\",\"marker\":{\"colorbar\":{\"outlinewidth\":0,\"ticks\":\"\"}}}],\"scatter3d\":[{\"type\":\"scatter3d\",\"line\":{\"colorbar\":{\"outlinewidth\":0,\"ticks\":\"\"}},\"marker\":{\"colorbar\":{\"outlinewidth\":0,\"ticks\":\"\"}}}],\"scattermapbox\":[{\"type\":\"scattermapbox\",\"marker\":{\"colorbar\":{\"outlinewidth\":0,\"ticks\":\"\"}}}],\"scatterternary\":[{\"type\":\"scatterternary\",\"marker\":{\"colorbar\":{\"outlinewidth\":0,\"ticks\":\"\"}}}],\"scattercarpet\":[{\"type\":\"scattercarpet\",\"marker\":{\"colorbar\":{\"outlinewidth\":0,\"ticks\":\"\"}}}],\"carpet\":[{\"aaxis\":{\"endlinecolor\":\"#2a3f5f\",\"gridcolor\":\"white\",\"linecolor\":\"white\",\"minorgridcolor\":\"white\",\"startlinecolor\":\"#2a3f5f\"},\"baxis\":{\"endlinecolor\":\"#2a3f5f\",\"gridcolor\":\"white\",\"linecolor\":\"white\",\"minorgridcolor\":\"white\",\"startlinecolor\":\"#2a3f5f\"},\"type\":\"carpet\"}],\"table\":[{\"cells\":{\"fill\":{\"color\":\"#EBF0F8\"},\"line\":{\"color\":\"white\"}},\"header\":{\"fill\":{\"color\":\"#C8D4E3\"},\"line\":{\"color\":\"white\"}},\"type\":\"table\"}],\"barpolar\":[{\"marker\":{\"line\":{\"color\":\"#E5ECF6\",\"width\":0.5},\"pattern\":{\"fillmode\":\"overlay\",\"size\":10,\"solidity\":0.2}},\"type\":\"barpolar\"}],\"pie\":[{\"automargin\":true,\"type\":\"pie\"}]},\"layout\":{\"autotypenumbers\":\"strict\",\"colorway\":[\"#636efa\",\"#EF553B\",\"#00cc96\",\"#ab63fa\",\"#FFA15A\",\"#19d3f3\",\"#FF6692\",\"#B6E880\",\"#FF97FF\",\"#FECB52\"],\"font\":{\"color\":\"#2a3f5f\"},\"hovermode\":\"closest\",\"hoverlabel\":{\"align\":\"left\"},\"paper_bgcolor\":\"white\",\"plot_bgcolor\":\"#E5ECF6\",\"polar\":{\"bgcolor\":\"#E5ECF6\",\"angularaxis\":{\"gridcolor\":\"white\",\"linecolor\":\"white\",\"ticks\":\"\"},\"radialaxis\":{\"gridcolor\":\"white\",\"linecolor\":\"white\",\"ticks\":\"\"}},\"ternary\":{\"bgcolor\":\"#E5ECF6\",\"aaxis\":{\"gridcolor\":\"white\",\"linecolor\":\"white\",\"ticks\":\"\"},\"baxis\":{\"gridcolor\":\"white\",\"linecolor\":\"white\",\"ticks\":\"\"},\"caxis\":{\"gridcolor\":\"white\",\"linecolor\":\"white\",\"ticks\":\"\"}},\"coloraxis\":{\"colorbar\":{\"outlinewidth\":0,\"ticks\":\"\"}},\"colorscale\":{\"sequential\":[[0.0,\"#0d0887\"],[0.1111111111111111,\"#46039f\"],[0.2222222222222222,\"#7201a8\"],[0.3333333333333333,\"#9c179e\"],[0.4444444444444444,\"#bd3786\"],[0.5555555555555556,\"#d8576b\"],[0.6666666666666666,\"#ed7953\"],[0.7777777777777778,\"#fb9f3a\"],[0.8888888888888888,\"#fdca26\"],[1.0,\"#f0f921\"]],\"sequentialminus\":[[0.0,\"#0d0887\"],[0.1111111111111111,\"#46039f\"],[0.2222222222222222,\"#7201a8\"],[0.3333333333333333,\"#9c179e\"],[0.4444444444444444,\"#bd3786\"],[0.5555555555555556,\"#d8576b\"],[0.6666666666666666,\"#ed7953\"],[0.7777777777777778,\"#fb9f3a\"],[0.8888888888888888,\"#fdca26\"],[1.0,\"#f0f921\"]],\"diverging\":[[0,\"#8e0152\"],[0.1,\"#c51b7d\"],[0.2,\"#de77ae\"],[0.3,\"#f1b6da\"],[0.4,\"#fde0ef\"],[0.5,\"#f7f7f7\"],[0.6,\"#e6f5d0\"],[0.7,\"#b8e186\"],[0.8,\"#7fbc41\"],[0.9,\"#4d9221\"],[1,\"#276419\"]]},\"xaxis\":{\"gridcolor\":\"white\",\"linecolor\":\"white\",\"ticks\":\"\",\"title\":{\"standoff\":15},\"zerolinecolor\":\"white\",\"automargin\":true,\"zerolinewidth\":2},\"yaxis\":{\"gridcolor\":\"white\",\"linecolor\":\"white\",\"ticks\":\"\",\"title\":{\"standoff\":15},\"zerolinecolor\":\"white\",\"automargin\":true,\"zerolinewidth\":2},\"scene\":{\"xaxis\":{\"backgroundcolor\":\"#E5ECF6\",\"gridcolor\":\"white\",\"linecolor\":\"white\",\"showbackground\":true,\"ticks\":\"\",\"zerolinecolor\":\"white\",\"gridwidth\":2},\"yaxis\":{\"backgroundcolor\":\"#E5ECF6\",\"gridcolor\":\"white\",\"linecolor\":\"white\",\"showbackground\":true,\"ticks\":\"\",\"zerolinecolor\":\"white\",\"gridwidth\":2},\"zaxis\":{\"backgroundcolor\":\"#E5ECF6\",\"gridcolor\":\"white\",\"linecolor\":\"white\",\"showbackground\":true,\"ticks\":\"\",\"zerolinecolor\":\"white\",\"gridwidth\":2}},\"shapedefaults\":{\"line\":{\"color\":\"#2a3f5f\"}},\"annotationdefaults\":{\"arrowcolor\":\"#2a3f5f\",\"arrowhead\":0,\"arrowwidth\":1},\"geo\":{\"bgcolor\":\"white\",\"landcolor\":\"#E5ECF6\",\"subunitcolor\":\"white\",\"showland\":true,\"showlakes\":true,\"lakecolor\":\"white\"},\"title\":{\"x\":0.05},\"mapbox\":{\"style\":\"light\"}}},\"xaxis\":{\"title\":{\"text\":\"Features\"},\"tickangle\":-45},\"title\":{\"text\":\"Catboost Model Feature Importances\"},\"yaxis\":{\"title\":{\"text\":\"Importance\"}}},                        {\"responsive\": true}                    ).then(function(){\n",
       "                            \n",
       "var gd = document.getElementById('8b8884ac-0bbf-40ca-bd2d-40e27d682a84');\n",
       "var x = new MutationObserver(function (mutations, observer) {{\n",
       "        var display = window.getComputedStyle(gd).display;\n",
       "        if (!display || display === 'none') {{\n",
       "            console.log([gd, 'removed!']);\n",
       "            Plotly.purge(gd);\n",
       "            observer.disconnect();\n",
       "        }}\n",
       "}});\n",
       "\n",
       "// Listen for the removal of the full notebook cells\n",
       "var notebookContainer = gd.closest('#notebook-container');\n",
       "if (notebookContainer) {{\n",
       "    x.observe(notebookContainer, {childList: true});\n",
       "}}\n",
       "\n",
       "// Listen for the clearing of the current output cell\n",
       "var outputEl = gd.closest('.output');\n",
       "if (outputEl) {{\n",
       "    x.observe(outputEl, {childList: true});\n",
       "}}\n",
       "\n",
       "                        })                };                });            </script>        </div>"
      ]
     },
     "metadata": {},
     "output_type": "display_data"
    }
   ],
   "source": [
    "# Get the feature importance values\n",
    "feature_importance = cb.feature_importances_\n",
    "\n",
    "# Get feature names\n",
    "feature_names = cb.feature_names_\n",
    "\n",
    "# sort features in descending orders\n",
    "sorted_indices = np.argsort(feature_importance)[::-1]\n",
    "sorted_feature_importance = feature_importance[sorted_indices]\n",
    "sorted_feature_names = np.array(feature_names)[sorted_indices]\n",
    "\n",
    "# Create a bar plot\n",
    "fig = go.Figure(data=[go.Bar(x=sorted_feature_names, y=sorted_feature_importance)])\n",
    "\n",
    "fig.update_layout(title=\"Catboost Model Feature Importances\", xaxis_title=\"Features\", yaxis_title=\"Importance\", xaxis_tickangle=-45)\n",
    "fig.show()"
   ]
  },
  {
   "cell_type": "markdown",
   "id": "580c1ffe-02ac-4eb9-b308-a078d50429d8",
   "metadata": {},
   "source": [
    "## LightGBM Model"
   ]
  },
  {
   "cell_type": "code",
   "execution_count": 27,
   "id": "db219916-45d9-46d0-a5e4-52ff9980fdbf",
   "metadata": {},
   "outputs": [],
   "source": [
    "#X_encoded = pd.get_dummies(X, drop_first=True)"
   ]
  },
  {
   "cell_type": "code",
   "execution_count": 28,
   "id": "f8e030f5-81eb-4355-9c62-6bf4b15e1524",
   "metadata": {},
   "outputs": [
    {
     "data": {
      "text/plain": [
       "merchant_city\n",
       "Portland     2029\n",
       "Fargo        1964\n",
       "Columbia     1961\n",
       "Chicago      1095\n",
       "New York     1077\n",
       "             ... \n",
       "Denver        957\n",
       "San Diego     949\n",
       "Casper        947\n",
       "Lincoln       929\n",
       "Dover         922\n",
       "Name: count, Length: 97, dtype: int64"
      ]
     },
     "execution_count": 28,
     "metadata": {},
     "output_type": "execute_result"
    }
   ],
   "source": [
    "X['merchant_city'].value_counts()"
   ]
  },
  {
   "cell_type": "code",
   "execution_count": 34,
   "id": "0fcddaa5-d63b-46f0-86f1-caaaf2da94d5",
   "metadata": {},
   "outputs": [
    {
     "name": "stdout",
     "output_type": "stream",
     "text": [
      "cardholder_name\n",
      "Michael Johnson        39\n",
      "Jennifer Smith         35\n",
      "Michael Davis          34\n",
      "Christopher Johnson    34\n",
      "Michael Brown          33\n",
      "                       ..\n",
      "Alexandra Nelson        1\n",
      "Robert Rodgers          1\n",
      "Melanie Roth            1\n",
      "Eugene Torres           1\n",
      "Shannon Kerr            1\n",
      "Name: count, Length: 70980, dtype: int64\n",
      "card_type\n",
      "visa          25000\n",
      "mastercard    25000\n",
      "amex          25000\n",
      "discover      25000\n",
      "Name: count, dtype: int64\n",
      "merchant_name\n",
      "Morton's The Steakhouse                 1749\n",
      "McDonald's                              1749\n",
      "Chipotle                                1748\n",
      "Subway                                  1744\n",
      "Canlis                                  1739\n",
      "Gary Danko                              1738\n",
      "Del Frisco's Double Eagle Steakhouse    1734\n",
      "Papa John's                             1731\n",
      "Carrabba's Italian Grill                1715\n",
      "Commander's Palace                      1712\n",
      "Five Guys                               1708\n",
      "Cheesecake Factory                      1699\n",
      "Applebee's                              1697\n",
      "Burger King                             1695\n",
      "Eleven Madison Park                     1695\n",
      "Wendy's                                 1694\n",
      "Sonic Drive-In                          1689\n",
      "Panda Express                           1684\n",
      "Jean-Georges                            1682\n",
      "Bonefish Grill                          1680\n",
      "Yard House                              1677\n",
      "Taco Bell                               1677\n",
      "Per Se                                  1675\n",
      "Alinea                                  1671\n",
      "In-N-Out Burger                         1670\n",
      "O'Charley's                             1669\n",
      "TGI Fridays                             1668\n",
      "P.F. Chang's                            1667\n",
      "Momofuku Ko                             1662\n",
      "Domino's Pizza                          1661\n",
      "Bouley                                  1660\n",
      "Dunkin'                                 1660\n",
      "Texas Roadhouse                         1657\n",
      "Olive Garden                            1655\n",
      "Bahama Breeze                           1655\n",
      "Red Lobster                             1652\n",
      "Buffalo Wild Wings                      1649\n",
      "The Capital Grille                      1649\n",
      "Le Bernardin                            1649\n",
      "Pizza Hut                               1647\n",
      "Daniel                                  1647\n",
      "Outback Steakhouse                      1644\n",
      "Chick-fil-A                             1643\n",
      "Starbucks                               1642\n",
      "French Laundry                          1638\n",
      "Restaurant Guy Savoy                    1637\n",
      "Maggiano's Little Italy                 1635\n",
      "Arby's                                  1634\n",
      "Joël Robuchon                           1634\n",
      "Chili's                                 1634\n",
      "Jack in the Box                         1633\n",
      "KFC                                     1624\n",
      "Spago                                   1622\n",
      "Red Robin                               1619\n",
      "Panera Bread                            1617\n",
      "Chef's Table at Brooklyn Fare           1613\n",
      "Cracker Barrel                          1610\n",
      "LongHorn Steakhouse                     1606\n",
      "Ruby Tuesday                            1581\n",
      "Ruth's Chris Steak House                1575\n",
      "Name: count, dtype: int64\n",
      "merchant_category\n",
      "Fast Food        33550\n",
      "Fine Dining      33381\n",
      "Casual Dining    33069\n",
      "Name: count, dtype: int64\n",
      "merchant_state\n",
      "Illinois          2127\n",
      "Alabama           2093\n",
      "Montana           2068\n",
      "New York          2061\n",
      "Arizona           2051\n",
      "Pennsylvania      2050\n",
      "Kansas            2043\n",
      "Nevada            2042\n",
      "Arkansas          2040\n",
      "Oklahoma          2039\n",
      "Tennessee         2032\n",
      "Florida           2029\n",
      "Idaho             2027\n",
      "Mississippi       2025\n",
      "Iowa              2020\n",
      "Maine             2019\n",
      "Oregon            2014\n",
      "New Mexico        2003\n",
      "New Jersey        2003\n",
      "South Carolina    2002\n",
      "Kentucky          2002\n",
      "Texas             2001\n",
      "Utah              1999\n",
      "Michigan          1996\n",
      "Maryland          1994\n",
      "Massachusetts     1993\n",
      "Hawaii            1993\n",
      "Georgia           1988\n",
      "Louisiana         1988\n",
      "New Hampshire     1986\n",
      "Virginia          1985\n",
      "Ohio              1984\n",
      "Colorado          1983\n",
      "Minnesota         1981\n",
      "Delaware          1980\n",
      "Connecticut       1977\n",
      "South Dakota      1977\n",
      "Indiana           1976\n",
      "West Virginia     1974\n",
      "Rhode Island      1971\n",
      "Vermont           1966\n",
      "North Carolina    1965\n",
      "North Dakota      1964\n",
      "Alaska            1956\n",
      "Wisconsin         1951\n",
      "Missouri          1950\n",
      "Washington        1950\n",
      "Nebraska          1944\n",
      "Wyoming           1919\n",
      "California        1919\n",
      "Name: count, dtype: int64\n",
      "merchant_city\n",
      "Portland     2029\n",
      "Fargo        1964\n",
      "Columbia     1961\n",
      "Chicago      1095\n",
      "New York     1077\n",
      "             ... \n",
      "Denver        957\n",
      "San Diego     949\n",
      "Casper        947\n",
      "Lincoln       929\n",
      "Dover         922\n",
      "Name: count, Length: 97, dtype: int64\n",
      "merchant_category_code\n",
      "MCC 5812    66450\n",
      "MCC 5814    33550\n",
      "Name: count, dtype: int64\n"
     ]
    }
   ],
   "source": [
    "cats = ['cardholder_name', 'card_type', 'merchant_name', 'merchant_category',\n",
    "       'merchant_state', 'merchant_city', 'merchant_category_code']\n",
    "\n",
    "for col in cats:\n",
    "    print(df[col].value_counts())"
   ]
  },
  {
   "cell_type": "code",
   "execution_count": 36,
   "id": "d48380d6-f502-407d-8ba5-341f24f23677",
   "metadata": {},
   "outputs": [
    {
     "name": "stdout",
     "output_type": "stream",
     "text": [
      "cardholder_name\n",
      "48271    39\n",
      "30729    35\n",
      "48094    34\n",
      "13875    34\n",
      "48008    33\n",
      "         ..\n",
      "1339      1\n",
      "57591     1\n",
      "47305     1\n",
      "23695     1\n",
      "61322     1\n",
      "Name: count, Length: 70980, dtype: int64\n",
      "card_type\n",
      "3    25000\n",
      "2    25000\n",
      "0    25000\n",
      "1    25000\n",
      "Name: count, dtype: int64\n",
      "merchant_name\n",
      "35    1749\n",
      "33    1749\n",
      "14    1748\n",
      "53    1744\n",
      "8     1739\n",
      "24    1738\n",
      "18    1734\n",
      "42    1731\n",
      "9     1715\n",
      "15    1712\n",
      "22    1708\n",
      "10    1699\n",
      "1     1697\n",
      "7     1695\n",
      "21    1695\n",
      "58    1694\n",
      "50    1689\n",
      "40    1684\n",
      "27    1682\n",
      "4     1680\n",
      "59    1677\n",
      "55    1677\n",
      "43    1675\n",
      "0     1671\n",
      "25    1670\n",
      "36    1669\n",
      "54    1668\n",
      "39    1667\n",
      "34    1662\n",
      "19    1661\n",
      "5     1660\n",
      "20    1660\n",
      "56    1657\n",
      "37    1655\n",
      "3     1655\n",
      "45    1652\n",
      "6     1649\n",
      "57    1649\n",
      "30    1649\n",
      "44    1647\n",
      "17    1647\n",
      "38    1644\n",
      "12    1643\n",
      "52    1642\n",
      "23    1638\n",
      "47    1637\n",
      "32    1635\n",
      "2     1634\n",
      "28    1634\n",
      "13    1634\n",
      "26    1633\n",
      "29    1624\n",
      "51    1622\n",
      "46    1619\n",
      "41    1617\n",
      "11    1613\n",
      "16    1610\n",
      "31    1606\n",
      "48    1581\n",
      "49    1575\n",
      "Name: count, dtype: int64\n",
      "merchant_category\n",
      "1    33550\n",
      "2    33381\n",
      "0    33069\n",
      "Name: count, dtype: int64\n",
      "merchant_state\n",
      "12    2127\n",
      "0     2093\n",
      "25    2068\n",
      "31    2061\n",
      "2     2051\n",
      "37    2050\n",
      "15    2043\n",
      "27    2042\n",
      "3     2040\n",
      "35    2039\n",
      "41    2032\n",
      "8     2029\n",
      "11    2027\n",
      "23    2025\n",
      "14    2020\n",
      "18    2019\n",
      "36    2014\n",
      "30    2003\n",
      "29    2003\n",
      "39    2002\n",
      "16    2002\n",
      "42    2001\n",
      "43    1999\n",
      "21    1996\n",
      "19    1994\n",
      "20    1993\n",
      "10    1993\n",
      "9     1988\n",
      "17    1988\n",
      "28    1986\n",
      "45    1985\n",
      "34    1984\n",
      "5     1983\n",
      "22    1981\n",
      "7     1980\n",
      "6     1977\n",
      "40    1977\n",
      "13    1976\n",
      "47    1974\n",
      "38    1971\n",
      "44    1966\n",
      "32    1965\n",
      "33    1964\n",
      "1     1956\n",
      "48    1951\n",
      "24    1950\n",
      "46    1950\n",
      "26    1944\n",
      "49    1919\n",
      "4     1919\n",
      "Name: count, dtype: int64\n",
      "merchant_city\n",
      "75    2029\n",
      "30    1964\n",
      "22    1961\n",
      "19    1095\n",
      "64    1077\n",
      "      ... \n",
      "24     957\n",
      "84     949\n",
      "14     947\n",
      "48     929\n",
      "27     922\n",
      "Name: count, Length: 97, dtype: int64\n",
      "merchant_category_code\n",
      "0    66450\n",
      "1    33550\n",
      "Name: count, dtype: int64\n"
     ]
    }
   ],
   "source": [
    "for col in cats:\n",
    "    label_encoders[col] = LabelEncoder()\n",
    "    X[col] = label_encoders[col].fit_transform(X[col].astype(str))\n",
    "    print(X[col].value_counts())"
   ]
  },
  {
   "cell_type": "code",
   "execution_count": 37,
   "id": "73d9d033-0a24-42eb-87b4-eed7ce7171d0",
   "metadata": {},
   "outputs": [],
   "source": [
    "# Apply TruncatedSVD for dimensionality redustion\n",
    "# svd = TruncatedSVD(n_components=100)\n",
    "# X_svd = svd.fit_transform(X_encoded)\n",
    "\n",
    "# Apply PCA\n",
    "# pca = PCA(n_components=0.95)  # Retain 95% of variance\n",
    "# X_pca = pca.fit_transform(X_encoded)\n",
    "\n",
    "# Split data into train and test sets\n",
    "X_train, X_test, y_train, y_test, =train_test_split(X, y, test_size=0.2, random_state=42)\n",
    "\n",
    "# Standardize data\n",
    "# sc = StandardScaler()\n",
    "# X_train_sc = sc.fit_transform(X_train)\n",
    "# X_test_sc = sc.fit_transform(X_test)\n",
    "\n",
    "# Set lightgbm train and test data\n",
    "# categorical_feature = [0, 2, 3, 4, 5, 6, 8]\n",
    "\n",
    "train_data = lgb.Dataset(X_train, label=y_train)\n",
    "test_data = lgb.Dataset(X_test, label=y_test, reference=train_data)\n",
    "\n",
    "# Define parameters\n",
    "params = {\n",
    "    'boosting_type': 'gbdt',\n",
    "    'objective': 'binary',\n",
    "    'metric': 'binary_error',\n",
    "    'num_leaves': 31,\n",
    "    'learning_rate': 0.05,\n",
    "    'feature_fraction': 0.9,\n",
    "    'bagging_fraction': 0.8,\n",
    "    'bagging_freq': 5,\n",
    "    'verbose': 0\n",
    "}\n",
    "\n",
    "num_round = 100\n",
    "\n",
    "bst = lgb.train(params, train_data, num_round, valid_sets=[test_data])\n",
    "\n",
    "preds = bst.predict(X_test, num_iteration=bst.best_iteration)\n",
    "\n",
    "preds_binary = [1 if x>= 0.5 else 0 for x in preds]\n"
   ]
  },
  {
   "cell_type": "code",
   "execution_count": 38,
   "id": "ea5879ed-75ed-4a19-ad69-300fd4739af4",
   "metadata": {},
   "outputs": [
    {
     "name": "stdout",
     "output_type": "stream",
     "text": [
      "======= Evaluation Metrics =======\n",
      "Accuracy -------------- 0.85465\n",
      "Precision ------------- 0.6700787401574804\n",
      "Sensitivity ----------- 0.2548667265648398\n",
      "Specifity ------------- 0.9748514494928275\n",
      "F1 score -------------- 0.36927750054241704\n"
     ]
    },
    {
     "data": {
      "image/png": "[encoded data removed]",
      "text/plain": [
       "<Figure size 640x480 with 2 Axes>"
      ]
     },
     "metadata": {},
     "output_type": "display_data"
    }
   ],
   "source": [
    "# Confusion matrix values\n",
    "tn, fp, fn, tp = confusion_matrix(y_test, preds_binary).ravel()\n",
    "\n",
    "# Compute confusion matrix \n",
    "conf_matrix = confusion_matrix(y_test, preds_binary)\n",
    "\n",
    "# Create display confusion matrix\n",
    "disp = ConfusionMatrixDisplay(confusion_matrix=conf_matrix)\n",
    "disp.plot(values_format='d', cmap=plt.cm.Blues)\n",
    "\n",
    "# Define the title\n",
    "plt.title(f\"The Confusion Matrix of LightGBM\");\n",
    "\n",
    "print(f\" Evaluation Metrics \".center(34, \"=\"))\n",
    "print(f\"Accuracy -------------- {accuracy_score(y_test, preds_binary)}\")\n",
    "print(f\"Precision ------------- {precision_score(y_test, preds_binary)}\")\n",
    "print(f\"Sensitivity ----------- {recall_score(y_test, preds_binary)}\")\n",
    "print(f\"Specifity ------------- {tn/(tn+fp)}\")\n",
    "print(f\"F1 score -------------- {f1_score(y_test, preds_binary)}\")"
   ]
  },
  {
   "cell_type": "code",
   "execution_count": null,
   "id": "79856088-d8de-499a-bf7a-105f88f0f553",
   "metadata": {},
   "outputs": [],
   "source": []
  }
 ],
 "metadata": {
  "kernelspec": {
   "display_name": "Python 3 (ipykernel)",
   "language": "python",
   "name": "python3"
  },
  "language_info": {
   "codemirror_mode": {
    "name": "ipython",
    "version": 3
   },
   "file_extension": ".py",
   "mimetype": "text/x-python",
   "name": "python",
   "nbconvert_exporter": "python",
   "pygments_lexer": "ipython3",
   "version": "3.11.6"
  }
 },
 "nbformat": 4,
 "nbformat_minor": 5
}
